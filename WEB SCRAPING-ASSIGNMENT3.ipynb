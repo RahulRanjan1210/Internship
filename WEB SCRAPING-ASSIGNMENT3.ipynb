{
 "cells": [
  {
   "cell_type": "code",
   "execution_count": 100,
   "id": "b3228dc5",
   "metadata": {},
   "outputs": [],
   "source": [
    "#importing required libraries\n",
    "import numpy as np\n",
    "import pandas as pd\n",
    "import selenium\n",
    "import html5lib\n",
    "import html.parser\n",
    "from selenium import webdriver\n",
    "from bs4 import BeautifulSoup\n",
    "from time import sleep\n",
    "from selenium.common.exceptions import NoSuchElementException \n",
    "from selenium.common.exceptions import StaleElementReferenceException\n",
    "from selenium.webdriver.common.keys import Keys\n",
    "from selenium.common.exceptions import TimeoutException\n",
    "from selenium.webdriver.support.ui import WebDriverWait\n",
    "from selenium.webdriver.support import expected_conditions as EC\n",
    "from selenium.webdriver.common.by import By\n",
    "import warnings\n",
    "warnings.filterwarnings('ignore')\n",
    "import requests\n",
    "import re \n",
    "import urllib\n",
    "import time\n",
    "\n"
   ]
  },
  {
   "cell_type": "markdown",
   "id": "10ff024b",
   "metadata": {},
   "source": [
    "## Q1. Write a python program which searches all the product under a particular product from www.amazon.in. The product to be searched will be taken as input from user. For e.g. If user input is ‘guitar’. Then search for guitars."
   ]
  },
  {
   "cell_type": "code",
   "execution_count": 2,
   "id": "1a310983",
   "metadata": {},
   "outputs": [],
   "source": [
    "driver = webdriver.Chrome(\"chromedriver.exe\")"
   ]
  },
  {
   "cell_type": "code",
   "execution_count": 3,
   "id": "2f610995",
   "metadata": {},
   "outputs": [],
   "source": [
    "#passing url:\n",
    "url=' https://www.amazon.in/'\n",
    "driver.get(url)"
   ]
  },
  {
   "cell_type": "code",
   "execution_count": 4,
   "id": "419497a8",
   "metadata": {},
   "outputs": [
    {
     "name": "stdout",
     "output_type": "stream",
     "text": [
      "Enter any nameGuitar\n"
     ]
    }
   ],
   "source": [
    "search_input = driver.find_element_by_id('twotabsearchtextbox')\n",
    "search_input.send_keys (input('Enter any name'))\n",
    "#submit button\n",
    "submit_btn_search = driver.find_element_by_id('nav-search-submit-button')\n",
    "submit_btn_search.submit()"
   ]
  },
  {
   "cell_type": "markdown",
   "id": "9d5febce",
   "metadata": {},
   "source": [
    "## 2. In the above question, now scrape the following details of each product listed in first 3 pages of your search results and save it in a data frame and csv. In case if any product has less than 3 pages in search results then scrape all the products available under that product name. Details to be scraped are: \"Brand Name\", \"Name of the Product\", \"Price\", \"Return/Exchange\", \"Expected Delivery\", \"Availability\" and “Product URL”. In case, if any of the details are missing for any of the product then replace it by “-“."
   ]
  },
  {
   "cell_type": "code",
   "execution_count": 9,
   "id": "620d933b",
   "metadata": {},
   "outputs": [
    {
     "data": {
      "text/plain": [
       "64"
      ]
     },
     "execution_count": 9,
     "metadata": {},
     "output_type": "execute_result"
    }
   ],
   "source": [
    "urls = []\n",
    "\n",
    "for i in driver.find_elements_by_xpath('//a[@class=\"a-link-normal s-no-outline\"]'):\n",
    "    urls.append(i.get_attribute('href'))\n",
    "len(urls)"
   ]
  },
  {
   "cell_type": "code",
   "execution_count": 10,
   "id": "a27270e2",
   "metadata": {},
   "outputs": [],
   "source": [
    "#page 1 variables\n",
    "\n",
    "Brand_Name1 = []\n",
    "NameOfTheProduct_1= []\n",
    "Rating_1= []\n",
    "No_ofRatings_1= []\n",
    "Price1 = []\n",
    "Return_Exchange1 = []\n",
    "ExpectedDelivery1 = []\n",
    "Availability_1= []\n",
    "OtherDetails1 = []"
   ]
  },
  {
   "cell_type": "code",
   "execution_count": 11,
   "id": "84db66fb",
   "metadata": {},
   "outputs": [],
   "source": [
    "#Using try and except methord:\n",
    "\n",
    "# scraping the product brand   \n",
    "\n",
    "for i in urls:\n",
    "    driver.get(i)\n",
    "    time.sleep(3)\n",
    "    \n",
    "    #fetching brand name data\n",
    "    try:\n",
    "        names1 = driver.find_element_by_xpath('//*[@id=\"productOverview_feature_div\"]/div/table/tbody/tr[1]/td[2]')\n",
    "        Brand_Name1.append(names1.text.replace('\\n', 'new line'))\n",
    "    except:\n",
    "        Brand_Name1.append('-')\n",
    "        \n",
    "    #fetching Name Of The Product\n",
    "    try:\n",
    "        nameproduct1 = driver.find_element_by_xpath('//*[@id=\"productTitle\"]')\n",
    "        NameOfTheProduct_1.append(nameproduct1.text.replace('\\n', 'new line'))\n",
    "    except:\n",
    "        NameOfTheProduct_1.append('-')\n",
    "        \n",
    "    # fetching rating\n",
    "    try:\n",
    "        Rating1 = driver.find_element_by_xpath('//*[@id=\"a-popover-content-7\"]/div/div/div/div[1]/span')\n",
    "        Rating_1.append(Rating1.text.replace('\\n', 'new line'))\n",
    "    except:\n",
    "        Rating_1.append('-')\n",
    "        \n",
    "    # fetching No of Rating\n",
    "    try:\n",
    "        NoofRatings1 = driver.find_element_by_xpath('//*[@id=\"acrCustomerReviewText\"]')\n",
    "        No_ofRatings_1.append(NoofRatings1.text.replace('\\n', 'new line'))\n",
    "    except:\n",
    "        No_ofRatings_1.append('-')\n",
    "        \n",
    "    # fetching Price\n",
    "    try:\n",
    "        Prices1 = driver.find_element_by_xpath('//*[@id=\"priceblock_ourprice\"]')\n",
    "        Price1.append(Prices1.text.replace('\\n', 'new line'))\n",
    "    except:\n",
    "        Price1.append('-')\n",
    "        \n",
    "    # fetching Return_Exchange1\n",
    "    try:\n",
    "        Exchange1 = driver.find_element_by_xpath('//*[@id=\"RETURNS_POLICY\"]/span/div[2]/a')\n",
    "        Return_Exchange1.append(Exchange1.text.replace('\\n','new line'))\n",
    "    except:\n",
    "        Return_Exchange1.append('-')\n",
    "        \n",
    "    # fetching Expected Delivery\n",
    "    try:\n",
    "        ExpectedDeliverys1 = driver.find_element_by_xpath('/html/body/div[2]/div[2]/div[5]/div[3]/div[4]/div[12]/div/div/b')\n",
    "        ExpectedDelivery1.append(ExpectedDeliverys1.replace('\\n','new line'))\n",
    "    except:\n",
    "        ExpectedDelivery1.append('-')\n",
    "        \n",
    "    #fetching Availability_1\n",
    "    try: \n",
    "        Availabilitys_1 = driver.find_element_by_xpath('/html/body/div[2]/div[2]/div[5]/div[20]/div/div/div/div[2]/div[1]/div/div/table/tbody/tr[4]/td')\n",
    "        Availability_1.append(Availabilitys_1.replace('\\n','new line'))\n",
    "    except:\n",
    "        Availability_1.append('-')\n",
    "    \n",
    "   "
   ]
  },
  {
   "cell_type": "code",
   "execution_count": 12,
   "id": "bd96c8e0",
   "metadata": {},
   "outputs": [
    {
     "data": {
      "text/plain": [
       "(64, 64, 64, 64, 64, 64, 64, 64, 64)"
      ]
     },
     "execution_count": 12,
     "metadata": {},
     "output_type": "execute_result"
    }
   ],
   "source": [
    "#checking data size's of all collected data\n",
    "len(Brand_Name1),len(NameOfTheProduct_1),len(Rating_1),len(No_ofRatings_1),len(Price1),len(Return_Exchange1),len(ExpectedDelivery1),len(Availability_1),len(urls)"
   ]
  },
  {
   "cell_type": "code",
   "execution_count": 13,
   "id": "1adeded0",
   "metadata": {},
   "outputs": [],
   "source": [
    "#creating data frame\n",
    "df = pd.DataFrame()\n",
    "df['Brand Name']=Brand_Name1\n",
    "df['Name of the Product']=NameOfTheProduct_1\n",
    "df['Rating']=Rating_1\n",
    "df['No of Ratings']=No_ofRatings_1\n",
    "df['Price']=Price1\n",
    "df['Return Exchange']=Return_Exchange1\n",
    "df['Expected Delivery']=ExpectedDelivery1\n",
    "df['Availability']=Availability_1\n",
    "df['Product Url']=urls\n",
    "df.to_csv('file1.csv')\n"
   ]
  },
  {
   "cell_type": "markdown",
   "id": "10cc6e6c",
   "metadata": {},
   "source": [
    "### 3. Write a python program to access the search bar and search button on images.google.com and scrape 10images each for keywords ‘fruits’, ‘cars’ and ‘Machine Learning’, ‘Guitar’, ‘Cakes’."
   ]
  },
  {
   "cell_type": "code",
   "execution_count": 14,
   "id": "6f421c82",
   "metadata": {},
   "outputs": [
    {
     "name": "stdout",
     "output_type": "stream",
     "text": [
      "Requirement already satisfied: google_images_download in c:\\users\\rahul\\anaconda3\\lib\\site-packages (2.8.0)\n",
      "Requirement already satisfied: selenium in c:\\users\\rahul\\anaconda3\\lib\\site-packages (from google_images_download) (4.1.2)\n",
      "Requirement already satisfied: trio-websocket~=0.9 in c:\\users\\rahul\\anaconda3\\lib\\site-packages (from selenium->google_images_download) (0.9.2)\n",
      "Requirement already satisfied: urllib3[secure,socks]~=1.26 in c:\\users\\rahul\\anaconda3\\lib\\site-packages (from selenium->google_images_download) (1.26.4)\n",
      "Requirement already satisfied: trio~=0.17 in c:\\users\\rahul\\anaconda3\\lib\\site-packages (from selenium->google_images_download) (0.20.0)\n",
      "Requirement already satisfied: idna in c:\\users\\rahul\\anaconda3\\lib\\site-packages (from trio~=0.17->selenium->google_images_download) (2.10)\n",
      "Requirement already satisfied: sniffio in c:\\users\\rahul\\anaconda3\\lib\\site-packages (from trio~=0.17->selenium->google_images_download) (1.2.0)\n",
      "Requirement already satisfied: async-generator>=1.9 in c:\\users\\rahul\\anaconda3\\lib\\site-packages (from trio~=0.17->selenium->google_images_download) (1.10)\n",
      "Requirement already satisfied: cffi>=1.14 in c:\\users\\rahul\\anaconda3\\lib\\site-packages (from trio~=0.17->selenium->google_images_download) (1.14.5)\n",
      "Requirement already satisfied: sortedcontainers in c:\\users\\rahul\\anaconda3\\lib\\site-packages (from trio~=0.17->selenium->google_images_download) (2.3.0)\n",
      "Requirement already satisfied: attrs>=19.2.0 in c:\\users\\rahul\\anaconda3\\lib\\site-packages (from trio~=0.17->selenium->google_images_download) (20.3.0)\n",
      "Requirement already satisfied: outcome in c:\\users\\rahul\\anaconda3\\lib\\site-packages (from trio~=0.17->selenium->google_images_download) (1.1.0)\n",
      "Requirement already satisfied: pycparser in c:\\users\\rahul\\anaconda3\\lib\\site-packages (from cffi>=1.14->trio~=0.17->selenium->google_images_download) (2.20)\n",
      "Requirement already satisfied: wsproto>=0.14 in c:\\users\\rahul\\anaconda3\\lib\\site-packages (from trio-websocket~=0.9->selenium->google_images_download) (1.1.0)\n",
      "Requirement already satisfied: cryptography>=1.3.4 in c:\\users\\rahul\\anaconda3\\lib\\site-packages (from urllib3[secure,socks]~=1.26->selenium->google_images_download) (3.4.7)\n",
      "Requirement already satisfied: pyOpenSSL>=0.14 in c:\\users\\rahul\\anaconda3\\lib\\site-packages (from urllib3[secure,socks]~=1.26->selenium->google_images_download) (20.0.1)\n",
      "Requirement already satisfied: certifi in c:\\users\\rahul\\anaconda3\\lib\\site-packages (from urllib3[secure,socks]~=1.26->selenium->google_images_download) (2020.12.5)\n",
      "Requirement already satisfied: PySocks!=1.5.7,<2.0,>=1.5.6 in c:\\users\\rahul\\anaconda3\\lib\\site-packages (from urllib3[secure,socks]~=1.26->selenium->google_images_download) (1.7.1)\n",
      "Requirement already satisfied: six>=1.5.2 in c:\\users\\rahul\\anaconda3\\lib\\site-packages (from pyOpenSSL>=0.14->urllib3[secure,socks]~=1.26->selenium->google_images_download) (1.15.0)\n",
      "Requirement already satisfied: h11<1,>=0.9.0 in c:\\users\\rahul\\anaconda3\\lib\\site-packages (from wsproto>=0.14->trio-websocket~=0.9->selenium->google_images_download) (0.13.0)\n",
      "Note: you may need to restart the kernel to use updated packages.\n"
     ]
    }
   ],
   "source": [
    "pip install google_images_download"
   ]
  },
  {
   "cell_type": "code",
   "execution_count": 15,
   "id": "f3d0c92c",
   "metadata": {},
   "outputs": [],
   "source": [
    "# importing google_images_download module\n",
    "from google_images_download import google_images_download \n",
    "  \n",
    "# creating object\n",
    "response = google_images_download.googleimagesdownload() "
   ]
  },
  {
   "cell_type": "code",
   "execution_count": 16,
   "id": "1373b618",
   "metadata": {},
   "outputs": [],
   "source": [
    "# Providing search items:\n",
    "search1 = 'Fruits,'\n",
    "search2 = 'Cars,'\n",
    "search3 = 'Machine Learning,'\n",
    "search4 = 'Guitar,'\n",
    "search5 = 'Cakes,'"
   ]
  },
  {
   "cell_type": "code",
   "execution_count": 17,
   "id": "2654cd9d",
   "metadata": {},
   "outputs": [
    {
     "name": "stdout",
     "output_type": "stream",
     "text": [
      "Fruits\n"
     ]
    }
   ],
   "source": [
    "driver = webdriver.Chrome()\n",
    "url = 'http://www.images.google.com'  \n",
    "driver.get(url)\n",
    "search_bar = driver.find_element_by_xpath('//input[@class=\"gLFyf gsfi\"]')    \n",
    "search_bar.send_keys(input())                                                \n",
    "search_btn = driver.find_element_by_xpath('//span[@class=\"z1asCe MZy1Rb\"]')  \n",
    "search_btn.click()"
   ]
  },
  {
   "cell_type": "code",
   "execution_count": 18,
   "id": "e7ee7987",
   "metadata": {},
   "outputs": [
    {
     "name": "stdout",
     "output_type": "stream",
     "text": [
      "Downloading 0 of 10 images\n",
      "Downloading 1 of 10 images\n",
      "Downloading 2 of 10 images\n",
      "Downloading 3 of 10 images\n",
      "Downloading 4 of 10 images\n",
      "Downloading 5 of 10 images\n",
      "Downloading 6 of 10 images\n",
      "Downloading 7 of 10 images\n",
      "Downloading 8 of 10 images\n",
      "Downloading 9 of 10 images\n",
      "Downloading 10 of 10 images\n"
     ]
    }
   ],
   "source": [
    "for i in range(2000):\n",
    "    driver.execute_script(\"window.scrollBy(0,10000)\")\n",
    "    images = driver.find_elements_by_xpath('//img[@class=\"rg_i Q4LuWd\"]')\n",
    "\n",
    "img_urls = []\n",
    "for image in images:\n",
    "    source = image.get_attribute('src')\n",
    "    if source is not None:\n",
    "        if(source[0:4] == 'http'):\n",
    "            img_urls.append(source)\n",
    "len(img_urls)      \n",
    "for i in range(len(img_urls)):\n",
    "    if i>10:\n",
    "        break\n",
    "    print(\"Downloading {0} of {1} images\".format(i,10))\n",
    "    response = requests.get(img_urls[i])"
   ]
  },
  {
   "cell_type": "code",
   "execution_count": 19,
   "id": "b3fc9961",
   "metadata": {},
   "outputs": [
    {
     "name": "stdout",
     "output_type": "stream",
     "text": [
      "Cars\n"
     ]
    }
   ],
   "source": [
    "url = 'http://www.images.google.com' \n",
    "driver.get(url)\n",
    "search_bar = driver.find_element_by_xpath('//input[@class=\"gLFyf gsfi\"]')\n",
    "search_bar.send_keys(input())\n",
    "search_btn = driver.find_element_by_xpath('//span[@class=\"z1asCe MZy1Rb\"]')\n",
    "search_btn.click()"
   ]
  },
  {
   "cell_type": "code",
   "execution_count": 20,
   "id": "aa01d4f1",
   "metadata": {},
   "outputs": [
    {
     "name": "stdout",
     "output_type": "stream",
     "text": [
      "Downloading 0 of 10 images\n",
      "Downloading 1 of 10 images\n",
      "Downloading 2 of 10 images\n",
      "Downloading 3 of 10 images\n",
      "Downloading 4 of 10 images\n",
      "Downloading 5 of 10 images\n",
      "Downloading 6 of 10 images\n",
      "Downloading 7 of 10 images\n",
      "Downloading 8 of 10 images\n",
      "Downloading 9 of 10 images\n",
      "Downloading 10 of 10 images\n"
     ]
    }
   ],
   "source": [
    "for i in range(200):\n",
    "    driver.execute_script(\"window.scrollBy(0,1000)\")\n",
    "    images = driver.find_elements_by_xpath('//img[@class=\"rg_i Q4LuWd\"]')\n",
    "\n",
    "img_urls = []\n",
    "for image in images:\n",
    "    source = image.get_attribute('src')\n",
    "    if source is not None:\n",
    "        if(source[0:4] == 'http'):\n",
    "            img_urls.append(source)\n",
    "len(img_urls)      \n",
    "for i in range(len(img_urls)):\n",
    "    if i>10:\n",
    "        break\n",
    "    print(\"Downloading {0} of {1} images\".format(i,10))\n",
    "    response = requests.get(img_urls[i])"
   ]
  },
  {
   "cell_type": "code",
   "execution_count": 21,
   "id": "ceac0cea",
   "metadata": {},
   "outputs": [
    {
     "name": "stdout",
     "output_type": "stream",
     "text": [
      "Machine learning\n"
     ]
    }
   ],
   "source": [
    "url = 'http://www.images.google.com' \n",
    "driver.get(url)\n",
    "search_bar = driver.find_element_by_xpath('//input[@class=\"gLFyf gsfi\"]')\n",
    "search_bar.send_keys(input())\n",
    "search_btn = driver.find_element_by_xpath('//span[@class=\"z1asCe MZy1Rb\"]')\n",
    "search_btn.click()"
   ]
  },
  {
   "cell_type": "code",
   "execution_count": 22,
   "id": "ee34473e",
   "metadata": {},
   "outputs": [
    {
     "name": "stdout",
     "output_type": "stream",
     "text": [
      "Downloading 0 of 10 images\n",
      "Downloading 1 of 10 images\n",
      "Downloading 2 of 10 images\n",
      "Downloading 3 of 10 images\n",
      "Downloading 4 of 10 images\n",
      "Downloading 5 of 10 images\n",
      "Downloading 6 of 10 images\n",
      "Downloading 7 of 10 images\n",
      "Downloading 8 of 10 images\n",
      "Downloading 9 of 10 images\n",
      "Downloading 10 of 10 images\n"
     ]
    }
   ],
   "source": [
    "for i in range(200):\n",
    "    driver.execute_script(\"window.scrollBy(0,1000)\")\n",
    "    images = driver.find_elements_by_xpath('//img[@class=\"rg_i Q4LuWd\"]')\n",
    "\n",
    "img_urls = []\n",
    "for image in images:\n",
    "    source = image.get_attribute('src')\n",
    "    if source is not None:\n",
    "        if(source[0:4] == 'http'):\n",
    "            img_urls.append(source)\n",
    "len(img_urls)      \n",
    "for i in range(len(img_urls)):\n",
    "    if i>10:\n",
    "        break\n",
    "    print(\"Downloading {0} of {1} images\".format(i,10))\n",
    "    response = requests.get(img_urls[i])"
   ]
  },
  {
   "cell_type": "code",
   "execution_count": 23,
   "id": "1e5535ad",
   "metadata": {},
   "outputs": [
    {
     "name": "stdout",
     "output_type": "stream",
     "text": [
      "Guitar\n"
     ]
    }
   ],
   "source": [
    "url = 'http://www.images.google.com' \n",
    "driver.get(url)\n",
    "search_bar = driver.find_element_by_xpath('//input[@class=\"gLFyf gsfi\"]')\n",
    "search_bar.send_keys(input())\n",
    "search_btn = driver.find_element_by_xpath('//span[@class=\"z1asCe MZy1Rb\"]')\n",
    "search_btn.click()"
   ]
  },
  {
   "cell_type": "code",
   "execution_count": 24,
   "id": "682cee39",
   "metadata": {},
   "outputs": [
    {
     "name": "stdout",
     "output_type": "stream",
     "text": [
      "Downloading 0 of 10 images\n",
      "Downloading 1 of 10 images\n",
      "Downloading 2 of 10 images\n",
      "Downloading 3 of 10 images\n",
      "Downloading 4 of 10 images\n",
      "Downloading 5 of 10 images\n",
      "Downloading 6 of 10 images\n",
      "Downloading 7 of 10 images\n",
      "Downloading 8 of 10 images\n",
      "Downloading 9 of 10 images\n",
      "Downloading 10 of 10 images\n"
     ]
    }
   ],
   "source": [
    "for i in range(200):\n",
    "    driver.execute_script(\"window.scrollBy(0,1000)\")\n",
    "    images = driver.find_elements_by_xpath('//img[@class=\"rg_i Q4LuWd\"]')\n",
    "\n",
    "img_urls = []\n",
    "for image in images:\n",
    "    source = image.get_attribute('src')\n",
    "    if source is not None:\n",
    "        if(source[0:4] == 'http'):\n",
    "            img_urls.append(source)\n",
    "len(img_urls)      \n",
    "for i in range(len(img_urls)):\n",
    "    if i>10:\n",
    "        break\n",
    "    print(\"Downloading {0} of {1} images\".format(i,10))\n",
    "    response = requests.get(img_urls[i])"
   ]
  },
  {
   "cell_type": "code",
   "execution_count": 25,
   "id": "5ec32d72",
   "metadata": {},
   "outputs": [
    {
     "name": "stdout",
     "output_type": "stream",
     "text": [
      "Cakes\n"
     ]
    }
   ],
   "source": [
    "url = 'http://www.images.google.com' \n",
    "driver.get(url)\n",
    "search_bar = driver.find_element_by_xpath('//input[@class=\"gLFyf gsfi\"]')\n",
    "search_bar.send_keys(input())\n",
    "search_btn = driver.find_element_by_xpath('//span[@class=\"z1asCe MZy1Rb\"]')\n",
    "search_btn.click()"
   ]
  },
  {
   "cell_type": "code",
   "execution_count": 26,
   "id": "139669d8",
   "metadata": {},
   "outputs": [
    {
     "name": "stdout",
     "output_type": "stream",
     "text": [
      "Downloading 0 of 10 images\n",
      "Downloading 1 of 10 images\n",
      "Downloading 2 of 10 images\n",
      "Downloading 3 of 10 images\n",
      "Downloading 4 of 10 images\n",
      "Downloading 5 of 10 images\n",
      "Downloading 6 of 10 images\n",
      "Downloading 7 of 10 images\n",
      "Downloading 8 of 10 images\n",
      "Downloading 9 of 10 images\n",
      "Downloading 10 of 10 images\n"
     ]
    }
   ],
   "source": [
    "for i in range(2000):\n",
    "    driver.execute_script(\"window.scrollBy(0,1000)\")\n",
    "    images = driver.find_elements_by_xpath('//img[@class=\"rg_i Q4LuWd\"]')\n",
    "\n",
    "img_urls = []\n",
    "for image in images:\n",
    "    source = image.get_attribute('src')\n",
    "    if source is not None:\n",
    "        if(source[0:4] == 'http'):\n",
    "            img_urls.append(source)\n",
    "len(img_urls)      \n",
    "for i in range(len(img_urls)):\n",
    "    if i>10:\n",
    "        break\n",
    "    print(\"Downloading {0} of {1} images\".format(i,10))\n",
    "    response = requests.get(img_urls[i])"
   ]
  },
  {
   "cell_type": "code",
   "execution_count": 27,
   "id": "9e3d690e",
   "metadata": {},
   "outputs": [],
   "source": [
    "driver.close()"
   ]
  },
  {
   "cell_type": "markdown",
   "id": "4b752a3b",
   "metadata": {},
   "source": [
    "## 4. Write a python program to search for a smartphone(e.g.: Oneplus Nord, pixel 4A, etc.) onwww.flipkart.com and scrape following details for all the search results displayed on 1st page. Details to be scraped: “Brand Name”, “Smartphone name”, “Colour”, “RAM”, “Storage(ROM)”, “Primary Camera”, “Secondary Camera”, “Display Size”, “Battery Capacity”, “Price”, “Product URL”. Incase if any of the details is missing then replace it by “- “. Save your results in a dataframe and CSV.\n"
   ]
  },
  {
   "cell_type": "code",
   "execution_count": 53,
   "id": "d5cb3ccd",
   "metadata": {},
   "outputs": [],
   "source": [
    "# Creating an instance of webdriver for google chrome\n",
    "driver = webdriver.Chrome()"
   ]
  },
  {
   "cell_type": "code",
   "execution_count": 54,
   "id": "29870168",
   "metadata": {},
   "outputs": [],
   "source": [
    "# Using webdriver we'll now open the flipkart website in chrome\n",
    "url = 'https://flipkart.com'\n",
    "\n",
    "page = driver.get(url)"
   ]
  },
  {
   "cell_type": "code",
   "execution_count": 56,
   "id": "05cd293b",
   "metadata": {},
   "outputs": [],
   "source": [
    "mobile=driver.find_element_by_xpath('//*[@id=\"container\"]/div/div[1]/div[1]/div[2]/div[2]/form/div/div/input')\n",
    "mobile.send_keys(\"mobile phones\")"
   ]
  },
  {
   "cell_type": "code",
   "execution_count": 57,
   "id": "d58acbfd",
   "metadata": {},
   "outputs": [],
   "source": [
    "# search bar:\n",
    "search_bar = driver.find_element_by_class_name('_34RNph')\n",
    "search_bar.click()"
   ]
  },
  {
   "cell_type": "code",
   "execution_count": 58,
   "id": "be3259ac",
   "metadata": {},
   "outputs": [],
   "source": [
    "def get_url(search_item):\n",
    "    '''\n",
    "    This function fetches the URL of the item that you want to search\n",
    "    '''\n",
    "    template = 'https://www.flipkart.com/search?q={}&as=on&as-show=on&otracker=AS_Query_HistoryAutoSuggest_1_4_na_na_na&otracker1=AS_Query_HistoryAutoSuggest_1_4_na_na_na&as-pos=1&as-type=HISTORY&suggestionId=mobile+phones&requestId=e625b409-ca2a-456a-b53c-0fdb7618b658&as-backfill=on'\n",
    "    # We'are replacing every space with '+' to adhere with the pattern \n",
    "    search_item = search_item.replace(\" \",\"+\")\n",
    "    return template.format(search_item)"
   ]
  },
  {
   "cell_type": "code",
   "execution_count": 59,
   "id": "477143ad",
   "metadata": {},
   "outputs": [
    {
     "name": "stdout",
     "output_type": "stream",
     "text": [
      "https://www.flipkart.com/search?q=mobile+phones&as=on&as-show=on&otracker=AS_Query_HistoryAutoSuggest_1_4_na_na_na&otracker1=AS_Query_HistoryAutoSuggest_1_4_na_na_na&as-pos=1&as-type=HISTORY&suggestionId=mobile+phones&requestId=e625b409-ca2a-456a-b53c-0fdb7618b658&as-backfill=on\n"
     ]
    }
   ],
   "source": [
    "# Checking whether the function is working properly or not\n",
    "url = get_url('mobile phones')\n",
    "print(url)"
   ]
  },
  {
   "cell_type": "code",
   "execution_count": 60,
   "id": "810539fc",
   "metadata": {},
   "outputs": [],
   "source": [
    "soup = BeautifulSoup(driver.page_source, 'html.parser')"
   ]
  },
  {
   "cell_type": "code",
   "execution_count": 61,
   "id": "9983d5dd",
   "metadata": {},
   "outputs": [
    {
     "data": {
      "text/plain": [
       "24"
      ]
     },
     "execution_count": 61,
     "metadata": {},
     "output_type": "execute_result"
    }
   ],
   "source": [
    "results = soup.find_all('a',{'class':\"_1fQZEK\"})\n",
    "len(results)"
   ]
  },
  {
   "cell_type": "code",
   "execution_count": 62,
   "id": "dcb10bad",
   "metadata": {},
   "outputs": [],
   "source": [
    "# picking the 1st card from the complete list of cards\n",
    "item = results[0]"
   ]
  },
  {
   "cell_type": "code",
   "execution_count": 63,
   "id": "b2df153f",
   "metadata": {},
   "outputs": [
    {
     "data": {
      "text/plain": [
       "'LAVA GEM'"
      ]
     },
     "execution_count": 63,
     "metadata": {},
     "output_type": "execute_result"
    }
   ],
   "source": [
    "# Extracting the model of the phone from the 1st card\n",
    "model = item.find('div',{'class':\"_4rR01T\"}).text\n",
    "model"
   ]
  },
  {
   "cell_type": "code",
   "execution_count": 64,
   "id": "5f512d33",
   "metadata": {},
   "outputs": [
    {
     "data": {
      "text/plain": [
       "'4.2'"
      ]
     },
     "execution_count": 64,
     "metadata": {},
     "output_type": "execute_result"
    }
   ],
   "source": [
    "# Extracting Stars from 1st card\n",
    "star = item.find('div',{'class':\"_3LWZlK\"}).text\n",
    "star"
   ]
  },
  {
   "cell_type": "code",
   "execution_count": 65,
   "id": "18db1f51",
   "metadata": {},
   "outputs": [
    {
     "data": {
      "text/plain": [
       "'25,372 Ratings'"
      ]
     },
     "execution_count": 65,
     "metadata": {},
     "output_type": "execute_result"
    }
   ],
   "source": [
    "# Extracting Number of Ratings from 1st card\n",
    "num_ratings = item.find('span',{'class':\"_2_R_DZ\"}).text.replace('\\xa0&\\xa0',\" ; \")[0:item.find('span',{'class':\"_2_R_DZ\"}).text.replace('\\xa0&\\xa0',\" ; \").find(';')].strip()\n",
    "num_ratings"
   ]
  },
  {
   "cell_type": "code",
   "execution_count": 66,
   "id": "022986cc",
   "metadata": {},
   "outputs": [
    {
     "data": {
      "text/plain": [
       "'2,786 Reviews'"
      ]
     },
     "execution_count": 66,
     "metadata": {},
     "output_type": "execute_result"
    }
   ],
   "source": [
    "# Extracting Number of Reviews from 1st card\n",
    "reviews = item.find('span',{'class':\"_2_R_DZ\"}).text.replace('\\xa0&\\xa0',\" ; \")[item.find('span',{'class':\"_2_R_DZ\"}).text.replace('\\xa0&\\xa0',\" ; \").find(';')+1:].strip()\n",
    "reviews"
   ]
  },
  {
   "cell_type": "code",
   "execution_count": 67,
   "id": "74b3c80c",
   "metadata": {},
   "outputs": [
    {
     "data": {
      "text/plain": [
       "'512 MB RAM '"
      ]
     },
     "execution_count": 67,
     "metadata": {},
     "output_type": "execute_result"
    }
   ],
   "source": [
    "# Extracting RAM from the 1st card\n",
    "ram = item.find('li',{'class':\"rgWa7D\"}).text[0:item.find('li',{'class':\"rgWa7D\"}).text.find('|')]\n",
    "ram"
   ]
  },
  {
   "cell_type": "code",
   "execution_count": 68,
   "id": "d69d6b65",
   "metadata": {},
   "outputs": [
    {
     "data": {
      "text/plain": [
       "'512 MB RO'"
      ]
     },
     "execution_count": 68,
     "metadata": {},
     "output_type": "execute_result"
    }
   ],
   "source": [
    "# Extracting Storage/ROM from 1st card\n",
    "storage = item.find('li',{'class':\"rgWa7D\"}).text[item.find('li',{'class':\"rgWa7D\"}).text.find('|')+1:][0:10].strip()\n",
    "storage"
   ]
  },
  {
   "cell_type": "code",
   "execution_count": 69,
   "id": "cdd800f4",
   "metadata": {},
   "outputs": [
    {
     "data": {
      "text/plain": [
       "' Expandable Upto 32 GB'"
      ]
     },
     "execution_count": 69,
     "metadata": {},
     "output_type": "execute_result"
    }
   ],
   "source": [
    "# Extracting whether there is an option of expanding the storage or not\n",
    "expandable = item.find('li',{'class':\"rgWa7D\"}).text[item.find('li',{'class':\"rgWa7D\"}).text.find('|')+1:][13:]\n",
    "expandable"
   ]
  },
  {
   "cell_type": "code",
   "execution_count": 70,
   "id": "32b74792",
   "metadata": {},
   "outputs": [
    {
     "data": {
      "text/plain": [
       "'7.11 cm (2.8 inch) QVGA Display'"
      ]
     },
     "execution_count": 70,
     "metadata": {},
     "output_type": "execute_result"
    }
   ],
   "source": [
    "# Extracting the display option from the 1st card\n",
    "display = item.find_all('li')[1].text.strip()\n",
    "display"
   ]
  },
  {
   "cell_type": "raw",
   "id": "cb5451a5",
   "metadata": {},
   "source": [
    "Extracting item details"
   ]
  },
  {
   "cell_type": "code",
   "execution_count": 71,
   "id": "0a5a3827",
   "metadata": {},
   "outputs": [],
   "source": [
    "def extract_phone_model_info(item):\n",
    "    \"\"\"\n",
    "    This function extracts model, price, ram, storage, stars , number of ratings, number of reviews, \n",
    "    storage expandable option, display option, camera quality, battery , processor, warranty of a phone model at flipkart\n",
    "    \"\"\"\n",
    "    # Extracting the model of the phone from the 1st card\n",
    "    model = item.find('div',{'class':\"_4rR01T\"}).text\n",
    "    # Extracting Stars from 1st card\n",
    "    star = item.find('div',{'class':\"_3LWZlK\"}).text\n",
    "    # Extracting Number of Ratings from 1st card\n",
    "    num_ratings = item.find('span',{'class':\"_2_R_DZ\"}).text.replace('\\xa0&\\xa0',\" ; \")[0:item.find('span',{'class':\"_2_R_DZ\"}).text.replace('\\xa0&\\xa0',\" ; \").find(';')].strip()\n",
    "    # Extracting Number of Reviews from 1st card\n",
    "    reviews = item.find('span',{'class':\"_2_R_DZ\"}).text.replace('\\xa0&\\xa0',\" ; \")[item.find('span',{'class':\"_2_R_DZ\"}).text.replace('\\xa0&\\xa0',\" ; \").find(';')+1:].strip()\n",
    "    # Extracting RAM from the 1st card\n",
    "    ram = item.find('li',{'class':\"rgWa7D\"}).text[0:item.find('li',{'class':\"rgWa7D\"}).text.find('|')]\n",
    "    # Extracting Storage/ROM from 1st card\n",
    "    storage = item.find('li',{'class':\"rgWa7D\"}).text[item.find('li',{'class':\"rgWa7D\"}).text.find('|')+1:][0:10].strip()\n",
    "    # Extracting whether there is an option of expanding the storage or not\n",
    "    expandable = item.find('li',{'class':\"rgWa7D\"}).text[item.find('li',{'class':\"rgWa7D\"}).text.find('|')+1:][13:]\n",
    "    # Extracting the display option from the 1st card\n",
    "    display = item.find_all('li')[1].text.strip()\n",
    "    # Extracting camera options from the 1st card\n",
    "    camera = item.find_all('li')[2].text.strip()\n",
    "    # Extracting the battery option from the 1st card\n",
    "    battery = item.find_all('li')[3].text\n",
    "    # Extracting the processir option from the 1st card\n",
    "    processor = item.find_all('li')[4].text.strip()\n",
    "    # Extracting Warranty from the 1st card\n",
    "    warranty = item.find_all('li')[-1].text.strip()\n",
    "    # Extracting price of the model from the 1st card\n",
    "    price = item.find('div',{'class':'_30jeq3 _1_WHN1'}).text\n",
    "    result = (model,star,num_ratings,reviews,ram,storage,expandable,display,camera,battery,processor,warranty,price)\n",
    "    return result"
   ]
  },
  {
   "cell_type": "code",
   "execution_count": 72,
   "id": "b7e356d2",
   "metadata": {},
   "outputs": [
    {
     "ename": "IndexError",
     "evalue": "list index out of range",
     "output_type": "error",
     "traceback": [
      "\u001b[1;31m---------------------------------------------------------------------------\u001b[0m",
      "\u001b[1;31mIndexError\u001b[0m                                Traceback (most recent call last)",
      "\u001b[1;32m<ipython-input-72-f7f428424766>\u001b[0m in \u001b[0;36m<module>\u001b[1;34m\u001b[0m\n\u001b[0;32m      3\u001b[0m \u001b[0mresults\u001b[0m \u001b[1;33m=\u001b[0m \u001b[0msoup\u001b[0m\u001b[1;33m.\u001b[0m\u001b[0mfind_all\u001b[0m\u001b[1;33m(\u001b[0m\u001b[1;34m'a'\u001b[0m\u001b[1;33m,\u001b[0m\u001b[1;33m{\u001b[0m\u001b[1;34m'class'\u001b[0m\u001b[1;33m:\u001b[0m\u001b[1;34m\"_1fQZEK\"\u001b[0m\u001b[1;33m}\u001b[0m\u001b[1;33m)\u001b[0m\u001b[1;33m\u001b[0m\u001b[1;33m\u001b[0m\u001b[0m\n\u001b[0;32m      4\u001b[0m \u001b[1;32mfor\u001b[0m \u001b[0mitem\u001b[0m \u001b[1;32min\u001b[0m \u001b[0mresults\u001b[0m\u001b[1;33m:\u001b[0m\u001b[1;33m\u001b[0m\u001b[1;33m\u001b[0m\u001b[0m\n\u001b[1;32m----> 5\u001b[1;33m     \u001b[0mrecords_list\u001b[0m\u001b[1;33m.\u001b[0m\u001b[0mappend\u001b[0m\u001b[1;33m(\u001b[0m\u001b[0mextract_phone_model_info\u001b[0m\u001b[1;33m(\u001b[0m\u001b[0mitem\u001b[0m\u001b[1;33m)\u001b[0m\u001b[1;33m)\u001b[0m\u001b[1;33m\u001b[0m\u001b[1;33m\u001b[0m\u001b[0m\n\u001b[0m",
      "\u001b[1;32m<ipython-input-71-eecef856a2fc>\u001b[0m in \u001b[0;36mextract_phone_model_info\u001b[1;34m(item)\u001b[0m\n\u001b[0;32m     25\u001b[0m     \u001b[0mbattery\u001b[0m \u001b[1;33m=\u001b[0m \u001b[0mitem\u001b[0m\u001b[1;33m.\u001b[0m\u001b[0mfind_all\u001b[0m\u001b[1;33m(\u001b[0m\u001b[1;34m'li'\u001b[0m\u001b[1;33m)\u001b[0m\u001b[1;33m[\u001b[0m\u001b[1;36m3\u001b[0m\u001b[1;33m]\u001b[0m\u001b[1;33m.\u001b[0m\u001b[0mtext\u001b[0m\u001b[1;33m\u001b[0m\u001b[1;33m\u001b[0m\u001b[0m\n\u001b[0;32m     26\u001b[0m     \u001b[1;31m# Extracting the processir option from the 1st card\u001b[0m\u001b[1;33m\u001b[0m\u001b[1;33m\u001b[0m\u001b[1;33m\u001b[0m\u001b[0m\n\u001b[1;32m---> 27\u001b[1;33m     \u001b[0mprocessor\u001b[0m \u001b[1;33m=\u001b[0m \u001b[0mitem\u001b[0m\u001b[1;33m.\u001b[0m\u001b[0mfind_all\u001b[0m\u001b[1;33m(\u001b[0m\u001b[1;34m'li'\u001b[0m\u001b[1;33m)\u001b[0m\u001b[1;33m[\u001b[0m\u001b[1;36m4\u001b[0m\u001b[1;33m]\u001b[0m\u001b[1;33m.\u001b[0m\u001b[0mtext\u001b[0m\u001b[1;33m.\u001b[0m\u001b[0mstrip\u001b[0m\u001b[1;33m(\u001b[0m\u001b[1;33m)\u001b[0m\u001b[1;33m\u001b[0m\u001b[1;33m\u001b[0m\u001b[0m\n\u001b[0m\u001b[0;32m     28\u001b[0m     \u001b[1;31m# Extracting Warranty from the 1st card\u001b[0m\u001b[1;33m\u001b[0m\u001b[1;33m\u001b[0m\u001b[1;33m\u001b[0m\u001b[0m\n\u001b[0;32m     29\u001b[0m     \u001b[0mwarranty\u001b[0m \u001b[1;33m=\u001b[0m \u001b[0mitem\u001b[0m\u001b[1;33m.\u001b[0m\u001b[0mfind_all\u001b[0m\u001b[1;33m(\u001b[0m\u001b[1;34m'li'\u001b[0m\u001b[1;33m)\u001b[0m\u001b[1;33m[\u001b[0m\u001b[1;33m-\u001b[0m\u001b[1;36m1\u001b[0m\u001b[1;33m]\u001b[0m\u001b[1;33m.\u001b[0m\u001b[0mtext\u001b[0m\u001b[1;33m.\u001b[0m\u001b[0mstrip\u001b[0m\u001b[1;33m(\u001b[0m\u001b[1;33m)\u001b[0m\u001b[1;33m\u001b[0m\u001b[1;33m\u001b[0m\u001b[0m\n",
      "\u001b[1;31mIndexError\u001b[0m: list index out of range"
     ]
    }
   ],
   "source": [
    "# Now putting all the information from all the cards/phone models and putting them into a list\n",
    "records_list = []\n",
    "results = soup.find_all('a',{'class':\"_1fQZEK\"})\n",
    "for item in results:\n",
    "    records_list.append(extract_phone_model_info(item))"
   ]
  },
  {
   "cell_type": "code",
   "execution_count": 73,
   "id": "834ff5f4",
   "metadata": {},
   "outputs": [
    {
     "data": {
      "text/html": [
       "<div>\n",
       "<style scoped>\n",
       "    .dataframe tbody tr th:only-of-type {\n",
       "        vertical-align: middle;\n",
       "    }\n",
       "\n",
       "    .dataframe tbody tr th {\n",
       "        vertical-align: top;\n",
       "    }\n",
       "\n",
       "    .dataframe thead th {\n",
       "        text-align: right;\n",
       "    }\n",
       "</style>\n",
       "<table border=\"1\" class=\"dataframe\">\n",
       "  <thead>\n",
       "    <tr style=\"text-align: right;\">\n",
       "      <th></th>\n",
       "      <th>model</th>\n",
       "      <th>star</th>\n",
       "      <th>num_ratings</th>\n",
       "      <th>reviews</th>\n",
       "      <th>ram</th>\n",
       "      <th>storage</th>\n",
       "      <th>expandable</th>\n",
       "      <th>display</th>\n",
       "      <th>camera</th>\n",
       "      <th>battery</th>\n",
       "      <th>processor</th>\n",
       "      <th>warranty</th>\n",
       "      <th>price</th>\n",
       "    </tr>\n",
       "  </thead>\n",
       "  <tbody>\n",
       "    <tr>\n",
       "      <th>0</th>\n",
       "      <td>LAVA GEM</td>\n",
       "      <td>4.2</td>\n",
       "      <td>25,372 Ratings</td>\n",
       "      <td>2,786 Reviews</td>\n",
       "      <td>512 MB RAM</td>\n",
       "      <td>512 MB RO</td>\n",
       "      <td>Expandable Upto 32 GB</td>\n",
       "      <td>7.11 cm (2.8 inch) QVGA Display</td>\n",
       "      <td>1.3MP Rear Camera</td>\n",
       "      <td>1750 mAh Battery</td>\n",
       "      <td>NA Processor</td>\n",
       "      <td>1 year manufacturer Replacement for device and...</td>\n",
       "      <td>₹1,649</td>\n",
       "    </tr>\n",
       "  </tbody>\n",
       "</table>\n",
       "</div>"
      ],
      "text/plain": [
       "      model star     num_ratings        reviews          ram    storage  \\\n",
       "0  LAVA GEM  4.2  25,372 Ratings  2,786 Reviews  512 MB RAM   512 MB RO   \n",
       "\n",
       "               expandable                          display             camera  \\\n",
       "0   Expandable Upto 32 GB  7.11 cm (2.8 inch) QVGA Display  1.3MP Rear Camera   \n",
       "\n",
       "            battery     processor  \\\n",
       "0  1750 mAh Battery  NA Processor   \n",
       "\n",
       "                                            warranty   price  \n",
       "0  1 year manufacturer Replacement for device and...  ₹1,649  "
      ]
     },
     "execution_count": 73,
     "metadata": {},
     "output_type": "execute_result"
    }
   ],
   "source": [
    "pd.DataFrame(records_list,columns=['model',\"star\",\"num_ratings\"\n",
    "   ,\"reviews\",'ram',\"storage\",\"expandable\",\"display\",\"camera\",\"battery\",\"processor\",\"warranty\",\"price\"])"
   ]
  },
  {
   "cell_type": "code",
   "execution_count": 74,
   "id": "09fac372",
   "metadata": {},
   "outputs": [],
   "source": [
    "df=pd.DataFrame(pd.DataFrame(records_list,columns=['model',\"star\",\"num_ratings\"\n",
    "   ,\"reviews\",'ram',\"storage\",\"expandable\",\"display\",\"camera\",\"battery\",\"processor\",\"warranty\",\"price\"]))"
   ]
  },
  {
   "cell_type": "code",
   "execution_count": 75,
   "id": "7d29e4ab",
   "metadata": {},
   "outputs": [],
   "source": [
    "df.to_csv('smartphone.csv')"
   ]
  },
  {
   "cell_type": "code",
   "execution_count": 76,
   "id": "072edcaa",
   "metadata": {},
   "outputs": [
    {
     "data": {
      "text/html": [
       "<div>\n",
       "<style scoped>\n",
       "    .dataframe tbody tr th:only-of-type {\n",
       "        vertical-align: middle;\n",
       "    }\n",
       "\n",
       "    .dataframe tbody tr th {\n",
       "        vertical-align: top;\n",
       "    }\n",
       "\n",
       "    .dataframe thead th {\n",
       "        text-align: right;\n",
       "    }\n",
       "</style>\n",
       "<table border=\"1\" class=\"dataframe\">\n",
       "  <thead>\n",
       "    <tr style=\"text-align: right;\">\n",
       "      <th></th>\n",
       "      <th>model</th>\n",
       "      <th>star</th>\n",
       "      <th>num_ratings</th>\n",
       "      <th>reviews</th>\n",
       "      <th>ram</th>\n",
       "      <th>storage</th>\n",
       "      <th>expandable</th>\n",
       "      <th>display</th>\n",
       "      <th>camera</th>\n",
       "      <th>battery</th>\n",
       "      <th>processor</th>\n",
       "      <th>warranty</th>\n",
       "      <th>price</th>\n",
       "    </tr>\n",
       "  </thead>\n",
       "  <tbody>\n",
       "    <tr>\n",
       "      <th>0</th>\n",
       "      <td>LAVA GEM</td>\n",
       "      <td>4.2</td>\n",
       "      <td>25,372 Ratings</td>\n",
       "      <td>2,786 Reviews</td>\n",
       "      <td>512 MB RAM</td>\n",
       "      <td>512 MB RO</td>\n",
       "      <td>Expandable Upto 32 GB</td>\n",
       "      <td>7.11 cm (2.8 inch) QVGA Display</td>\n",
       "      <td>1.3MP Rear Camera</td>\n",
       "      <td>1750 mAh Battery</td>\n",
       "      <td>NA Processor</td>\n",
       "      <td>1 year manufacturer Replacement for device and...</td>\n",
       "      <td>₹1,649</td>\n",
       "    </tr>\n",
       "  </tbody>\n",
       "</table>\n",
       "</div>"
      ],
      "text/plain": [
       "      model star     num_ratings        reviews          ram    storage  \\\n",
       "0  LAVA GEM  4.2  25,372 Ratings  2,786 Reviews  512 MB RAM   512 MB RO   \n",
       "\n",
       "               expandable                          display             camera  \\\n",
       "0   Expandable Upto 32 GB  7.11 cm (2.8 inch) QVGA Display  1.3MP Rear Camera   \n",
       "\n",
       "            battery     processor  \\\n",
       "0  1750 mAh Battery  NA Processor   \n",
       "\n",
       "                                            warranty   price  \n",
       "0  1 year manufacturer Replacement for device and...  ₹1,649  "
      ]
     },
     "execution_count": 76,
     "metadata": {},
     "output_type": "execute_result"
    }
   ],
   "source": [
    "df"
   ]
  },
  {
   "cell_type": "markdown",
   "id": "6f8bf311",
   "metadata": {},
   "source": [
    "## 5. Write a program to scrap geospatial coordinates (latitude, longitude) of a city searched on google maps."
   ]
  },
  {
   "cell_type": "code",
   "execution_count": 77,
   "id": "2080ee3d",
   "metadata": {},
   "outputs": [],
   "source": [
    "#reading and loading dataset\n",
    "driver= webdriver.Chrome('chromedriver.exe')"
   ]
  },
  {
   "cell_type": "code",
   "execution_count": 78,
   "id": "fa697204",
   "metadata": {},
   "outputs": [],
   "source": [
    "driver.get(\"https://www.google.com/maps\")\n",
    "driver.maximize_window()\n",
    "time.sleep(2)"
   ]
  },
  {
   "cell_type": "code",
   "execution_count": 79,
   "id": "7b0dcc8d",
   "metadata": {},
   "outputs": [
    {
     "name": "stdout",
     "output_type": "stream",
     "text": [
      "Enter the city name: patna\n",
      "\n",
      "latitude=25.6079707,longitude=85.0029546\n"
     ]
    }
   ],
   "source": [
    "#finding the search bar\n",
    "srch_bar = driver.find_element_by_xpath('//input[@class=\"tactile-searchbox-input\"]')    \n",
    "srch_bar.clear()                                               \n",
    "srch_bar.send_keys(input('Enter the city name: ')) \n",
    "\n",
    "#finding the search button and clicking\n",
    "srch_button = driver.find_element_by_xpath('//button[@id=\"searchbox-searchbutton\"]')       \n",
    "srch_button.click()\n",
    "time.sleep(3)\n",
    "\n",
    "#getting the current url\n",
    "Location=driver.current_url\n",
    "\n",
    "try:\n",
    "    coordinates=re.findall(r'@(.*)data',Location)\n",
    "    lat_lon=coordinates[0].split(\",\")\n",
    "    lat=lat_lon[0]\n",
    "    lon=lat_lon[1]\n",
    "except IndexError as e:\n",
    "    coordinates=re.findall(r'@(.*)z',Location)\n",
    "    lat_lon=coordinates[0].split(\",\")\n",
    "    lat=lat_lon[0]\n",
    "    lon=lat_lon[1]\n",
    "print(\"\\nlatitude={},longitude={}\".format(lat,lon))\n",
    "\n",
    "\n",
    "maps=pd.DataFrame({})"
   ]
  },
  {
   "cell_type": "code",
   "execution_count": 80,
   "id": "0742e904",
   "metadata": {},
   "outputs": [],
   "source": [
    "driver.close()"
   ]
  },
  {
   "cell_type": "markdown",
   "id": "2e0dbff2",
   "metadata": {},
   "source": [
    "## 6. Write a program to scrap details of all the funding deals for second quarter (i.e Jan 21 – March 21)  from trak.in"
   ]
  },
  {
   "cell_type": "code",
   "execution_count": 81,
   "id": "6586a6ec",
   "metadata": {},
   "outputs": [],
   "source": [
    "path='chromedriver.exe'\n",
    "driver=webdriver.Chrome(path)"
   ]
  },
  {
   "cell_type": "code",
   "execution_count": 82,
   "id": "0208d672",
   "metadata": {},
   "outputs": [],
   "source": [
    "driver.get(\"https://trak.in/\")\n",
    "driver.maximize_window()\n",
    "time.sleep(2)"
   ]
  },
  {
   "cell_type": "code",
   "execution_count": 83,
   "id": "038d8048",
   "metadata": {},
   "outputs": [],
   "source": [
    "fun_btn=driver.find_element_by_xpath(\"//li[@id='menu-item-51510']/a\").get_attribute('href')\n",
    "driver.get(fun_btn)"
   ]
  },
  {
   "cell_type": "code",
   "execution_count": 86,
   "id": "fdd5a458",
   "metadata": {},
   "outputs": [],
   "source": [
    "funding={}\n",
    "funding[\"Date\"]=[]\n",
    "funding[\"Startup Name\"]=[]\n",
    "funding[\"Industry or Vertical\"]=[]\n",
    "funding[\"Sub Vertical\"]=[]\n",
    "funding[\"Location\"]=[]\n",
    "funding[\"Investor\"]=[]\n",
    "funding[\"Investment Type\"]=[]\n",
    "funding[\"Amount (in $)\"]=[]\n",
    "\n",
    "for i in range(54,57):\n",
    "    driver.find_element_by_xpath('//div[@id=\"tablepress-{}_wrapper\"]/div/label/select/option[4]'.format(i)).click()\n",
    "\n",
    "    # Scraping data of Date\n",
    "    date_tags = driver.find_elements_by_xpath('//table[@id=\"tablepress-{}\"]/tbody/tr/td[2]'.format(i))\n",
    "    for date in date_tags:\n",
    "        funding['Date'].append(date.text)\n",
    "\n",
    "    # Scraping data of Startup Name\n",
    "    name_tags = driver.find_elements_by_xpath('//table[@id=\"tablepress-{}\"]/tbody/tr/td[3]'.format(i))\n",
    "    for name in name_tags:\n",
    "        funding['Startup Name'].append(name.text)\n",
    "    \n",
    "    # Scraping data of Industry OR Vertical\n",
    "    ind_tags = driver.find_elements_by_xpath('//table[@id=\"tablepress-{}\"]/tbody/tr/td[4]'.format(i))\n",
    "    for n in ind_tags:\n",
    "        funding['Industry or Vertical'].append(n.text)\n",
    "    \n",
    "    # Scraping data of Sub-Vertical\n",
    "    sv_tags = driver.find_elements_by_xpath('//table[@id=\"tablepress-{}\"]/tbody/tr/td[5]'.format(i))\n",
    "    for sv in sv_tags:\n",
    "        funding['Sub Vertical'].append(sv.text)\n",
    "\n",
    "    # Scraping data of Location\n",
    "    loc_tags = driver.find_elements_by_xpath('//table[@id=\"tablepress-{}\"]/tbody/tr/td[6]'.format(i))\n",
    "    for loc in loc_tags:\n",
    "        funding['Location'].append(loc.text)\n",
    "    \n",
    "    # Scraping data of Investor\n",
    "    inv_tags = driver.find_elements_by_xpath('//table[@id=\"tablepress-{}\"]/tbody/tr/td[7]'.format(i))\n",
    "    for inv in inv_tags:\n",
    "        funding['Investor'].append(inv.text)\n",
    "        \n",
    "    # Scraping data of Investment Type\n",
    "    invt_tags = driver.find_elements_by_xpath('//table[@id=\"tablepress-{}\"]/tbody/tr/td[8]'.format(i))\n",
    "    for invt in invt_tags:\n",
    "        funding['Investment Type'].append(invt.text)\n",
    "    # Scraping data of Amount\n",
    "    amt_tags = driver.find_elements_by_xpath('//table[@id=\"tablepress-{}\"]/tbody/tr/td[9]'.format(i))\n",
    "    for amt in amt_tags:\n",
    "        funding['Amount (in $)'].append(amt.text)\n"
   ]
  },
  {
   "cell_type": "code",
   "execution_count": 87,
   "id": "7570428e",
   "metadata": {},
   "outputs": [
    {
     "data": {
      "text/html": [
       "<div>\n",
       "<style scoped>\n",
       "    .dataframe tbody tr th:only-of-type {\n",
       "        vertical-align: middle;\n",
       "    }\n",
       "\n",
       "    .dataframe tbody tr th {\n",
       "        vertical-align: top;\n",
       "    }\n",
       "\n",
       "    .dataframe thead th {\n",
       "        text-align: right;\n",
       "    }\n",
       "</style>\n",
       "<table border=\"1\" class=\"dataframe\">\n",
       "  <thead>\n",
       "    <tr style=\"text-align: right;\">\n",
       "      <th></th>\n",
       "      <th>Date</th>\n",
       "      <th>Startup Name</th>\n",
       "      <th>Industry or Vertical</th>\n",
       "      <th>Sub Vertical</th>\n",
       "      <th>Location</th>\n",
       "      <th>Investor</th>\n",
       "      <th>Investment Type</th>\n",
       "      <th>Amount (in $)</th>\n",
       "    </tr>\n",
       "  </thead>\n",
       "  <tbody>\n",
       "    <tr>\n",
       "      <th>0</th>\n",
       "      <td>15/01/2021</td>\n",
       "      <td>Digit Insurance</td>\n",
       "      <td>Financial Services</td>\n",
       "      <td>Insurance Services</td>\n",
       "      <td>Bengaluru</td>\n",
       "      <td>A91 Partners, Faering Capital, TVS Capital Funds</td>\n",
       "      <td>Venture</td>\n",
       "      <td>1,80,00,000</td>\n",
       "    </tr>\n",
       "    <tr>\n",
       "      <th>1</th>\n",
       "      <td>28/01/2021</td>\n",
       "      <td>Bombay Shaving Company</td>\n",
       "      <td>Consumer Goods Company</td>\n",
       "      <td>Shave care, beard care, and skincare products</td>\n",
       "      <td>New Delhi</td>\n",
       "      <td>Reckitt Benckiser</td>\n",
       "      <td>Venture</td>\n",
       "      <td>6,172,258.50</td>\n",
       "    </tr>\n",
       "    <tr>\n",
       "      <th>2</th>\n",
       "      <td>19/01/2021</td>\n",
       "      <td>DeHaat</td>\n",
       "      <td>AgriTech Startup</td>\n",
       "      <td>online marketplace for farm products and services</td>\n",
       "      <td>Patna</td>\n",
       "      <td>Prosus Ventures</td>\n",
       "      <td>Series C</td>\n",
       "      <td>30,000,000</td>\n",
       "    </tr>\n",
       "    <tr>\n",
       "      <th>3</th>\n",
       "      <td>19/01/2021</td>\n",
       "      <td>Darwinbox</td>\n",
       "      <td>SaaS</td>\n",
       "      <td>HR Tech</td>\n",
       "      <td>Mumbai</td>\n",
       "      <td>Salesforce Ventures</td>\n",
       "      <td>Seed</td>\n",
       "      <td>15,000,000</td>\n",
       "    </tr>\n",
       "    <tr>\n",
       "      <th>4</th>\n",
       "      <td>18/01/2021</td>\n",
       "      <td>mfine</td>\n",
       "      <td>Health Tech Startup</td>\n",
       "      <td>AI-powered telemedicine mobile app</td>\n",
       "      <td>Bengaluru</td>\n",
       "      <td>Heritas Capital Management</td>\n",
       "      <td>Venture Round</td>\n",
       "      <td>16,000,000</td>\n",
       "    </tr>\n",
       "    <tr>\n",
       "      <th>5</th>\n",
       "      <td>18/01/2021</td>\n",
       "      <td>Udayy</td>\n",
       "      <td>EdTech</td>\n",
       "      <td>Online learning platform for kids in class 1-5</td>\n",
       "      <td>Gurgaon</td>\n",
       "      <td>Sequoia Capital</td>\n",
       "      <td>Seed Funding</td>\n",
       "      <td>15,000,000</td>\n",
       "    </tr>\n",
       "    <tr>\n",
       "      <th>6</th>\n",
       "      <td>11/01/2021</td>\n",
       "      <td>True Elements</td>\n",
       "      <td>Food Startup</td>\n",
       "      <td>Whole Food plant based Nashta</td>\n",
       "      <td>Pune</td>\n",
       "      <td>SIDBI Venture Capital</td>\n",
       "      <td>Series</td>\n",
       "      <td>100,000,000</td>\n",
       "    </tr>\n",
       "    <tr>\n",
       "      <th>7</th>\n",
       "      <td>13/01/2021</td>\n",
       "      <td>Saveo</td>\n",
       "      <td>B2B E-commerce</td>\n",
       "      <td>Pharmacies</td>\n",
       "      <td>Bengaluru</td>\n",
       "      <td>Matrix Partners India, RTP Global, others</td>\n",
       "      <td>Seed</td>\n",
       "      <td>4,000,000</td>\n",
       "    </tr>\n",
       "    <tr>\n",
       "      <th>8</th>\n",
       "      <td>11/02/2021</td>\n",
       "      <td>Doubtnut</td>\n",
       "      <td>Edu Tech</td>\n",
       "      <td>E-Learning Platform</td>\n",
       "      <td>Gurgaon</td>\n",
       "      <td>SIG Global, Sequoia Capital, WaterBridge Ventu...</td>\n",
       "      <td>Series B</td>\n",
       "      <td>2,500,000</td>\n",
       "    </tr>\n",
       "    <tr>\n",
       "      <th>9</th>\n",
       "      <td>22/02/2021</td>\n",
       "      <td>Zomato</td>\n",
       "      <td>Hospitality</td>\n",
       "      <td>Online Food Delivery Platform</td>\n",
       "      <td>Gurgaon</td>\n",
       "      <td>Tiger Global, Kora</td>\n",
       "      <td>Venture</td>\n",
       "      <td>250,000,000</td>\n",
       "    </tr>\n",
       "    <tr>\n",
       "      <th>10</th>\n",
       "      <td>19/02/2021</td>\n",
       "      <td>Fingerlix</td>\n",
       "      <td>Hospitality</td>\n",
       "      <td>Semi-cooked food delivery app</td>\n",
       "      <td>Mumbai</td>\n",
       "      <td>Rhodium Trust, Accel Partners and Swiggy</td>\n",
       "      <td>Series C</td>\n",
       "      <td>2,747,045.20</td>\n",
       "    </tr>\n",
       "    <tr>\n",
       "      <th>11</th>\n",
       "      <td>17/02/2021</td>\n",
       "      <td>Zolve</td>\n",
       "      <td>FinTech</td>\n",
       "      <td>Global Neobank Venture</td>\n",
       "      <td>Mumbai</td>\n",
       "      <td>Accel Partners and Lightspeed Venture Partners</td>\n",
       "      <td>Seed</td>\n",
       "      <td>1,50,00,000</td>\n",
       "    </tr>\n",
       "    <tr>\n",
       "      <th>12</th>\n",
       "      <td>15/02/2021</td>\n",
       "      <td>KreditBee</td>\n",
       "      <td>Finance</td>\n",
       "      <td>Digital lending platform</td>\n",
       "      <td>Bengaluru</td>\n",
       "      <td>Azim Premji’s PremjiInvest and South Korea’s M...</td>\n",
       "      <td>Series C</td>\n",
       "      <td>75,000,000</td>\n",
       "    </tr>\n",
       "    <tr>\n",
       "      <th>13</th>\n",
       "      <td>12/02/2021</td>\n",
       "      <td>Pepperfry</td>\n",
       "      <td>E-commerce</td>\n",
       "      <td>Multi-brand furniture brand</td>\n",
       "      <td>Mumbai</td>\n",
       "      <td>InnoVen Capital</td>\n",
       "      <td>Debt Financing</td>\n",
       "      <td>4,773,958</td>\n",
       "    </tr>\n",
       "    <tr>\n",
       "      <th>14</th>\n",
       "      <td>12/02/2021</td>\n",
       "      <td>Grofers</td>\n",
       "      <td>E-Commerce</td>\n",
       "      <td>Online supermarket</td>\n",
       "      <td>Gurgaon</td>\n",
       "      <td>SoftBank Vision Fund (SVF)</td>\n",
       "      <td>Unspecified</td>\n",
       "      <td>55,000,000</td>\n",
       "    </tr>\n",
       "    <tr>\n",
       "      <th>15</th>\n",
       "      <td>09/02/2021</td>\n",
       "      <td>Nothing</td>\n",
       "      <td>Technology</td>\n",
       "      <td>Consumer Technology Venture</td>\n",
       "      <td>London</td>\n",
       "      <td>GV</td>\n",
       "      <td>Series A</td>\n",
       "      <td>15,000,000</td>\n",
       "    </tr>\n",
       "    <tr>\n",
       "      <th>16</th>\n",
       "      <td>09/02/2021</td>\n",
       "      <td>SplashLearn</td>\n",
       "      <td>EdTech</td>\n",
       "      <td>Game-based learning programme</td>\n",
       "      <td>Gurgaon</td>\n",
       "      <td>Owl Ventures</td>\n",
       "      <td>Series C</td>\n",
       "      <td>18,000,000</td>\n",
       "    </tr>\n",
       "    <tr>\n",
       "      <th>17</th>\n",
       "      <td>04/03/2021</td>\n",
       "      <td>DealShare</td>\n",
       "      <td>E-commerce</td>\n",
       "      <td>Online shopping platform</td>\n",
       "      <td>Jaipur, Rajasthan</td>\n",
       "      <td>Innoven Capital</td>\n",
       "      <td>Debt Financing</td>\n",
       "      <td>250,000,000</td>\n",
       "    </tr>\n",
       "    <tr>\n",
       "      <th>18</th>\n",
       "      <td>31/03/2021</td>\n",
       "      <td>Uniphore</td>\n",
       "      <td>Technology</td>\n",
       "      <td>Conversational Service Automation (CSA)</td>\n",
       "      <td>Palo Alto</td>\n",
       "      <td>Sorenson Capital Partners</td>\n",
       "      <td>Series D</td>\n",
       "      <td>140,000,000</td>\n",
       "    </tr>\n",
       "    <tr>\n",
       "      <th>19</th>\n",
       "      <td>30/03/2021</td>\n",
       "      <td>Dunzo</td>\n",
       "      <td>E-commerce</td>\n",
       "      <td>Hyper-local delivery app</td>\n",
       "      <td>Bengaluru</td>\n",
       "      <td>Krishtal Advisors Pte Ltd</td>\n",
       "      <td>Series E</td>\n",
       "      <td>8,000,000</td>\n",
       "    </tr>\n",
       "    <tr>\n",
       "      <th>20</th>\n",
       "      <td>30/03/2021</td>\n",
       "      <td>BYJU’S</td>\n",
       "      <td>Edu-tech</td>\n",
       "      <td>Online tutoring</td>\n",
       "      <td>Bengaluru</td>\n",
       "      <td>MC Global Edtech, B Capital, Baron, others</td>\n",
       "      <td>Series F</td>\n",
       "      <td>460,000,000</td>\n",
       "    </tr>\n",
       "    <tr>\n",
       "      <th>21</th>\n",
       "      <td>23/03/2021</td>\n",
       "      <td>SkilloVilla</td>\n",
       "      <td>Edu-tech</td>\n",
       "      <td>Career and job-oriented upskilling.</td>\n",
       "      <td>Bengaluru</td>\n",
       "      <td>Titan Capital, others</td>\n",
       "      <td>Seed</td>\n",
       "      <td>300,000,000</td>\n",
       "    </tr>\n",
       "    <tr>\n",
       "      <th>22</th>\n",
       "      <td>25/03/2021</td>\n",
       "      <td>CityMall</td>\n",
       "      <td>E-commerce</td>\n",
       "      <td>Social ecommerce and online grocery platform</td>\n",
       "      <td>Gurgaon</td>\n",
       "      <td>Accel Partners</td>\n",
       "      <td>Series A</td>\n",
       "      <td>11,000,000</td>\n",
       "    </tr>\n",
       "    <tr>\n",
       "      <th>23</th>\n",
       "      <td>26/03/2021</td>\n",
       "      <td>DotPe</td>\n",
       "      <td>FinTech</td>\n",
       "      <td>Commerce and payments platform to offline ente...</td>\n",
       "      <td>Gurgaon</td>\n",
       "      <td>PayU</td>\n",
       "      <td>Series A</td>\n",
       "      <td>27,500,000</td>\n",
       "    </tr>\n",
       "  </tbody>\n",
       "</table>\n",
       "</div>"
      ],
      "text/plain": [
       "          Date            Startup Name    Industry or Vertical  \\\n",
       "0   15/01/2021         Digit Insurance      Financial Services   \n",
       "1   28/01/2021  Bombay Shaving Company  Consumer Goods Company   \n",
       "2   19/01/2021                  DeHaat        AgriTech Startup   \n",
       "3   19/01/2021               Darwinbox                    SaaS   \n",
       "4   18/01/2021                   mfine     Health Tech Startup   \n",
       "5   18/01/2021                   Udayy                  EdTech   \n",
       "6   11/01/2021           True Elements            Food Startup   \n",
       "7   13/01/2021                   Saveo          B2B E-commerce   \n",
       "8   11/02/2021                Doubtnut                Edu Tech   \n",
       "9   22/02/2021                  Zomato             Hospitality   \n",
       "10  19/02/2021               Fingerlix             Hospitality   \n",
       "11  17/02/2021                   Zolve                 FinTech   \n",
       "12  15/02/2021               KreditBee                 Finance   \n",
       "13  12/02/2021               Pepperfry              E-commerce   \n",
       "14  12/02/2021                 Grofers              E-Commerce   \n",
       "15  09/02/2021                 Nothing              Technology   \n",
       "16  09/02/2021             SplashLearn                  EdTech   \n",
       "17  04/03/2021               DealShare              E-commerce   \n",
       "18  31/03/2021                Uniphore              Technology   \n",
       "19  30/03/2021                   Dunzo              E-commerce   \n",
       "20  30/03/2021                  BYJU’S                Edu-tech   \n",
       "21  23/03/2021             SkilloVilla                Edu-tech   \n",
       "22  25/03/2021                CityMall              E-commerce   \n",
       "23  26/03/2021                   DotPe                 FinTech   \n",
       "\n",
       "                                         Sub Vertical           Location  \\\n",
       "0                                  Insurance Services          Bengaluru   \n",
       "1       Shave care, beard care, and skincare products          New Delhi   \n",
       "2   online marketplace for farm products and services              Patna   \n",
       "3                                             HR Tech             Mumbai   \n",
       "4                  AI-powered telemedicine mobile app          Bengaluru   \n",
       "5      Online learning platform for kids in class 1-5            Gurgaon   \n",
       "6                       Whole Food plant based Nashta               Pune   \n",
       "7                                          Pharmacies          Bengaluru   \n",
       "8                                 E-Learning Platform            Gurgaon   \n",
       "9                       Online Food Delivery Platform            Gurgaon   \n",
       "10                      Semi-cooked food delivery app             Mumbai   \n",
       "11                             Global Neobank Venture             Mumbai   \n",
       "12                           Digital lending platform          Bengaluru   \n",
       "13                        Multi-brand furniture brand             Mumbai   \n",
       "14                                 Online supermarket            Gurgaon   \n",
       "15                        Consumer Technology Venture             London   \n",
       "16                      Game-based learning programme            Gurgaon   \n",
       "17                           Online shopping platform  Jaipur, Rajasthan   \n",
       "18            Conversational Service Automation (CSA)          Palo Alto   \n",
       "19                           Hyper-local delivery app          Bengaluru   \n",
       "20                                    Online tutoring          Bengaluru   \n",
       "21                Career and job-oriented upskilling.          Bengaluru   \n",
       "22       Social ecommerce and online grocery platform            Gurgaon   \n",
       "23  Commerce and payments platform to offline ente...            Gurgaon   \n",
       "\n",
       "                                             Investor Investment Type  \\\n",
       "0    A91 Partners, Faering Capital, TVS Capital Funds         Venture   \n",
       "1                                   Reckitt Benckiser         Venture   \n",
       "2                                     Prosus Ventures        Series C   \n",
       "3                                 Salesforce Ventures            Seed   \n",
       "4                          Heritas Capital Management   Venture Round   \n",
       "5                                     Sequoia Capital    Seed Funding   \n",
       "6                               SIDBI Venture Capital          Series   \n",
       "7           Matrix Partners India, RTP Global, others            Seed   \n",
       "8   SIG Global, Sequoia Capital, WaterBridge Ventu...        Series B   \n",
       "9                                  Tiger Global, Kora         Venture   \n",
       "10           Rhodium Trust, Accel Partners and Swiggy        Series C   \n",
       "11     Accel Partners and Lightspeed Venture Partners            Seed   \n",
       "12  Azim Premji’s PremjiInvest and South Korea’s M...        Series C   \n",
       "13                                    InnoVen Capital  Debt Financing   \n",
       "14                         SoftBank Vision Fund (SVF)     Unspecified   \n",
       "15                                                 GV        Series A   \n",
       "16                                       Owl Ventures        Series C   \n",
       "17                                    Innoven Capital  Debt Financing   \n",
       "18                          Sorenson Capital Partners        Series D   \n",
       "19                          Krishtal Advisors Pte Ltd        Series E   \n",
       "20         MC Global Edtech, B Capital, Baron, others        Series F   \n",
       "21                              Titan Capital, others            Seed   \n",
       "22                                     Accel Partners        Series A   \n",
       "23                                               PayU        Series A   \n",
       "\n",
       "   Amount (in $)  \n",
       "0    1,80,00,000  \n",
       "1   6,172,258.50  \n",
       "2     30,000,000  \n",
       "3     15,000,000  \n",
       "4     16,000,000  \n",
       "5     15,000,000  \n",
       "6    100,000,000  \n",
       "7      4,000,000  \n",
       "8      2,500,000  \n",
       "9    250,000,000  \n",
       "10  2,747,045.20  \n",
       "11   1,50,00,000  \n",
       "12    75,000,000  \n",
       "13     4,773,958  \n",
       "14    55,000,000  \n",
       "15    15,000,000  \n",
       "16    18,000,000  \n",
       "17   250,000,000  \n",
       "18   140,000,000  \n",
       "19     8,000,000  \n",
       "20   460,000,000  \n",
       "21   300,000,000  \n",
       "22    11,000,000  \n",
       "23    27,500,000  "
      ]
     },
     "execution_count": 87,
     "metadata": {},
     "output_type": "execute_result"
    }
   ],
   "source": [
    "df=pd.DataFrame(funding)\n",
    "df"
   ]
  },
  {
   "cell_type": "markdown",
   "id": "c96a2440",
   "metadata": {},
   "source": [
    "## 7. Write a program to scrap all the available details of best gaming laptops from digit.in"
   ]
  },
  {
   "cell_type": "code",
   "execution_count": 88,
   "id": "8d144eba",
   "metadata": {},
   "outputs": [],
   "source": [
    "path='chromedriver.exe'\n",
    "driver=webdriver.Chrome(path)"
   ]
  },
  {
   "cell_type": "code",
   "execution_count": 89,
   "id": "6ba4eeea",
   "metadata": {},
   "outputs": [],
   "source": [
    "driver.get(\"https://www.digit.in/\")\n",
    "driver.maximize_window()\n",
    "time.sleep(2)"
   ]
  },
  {
   "cell_type": "code",
   "execution_count": 90,
   "id": "ecca7f80",
   "metadata": {},
   "outputs": [
    {
     "data": {
      "text/plain": [
       "<selenium.webdriver.remote.webelement.WebElement (session=\"e0f361666dd9b5619938738520c5c2d6\", element=\"6aaf52e5-c537-4832-bd2d-e0b7703773c5\")>"
      ]
     },
     "execution_count": 90,
     "metadata": {},
     "output_type": "execute_result"
    }
   ],
   "source": [
    "# finding web element for search job bar using id\n",
    "# finding web element for search job bar using id\n",
    "search_key =driver.find_element_by_xpath('/html/body/div[1]/div/div[3]/div[2]')\n",
    "search_key"
   ]
  },
  {
   "cell_type": "code",
   "execution_count": 91,
   "id": "e12e2577",
   "metadata": {},
   "outputs": [],
   "source": [
    "search_key.click()"
   ]
  },
  {
   "cell_type": "code",
   "execution_count": 92,
   "id": "0aaf85cd",
   "metadata": {},
   "outputs": [
    {
     "ename": "ElementNotInteractableException",
     "evalue": "Message: element not interactable\n  (Session info: chrome=99.0.4844.84)\nStacktrace:\nBacktrace:\n\tOrdinal0 [0x00F19943+2595139]\n\tOrdinal0 [0x00EAC9F1+2148849]\n\tOrdinal0 [0x00DA43F0+1065968]\n\tOrdinal0 [0x00DCC4D3+1230035]\n\tOrdinal0 [0x00DCBB8B+1227659]\n\tOrdinal0 [0x00DEB9EC+1358316]\n\tOrdinal0 [0x00DC7474+1209460]\n\tOrdinal0 [0x00DEBC04+1358852]\n\tOrdinal0 [0x00DFBAF2+1424114]\n\tOrdinal0 [0x00DEB806+1357830]\n\tOrdinal0 [0x00DC6086+1204358]\n\tOrdinal0 [0x00DC6F96+1208214]\n\tGetHandleVerifier [0x010BB232+1658114]\n\tGetHandleVerifier [0x0117312C+2411516]\n\tGetHandleVerifier [0x00FAF261+560433]\n\tGetHandleVerifier [0x00FAE366+556598]\n\tOrdinal0 [0x00EB286B+2173035]\n\tOrdinal0 [0x00EB75F8+2192888]\n\tOrdinal0 [0x00EB76E5+2193125]\n\tOrdinal0 [0x00EC11FC+2232828]\n\tBaseThreadInitThunk [0x76D1FA29+25]\n\tRtlGetAppContainerNamedObjectPath [0x773A7A7E+286]\n\tRtlGetAppContainerNamedObjectPath [0x773A7A4E+238]\n",
     "output_type": "error",
     "traceback": [
      "\u001b[1;31m---------------------------------------------------------------------------\u001b[0m",
      "\u001b[1;31mElementNotInteractableException\u001b[0m           Traceback (most recent call last)",
      "\u001b[1;32m<ipython-input-92-bbb7d9d75c75>\u001b[0m in \u001b[0;36m<module>\u001b[1;34m\u001b[0m\n\u001b[0;32m      1\u001b[0m \u001b[1;31m# write on search bar\u001b[0m\u001b[1;33m\u001b[0m\u001b[1;33m\u001b[0m\u001b[1;33m\u001b[0m\u001b[0m\n\u001b[1;32m----> 2\u001b[1;33m \u001b[0msearch_key\u001b[0m\u001b[1;33m.\u001b[0m\u001b[0msend_keys\u001b[0m\u001b[1;33m(\u001b[0m\u001b[1;34m'Gaming Laptop'\u001b[0m\u001b[1;33m)\u001b[0m\u001b[1;33m\u001b[0m\u001b[1;33m\u001b[0m\u001b[0m\n\u001b[0m",
      "\u001b[1;32m~\\anaconda3\\lib\\site-packages\\selenium\\webdriver\\remote\\webelement.py\u001b[0m in \u001b[0;36msend_keys\u001b[1;34m(self, *value)\u001b[0m\n\u001b[0;32m    538\u001b[0m                 \u001b[0mvalue\u001b[0m \u001b[1;33m=\u001b[0m \u001b[1;34m'\\n'\u001b[0m\u001b[1;33m.\u001b[0m\u001b[0mjoin\u001b[0m\u001b[1;33m(\u001b[0m\u001b[0mremote_files\u001b[0m\u001b[1;33m)\u001b[0m\u001b[1;33m\u001b[0m\u001b[1;33m\u001b[0m\u001b[0m\n\u001b[0;32m    539\u001b[0m \u001b[1;33m\u001b[0m\u001b[0m\n\u001b[1;32m--> 540\u001b[1;33m         self._execute(Command.SEND_KEYS_TO_ELEMENT,\n\u001b[0m\u001b[0;32m    541\u001b[0m                       {'text': \"\".join(keys_to_typing(value)),\n\u001b[0;32m    542\u001b[0m                        'value': keys_to_typing(value)})\n",
      "\u001b[1;32m~\\anaconda3\\lib\\site-packages\\selenium\\webdriver\\remote\\webelement.py\u001b[0m in \u001b[0;36m_execute\u001b[1;34m(self, command, params)\u001b[0m\n\u001b[0;32m    708\u001b[0m             \u001b[0mparams\u001b[0m \u001b[1;33m=\u001b[0m \u001b[1;33m{\u001b[0m\u001b[1;33m}\u001b[0m\u001b[1;33m\u001b[0m\u001b[1;33m\u001b[0m\u001b[0m\n\u001b[0;32m    709\u001b[0m         \u001b[0mparams\u001b[0m\u001b[1;33m[\u001b[0m\u001b[1;34m'id'\u001b[0m\u001b[1;33m]\u001b[0m \u001b[1;33m=\u001b[0m \u001b[0mself\u001b[0m\u001b[1;33m.\u001b[0m\u001b[0m_id\u001b[0m\u001b[1;33m\u001b[0m\u001b[1;33m\u001b[0m\u001b[0m\n\u001b[1;32m--> 710\u001b[1;33m         \u001b[1;32mreturn\u001b[0m \u001b[0mself\u001b[0m\u001b[1;33m.\u001b[0m\u001b[0m_parent\u001b[0m\u001b[1;33m.\u001b[0m\u001b[0mexecute\u001b[0m\u001b[1;33m(\u001b[0m\u001b[0mcommand\u001b[0m\u001b[1;33m,\u001b[0m \u001b[0mparams\u001b[0m\u001b[1;33m)\u001b[0m\u001b[1;33m\u001b[0m\u001b[1;33m\u001b[0m\u001b[0m\n\u001b[0m\u001b[0;32m    711\u001b[0m \u001b[1;33m\u001b[0m\u001b[0m\n\u001b[0;32m    712\u001b[0m     \u001b[1;32mdef\u001b[0m \u001b[0mfind_element\u001b[0m\u001b[1;33m(\u001b[0m\u001b[0mself\u001b[0m\u001b[1;33m,\u001b[0m \u001b[0mby\u001b[0m\u001b[1;33m=\u001b[0m\u001b[0mBy\u001b[0m\u001b[1;33m.\u001b[0m\u001b[0mID\u001b[0m\u001b[1;33m,\u001b[0m \u001b[0mvalue\u001b[0m\u001b[1;33m=\u001b[0m\u001b[1;32mNone\u001b[0m\u001b[1;33m)\u001b[0m\u001b[1;33m:\u001b[0m\u001b[1;33m\u001b[0m\u001b[1;33m\u001b[0m\u001b[0m\n",
      "\u001b[1;32m~\\anaconda3\\lib\\site-packages\\selenium\\webdriver\\remote\\webdriver.py\u001b[0m in \u001b[0;36mexecute\u001b[1;34m(self, driver_command, params)\u001b[0m\n\u001b[0;32m    423\u001b[0m         \u001b[0mresponse\u001b[0m \u001b[1;33m=\u001b[0m \u001b[0mself\u001b[0m\u001b[1;33m.\u001b[0m\u001b[0mcommand_executor\u001b[0m\u001b[1;33m.\u001b[0m\u001b[0mexecute\u001b[0m\u001b[1;33m(\u001b[0m\u001b[0mdriver_command\u001b[0m\u001b[1;33m,\u001b[0m \u001b[0mparams\u001b[0m\u001b[1;33m)\u001b[0m\u001b[1;33m\u001b[0m\u001b[1;33m\u001b[0m\u001b[0m\n\u001b[0;32m    424\u001b[0m         \u001b[1;32mif\u001b[0m \u001b[0mresponse\u001b[0m\u001b[1;33m:\u001b[0m\u001b[1;33m\u001b[0m\u001b[1;33m\u001b[0m\u001b[0m\n\u001b[1;32m--> 425\u001b[1;33m             \u001b[0mself\u001b[0m\u001b[1;33m.\u001b[0m\u001b[0merror_handler\u001b[0m\u001b[1;33m.\u001b[0m\u001b[0mcheck_response\u001b[0m\u001b[1;33m(\u001b[0m\u001b[0mresponse\u001b[0m\u001b[1;33m)\u001b[0m\u001b[1;33m\u001b[0m\u001b[1;33m\u001b[0m\u001b[0m\n\u001b[0m\u001b[0;32m    426\u001b[0m             response['value'] = self._unwrap_value(\n\u001b[0;32m    427\u001b[0m                 response.get('value', None))\n",
      "\u001b[1;32m~\\anaconda3\\lib\\site-packages\\selenium\\webdriver\\remote\\errorhandler.py\u001b[0m in \u001b[0;36mcheck_response\u001b[1;34m(self, response)\u001b[0m\n\u001b[0;32m    245\u001b[0m                 \u001b[0malert_text\u001b[0m \u001b[1;33m=\u001b[0m \u001b[0mvalue\u001b[0m\u001b[1;33m[\u001b[0m\u001b[1;34m'alert'\u001b[0m\u001b[1;33m]\u001b[0m\u001b[1;33m.\u001b[0m\u001b[0mget\u001b[0m\u001b[1;33m(\u001b[0m\u001b[1;34m'text'\u001b[0m\u001b[1;33m)\u001b[0m\u001b[1;33m\u001b[0m\u001b[1;33m\u001b[0m\u001b[0m\n\u001b[0;32m    246\u001b[0m             \u001b[1;32mraise\u001b[0m \u001b[0mexception_class\u001b[0m\u001b[1;33m(\u001b[0m\u001b[0mmessage\u001b[0m\u001b[1;33m,\u001b[0m \u001b[0mscreen\u001b[0m\u001b[1;33m,\u001b[0m \u001b[0mstacktrace\u001b[0m\u001b[1;33m,\u001b[0m \u001b[0malert_text\u001b[0m\u001b[1;33m)\u001b[0m  \u001b[1;31m# type: ignore[call-arg]  # mypy is not smart enough here\u001b[0m\u001b[1;33m\u001b[0m\u001b[1;33m\u001b[0m\u001b[0m\n\u001b[1;32m--> 247\u001b[1;33m         \u001b[1;32mraise\u001b[0m \u001b[0mexception_class\u001b[0m\u001b[1;33m(\u001b[0m\u001b[0mmessage\u001b[0m\u001b[1;33m,\u001b[0m \u001b[0mscreen\u001b[0m\u001b[1;33m,\u001b[0m \u001b[0mstacktrace\u001b[0m\u001b[1;33m)\u001b[0m\u001b[1;33m\u001b[0m\u001b[1;33m\u001b[0m\u001b[0m\n\u001b[0m\u001b[0;32m    248\u001b[0m \u001b[1;33m\u001b[0m\u001b[0m\n\u001b[0;32m    249\u001b[0m     \u001b[1;32mdef\u001b[0m \u001b[0m_value_or_default\u001b[0m\u001b[1;33m(\u001b[0m\u001b[0mself\u001b[0m\u001b[1;33m,\u001b[0m \u001b[0mobj\u001b[0m\u001b[1;33m:\u001b[0m \u001b[0mMapping\u001b[0m\u001b[1;33m[\u001b[0m\u001b[0m_KT\u001b[0m\u001b[1;33m,\u001b[0m \u001b[0m_VT\u001b[0m\u001b[1;33m]\u001b[0m\u001b[1;33m,\u001b[0m \u001b[0mkey\u001b[0m\u001b[1;33m:\u001b[0m \u001b[0m_KT\u001b[0m\u001b[1;33m,\u001b[0m \u001b[0mdefault\u001b[0m\u001b[1;33m:\u001b[0m \u001b[0m_VT\u001b[0m\u001b[1;33m)\u001b[0m \u001b[1;33m->\u001b[0m \u001b[0m_VT\u001b[0m\u001b[1;33m:\u001b[0m\u001b[1;33m\u001b[0m\u001b[1;33m\u001b[0m\u001b[0m\n",
      "\u001b[1;31mElementNotInteractableException\u001b[0m: Message: element not interactable\n  (Session info: chrome=99.0.4844.84)\nStacktrace:\nBacktrace:\n\tOrdinal0 [0x00F19943+2595139]\n\tOrdinal0 [0x00EAC9F1+2148849]\n\tOrdinal0 [0x00DA43F0+1065968]\n\tOrdinal0 [0x00DCC4D3+1230035]\n\tOrdinal0 [0x00DCBB8B+1227659]\n\tOrdinal0 [0x00DEB9EC+1358316]\n\tOrdinal0 [0x00DC7474+1209460]\n\tOrdinal0 [0x00DEBC04+1358852]\n\tOrdinal0 [0x00DFBAF2+1424114]\n\tOrdinal0 [0x00DEB806+1357830]\n\tOrdinal0 [0x00DC6086+1204358]\n\tOrdinal0 [0x00DC6F96+1208214]\n\tGetHandleVerifier [0x010BB232+1658114]\n\tGetHandleVerifier [0x0117312C+2411516]\n\tGetHandleVerifier [0x00FAF261+560433]\n\tGetHandleVerifier [0x00FAE366+556598]\n\tOrdinal0 [0x00EB286B+2173035]\n\tOrdinal0 [0x00EB75F8+2192888]\n\tOrdinal0 [0x00EB76E5+2193125]\n\tOrdinal0 [0x00EC11FC+2232828]\n\tBaseThreadInitThunk [0x76D1FA29+25]\n\tRtlGetAppContainerNamedObjectPath [0x773A7A7E+286]\n\tRtlGetAppContainerNamedObjectPath [0x773A7A4E+238]\n"
     ]
    }
   ],
   "source": [
    "# write on search bar\n",
    "search_key.send_keys('Gaming Laptop')"
   ]
  },
  {
   "cell_type": "code",
   "execution_count": 93,
   "id": "7a7a594f",
   "metadata": {},
   "outputs": [
    {
     "ename": "NoSuchElementException",
     "evalue": "Message: no such element: Unable to locate element: {\"method\":\"xpath\",\"selector\":\"/html/body/div[3]/div[2]/div/div/input\"}\n  (Session info: chrome=99.0.4844.84)\nStacktrace:\nBacktrace:\n\tOrdinal0 [0x00F19943+2595139]\n\tOrdinal0 [0x00EAC9F1+2148849]\n\tOrdinal0 [0x00DA4528+1066280]\n\tOrdinal0 [0x00DD0FD4+1249236]\n\tOrdinal0 [0x00DD11CB+1249739]\n\tOrdinal0 [0x00DFD812+1431570]\n\tOrdinal0 [0x00DEBA34+1358388]\n\tOrdinal0 [0x00DFBAF2+1424114]\n\tOrdinal0 [0x00DEB806+1357830]\n\tOrdinal0 [0x00DC6086+1204358]\n\tOrdinal0 [0x00DC6F96+1208214]\n\tGetHandleVerifier [0x010BB232+1658114]\n\tGetHandleVerifier [0x0117312C+2411516]\n\tGetHandleVerifier [0x00FAF261+560433]\n\tGetHandleVerifier [0x00FAE366+556598]\n\tOrdinal0 [0x00EB286B+2173035]\n\tOrdinal0 [0x00EB75F8+2192888]\n\tOrdinal0 [0x00EB76E5+2193125]\n\tOrdinal0 [0x00EC11FC+2232828]\n\tBaseThreadInitThunk [0x76D1FA29+25]\n\tRtlGetAppContainerNamedObjectPath [0x773A7A7E+286]\n\tRtlGetAppContainerNamedObjectPath [0x773A7A4E+238]\n",
     "output_type": "error",
     "traceback": [
      "\u001b[1;31m---------------------------------------------------------------------------\u001b[0m",
      "\u001b[1;31mNoSuchElementException\u001b[0m                    Traceback (most recent call last)",
      "\u001b[1;32m<ipython-input-93-45a46a22f852>\u001b[0m in \u001b[0;36m<module>\u001b[1;34m\u001b[0m\n\u001b[1;32m----> 1\u001b[1;33m \u001b[0mgaminglaptopbtn\u001b[0m \u001b[1;33m=\u001b[0m \u001b[0mdriver\u001b[0m\u001b[1;33m.\u001b[0m\u001b[0mfind_element_by_xpath\u001b[0m\u001b[1;33m(\u001b[0m\u001b[1;34m'/html/body/div[3]/div[2]/div/div/input'\u001b[0m\u001b[1;33m)\u001b[0m\u001b[1;33m\u001b[0m\u001b[1;33m\u001b[0m\u001b[0m\n\u001b[0m\u001b[0;32m      2\u001b[0m \u001b[0mgaminglaptopbtn\u001b[0m\u001b[1;33m.\u001b[0m\u001b[0mclick\u001b[0m\u001b[1;33m(\u001b[0m\u001b[1;33m)\u001b[0m\u001b[1;33m\u001b[0m\u001b[1;33m\u001b[0m\u001b[0m\n",
      "\u001b[1;32m~\\anaconda3\\lib\\site-packages\\selenium\\webdriver\\remote\\webdriver.py\u001b[0m in \u001b[0;36mfind_element_by_xpath\u001b[1;34m(self, xpath)\u001b[0m\n\u001b[0;32m    519\u001b[0m             \u001b[0mstacklevel\u001b[0m\u001b[1;33m=\u001b[0m\u001b[1;36m2\u001b[0m\u001b[1;33m,\u001b[0m\u001b[1;33m\u001b[0m\u001b[1;33m\u001b[0m\u001b[0m\n\u001b[0;32m    520\u001b[0m         )\n\u001b[1;32m--> 521\u001b[1;33m         \u001b[1;32mreturn\u001b[0m \u001b[0mself\u001b[0m\u001b[1;33m.\u001b[0m\u001b[0mfind_element\u001b[0m\u001b[1;33m(\u001b[0m\u001b[0mby\u001b[0m\u001b[1;33m=\u001b[0m\u001b[0mBy\u001b[0m\u001b[1;33m.\u001b[0m\u001b[0mXPATH\u001b[0m\u001b[1;33m,\u001b[0m \u001b[0mvalue\u001b[0m\u001b[1;33m=\u001b[0m\u001b[0mxpath\u001b[0m\u001b[1;33m)\u001b[0m\u001b[1;33m\u001b[0m\u001b[1;33m\u001b[0m\u001b[0m\n\u001b[0m\u001b[0;32m    522\u001b[0m \u001b[1;33m\u001b[0m\u001b[0m\n\u001b[0;32m    523\u001b[0m     \u001b[1;32mdef\u001b[0m \u001b[0mfind_elements_by_xpath\u001b[0m\u001b[1;33m(\u001b[0m\u001b[0mself\u001b[0m\u001b[1;33m,\u001b[0m \u001b[0mxpath\u001b[0m\u001b[1;33m)\u001b[0m \u001b[1;33m->\u001b[0m \u001b[0mList\u001b[0m\u001b[1;33m[\u001b[0m\u001b[0mWebElement\u001b[0m\u001b[1;33m]\u001b[0m\u001b[1;33m:\u001b[0m\u001b[1;33m\u001b[0m\u001b[1;33m\u001b[0m\u001b[0m\n",
      "\u001b[1;32m~\\anaconda3\\lib\\site-packages\\selenium\\webdriver\\remote\\webdriver.py\u001b[0m in \u001b[0;36mfind_element\u001b[1;34m(self, by, value)\u001b[0m\n\u001b[0;32m   1246\u001b[0m             \u001b[0mvalue\u001b[0m \u001b[1;33m=\u001b[0m \u001b[1;34m'[name=\"%s\"]'\u001b[0m \u001b[1;33m%\u001b[0m \u001b[0mvalue\u001b[0m\u001b[1;33m\u001b[0m\u001b[1;33m\u001b[0m\u001b[0m\n\u001b[0;32m   1247\u001b[0m \u001b[1;33m\u001b[0m\u001b[0m\n\u001b[1;32m-> 1248\u001b[1;33m         return self.execute(Command.FIND_ELEMENT, {\n\u001b[0m\u001b[0;32m   1249\u001b[0m             \u001b[1;34m'using'\u001b[0m\u001b[1;33m:\u001b[0m \u001b[0mby\u001b[0m\u001b[1;33m,\u001b[0m\u001b[1;33m\u001b[0m\u001b[1;33m\u001b[0m\u001b[0m\n\u001b[0;32m   1250\u001b[0m             'value': value})['value']\n",
      "\u001b[1;32m~\\anaconda3\\lib\\site-packages\\selenium\\webdriver\\remote\\webdriver.py\u001b[0m in \u001b[0;36mexecute\u001b[1;34m(self, driver_command, params)\u001b[0m\n\u001b[0;32m    423\u001b[0m         \u001b[0mresponse\u001b[0m \u001b[1;33m=\u001b[0m \u001b[0mself\u001b[0m\u001b[1;33m.\u001b[0m\u001b[0mcommand_executor\u001b[0m\u001b[1;33m.\u001b[0m\u001b[0mexecute\u001b[0m\u001b[1;33m(\u001b[0m\u001b[0mdriver_command\u001b[0m\u001b[1;33m,\u001b[0m \u001b[0mparams\u001b[0m\u001b[1;33m)\u001b[0m\u001b[1;33m\u001b[0m\u001b[1;33m\u001b[0m\u001b[0m\n\u001b[0;32m    424\u001b[0m         \u001b[1;32mif\u001b[0m \u001b[0mresponse\u001b[0m\u001b[1;33m:\u001b[0m\u001b[1;33m\u001b[0m\u001b[1;33m\u001b[0m\u001b[0m\n\u001b[1;32m--> 425\u001b[1;33m             \u001b[0mself\u001b[0m\u001b[1;33m.\u001b[0m\u001b[0merror_handler\u001b[0m\u001b[1;33m.\u001b[0m\u001b[0mcheck_response\u001b[0m\u001b[1;33m(\u001b[0m\u001b[0mresponse\u001b[0m\u001b[1;33m)\u001b[0m\u001b[1;33m\u001b[0m\u001b[1;33m\u001b[0m\u001b[0m\n\u001b[0m\u001b[0;32m    426\u001b[0m             response['value'] = self._unwrap_value(\n\u001b[0;32m    427\u001b[0m                 response.get('value', None))\n",
      "\u001b[1;32m~\\anaconda3\\lib\\site-packages\\selenium\\webdriver\\remote\\errorhandler.py\u001b[0m in \u001b[0;36mcheck_response\u001b[1;34m(self, response)\u001b[0m\n\u001b[0;32m    245\u001b[0m                 \u001b[0malert_text\u001b[0m \u001b[1;33m=\u001b[0m \u001b[0mvalue\u001b[0m\u001b[1;33m[\u001b[0m\u001b[1;34m'alert'\u001b[0m\u001b[1;33m]\u001b[0m\u001b[1;33m.\u001b[0m\u001b[0mget\u001b[0m\u001b[1;33m(\u001b[0m\u001b[1;34m'text'\u001b[0m\u001b[1;33m)\u001b[0m\u001b[1;33m\u001b[0m\u001b[1;33m\u001b[0m\u001b[0m\n\u001b[0;32m    246\u001b[0m             \u001b[1;32mraise\u001b[0m \u001b[0mexception_class\u001b[0m\u001b[1;33m(\u001b[0m\u001b[0mmessage\u001b[0m\u001b[1;33m,\u001b[0m \u001b[0mscreen\u001b[0m\u001b[1;33m,\u001b[0m \u001b[0mstacktrace\u001b[0m\u001b[1;33m,\u001b[0m \u001b[0malert_text\u001b[0m\u001b[1;33m)\u001b[0m  \u001b[1;31m# type: ignore[call-arg]  # mypy is not smart enough here\u001b[0m\u001b[1;33m\u001b[0m\u001b[1;33m\u001b[0m\u001b[0m\n\u001b[1;32m--> 247\u001b[1;33m         \u001b[1;32mraise\u001b[0m \u001b[0mexception_class\u001b[0m\u001b[1;33m(\u001b[0m\u001b[0mmessage\u001b[0m\u001b[1;33m,\u001b[0m \u001b[0mscreen\u001b[0m\u001b[1;33m,\u001b[0m \u001b[0mstacktrace\u001b[0m\u001b[1;33m)\u001b[0m\u001b[1;33m\u001b[0m\u001b[1;33m\u001b[0m\u001b[0m\n\u001b[0m\u001b[0;32m    248\u001b[0m \u001b[1;33m\u001b[0m\u001b[0m\n\u001b[0;32m    249\u001b[0m     \u001b[1;32mdef\u001b[0m \u001b[0m_value_or_default\u001b[0m\u001b[1;33m(\u001b[0m\u001b[0mself\u001b[0m\u001b[1;33m,\u001b[0m \u001b[0mobj\u001b[0m\u001b[1;33m:\u001b[0m \u001b[0mMapping\u001b[0m\u001b[1;33m[\u001b[0m\u001b[0m_KT\u001b[0m\u001b[1;33m,\u001b[0m \u001b[0m_VT\u001b[0m\u001b[1;33m]\u001b[0m\u001b[1;33m,\u001b[0m \u001b[0mkey\u001b[0m\u001b[1;33m:\u001b[0m \u001b[0m_KT\u001b[0m\u001b[1;33m,\u001b[0m \u001b[0mdefault\u001b[0m\u001b[1;33m:\u001b[0m \u001b[0m_VT\u001b[0m\u001b[1;33m)\u001b[0m \u001b[1;33m->\u001b[0m \u001b[0m_VT\u001b[0m\u001b[1;33m:\u001b[0m\u001b[1;33m\u001b[0m\u001b[1;33m\u001b[0m\u001b[0m\n",
      "\u001b[1;31mNoSuchElementException\u001b[0m: Message: no such element: Unable to locate element: {\"method\":\"xpath\",\"selector\":\"/html/body/div[3]/div[2]/div/div/input\"}\n  (Session info: chrome=99.0.4844.84)\nStacktrace:\nBacktrace:\n\tOrdinal0 [0x00F19943+2595139]\n\tOrdinal0 [0x00EAC9F1+2148849]\n\tOrdinal0 [0x00DA4528+1066280]\n\tOrdinal0 [0x00DD0FD4+1249236]\n\tOrdinal0 [0x00DD11CB+1249739]\n\tOrdinal0 [0x00DFD812+1431570]\n\tOrdinal0 [0x00DEBA34+1358388]\n\tOrdinal0 [0x00DFBAF2+1424114]\n\tOrdinal0 [0x00DEB806+1357830]\n\tOrdinal0 [0x00DC6086+1204358]\n\tOrdinal0 [0x00DC6F96+1208214]\n\tGetHandleVerifier [0x010BB232+1658114]\n\tGetHandleVerifier [0x0117312C+2411516]\n\tGetHandleVerifier [0x00FAF261+560433]\n\tGetHandleVerifier [0x00FAE366+556598]\n\tOrdinal0 [0x00EB286B+2173035]\n\tOrdinal0 [0x00EB75F8+2192888]\n\tOrdinal0 [0x00EB76E5+2193125]\n\tOrdinal0 [0x00EC11FC+2232828]\n\tBaseThreadInitThunk [0x76D1FA29+25]\n\tRtlGetAppContainerNamedObjectPath [0x773A7A7E+286]\n\tRtlGetAppContainerNamedObjectPath [0x773A7A4E+238]\n"
     ]
    }
   ],
   "source": [
    "gaminglaptopbtn = driver.find_element_by_xpath('/html/body/div[3]/div[2]/div/div/input')\n",
    "gaminglaptopbtn.click() "
   ]
  },
  {
   "cell_type": "code",
   "execution_count": 94,
   "id": "cf5517fe",
   "metadata": {},
   "outputs": [],
   "source": [
    "# create empty list\n",
    "name = []\n",
    "os = []\n",
    "disp = []\n",
    "mem = []\n",
    "price = []\n",
    "Processor = []\n",
    "GraphProc= []\n",
    "dim = []\n",
    "wt = []\n",
    "\n",
    "\n",
    "# Scrape all name tag\n",
    "name_tag  = driver.find_elements_by_xpath(\"//*[@id='summtable']/tbody/tr/td[1]\")\n",
    "for n in name_tag:\n",
    "    name.append(n.text)\n",
    "    \n",
    "# Scrape all price tag\n",
    "price_tag  = driver.find_elements_by_xpath(\"//*[@id='summtable']/tbody/tr/td[3]\")\n",
    "for p in price_tag:\n",
    "    price.append(p.text)\n",
    "    \n",
    "# Scrape all OS tag\n",
    "os_tag = driver.find_elements_by_xpath(\"//div[@class='Spcs-details']/table/tbody/tr[3]/td[3]\")\n",
    "for o in os_tag:\n",
    "    os.append(o.text)\n",
    "    \n",
    "# Scrape all display tag\n",
    "disp_tag = driver.find_elements_by_xpath(\"//div[@class='Spcs-details']/table/tbody/tr[4]/td[3]\")\n",
    "for d in disp_tag:\n",
    "    disp.append(d.text)\n",
    "    \n",
    "# Scrape all Processor tag\n",
    "Processor_tag = driver.find_elements_by_xpath(\"//div[@class='Spcs-details']/table/tbody/tr[5]/td[3]\")\n",
    "for k in Processor_tag:\n",
    "    Processor.append(k.text)\n",
    "    \n",
    "# Scrape all Graphic tag\n",
    "GraphProc_tag = driver.find_elements_by_xpath(\"//div[@class='Spcs-details']/table/tbody/tr[8]/td[3]\")\n",
    "for g in GraphProc_tag:\n",
    "    GraphProc.append(g.text)\n",
    "    \n",
    "# Scrape all memory tag\n",
    "mem_tag = driver.find_elements_by_xpath(\"//div[@class='Spcs-details']/table/tbody/tr[6]/td[3]\")\n",
    "for m in mem_tag:\n",
    "    mem.append(g.text)\n",
    "    \n",
    "# Scrape all dimension tag\n",
    "dim_tag = driver.find_elements_by_xpath(\"//div[@class='Spcs-details']/table/tbody/tr[9]/td[3]\")\n",
    "for di in dim_tag:\n",
    "    dim.append(di.text)\n",
    "    \n",
    "# Scrape all weight tag\n",
    "wt_tag = driver.find_elements_by_xpath(\"//div[@class='Spcs-details']/table/tbody/tr[7]/td[3]\")\n",
    "for w in wt_tag:\n",
    "    wt.append(w.text)\n",
    "    \n",
    "# Scrape all description tag\n",
    "desc_tag = driver.find_elements_by_xpath(\"//div[@class='Section-center']//p\")\n",
    "for des in desc_tag:\n",
    "    desc.append(des.text)"
   ]
  },
  {
   "cell_type": "code",
   "execution_count": 95,
   "id": "1094e3b3",
   "metadata": {},
   "outputs": [
    {
     "data": {
      "text/html": [
       "<div>\n",
       "<style scoped>\n",
       "    .dataframe tbody tr th:only-of-type {\n",
       "        vertical-align: middle;\n",
       "    }\n",
       "\n",
       "    .dataframe tbody tr th {\n",
       "        vertical-align: top;\n",
       "    }\n",
       "\n",
       "    .dataframe thead th {\n",
       "        text-align: right;\n",
       "    }\n",
       "</style>\n",
       "<table border=\"1\" class=\"dataframe\">\n",
       "  <thead>\n",
       "    <tr style=\"text-align: right;\">\n",
       "      <th></th>\n",
       "      <th>Laptop Name</th>\n",
       "      <th>Operating System</th>\n",
       "      <th>Display</th>\n",
       "      <th>Processor</th>\n",
       "      <th>Graphics Processor</th>\n",
       "      <th>Memory</th>\n",
       "      <th>Dimensions</th>\n",
       "      <th>Weight(kg)</th>\n",
       "      <th>Price(₹)</th>\n",
       "    </tr>\n",
       "  </thead>\n",
       "  <tbody>\n",
       "  </tbody>\n",
       "</table>\n",
       "</div>"
      ],
      "text/plain": [
       "Empty DataFrame\n",
       "Columns: [Laptop Name, Operating System, Display, Processor, Graphics Processor, Memory, Dimensions, Weight(kg), Price(₹)]\n",
       "Index: []"
      ]
     },
     "execution_count": 95,
     "metadata": {},
     "output_type": "execute_result"
    }
   ],
   "source": [
    "Laptops = {'Laptop Name':name,'Operating System':os,'Display': disp,'Processor':Processor,'Graphics Processor':GraphProc ,'Memory':mem,'Dimensions':dim,'Weight(kg)':wt,'Price(₹)':price}\n",
    "\n",
    "Laptops  = pd.DataFrame(Laptops)\n",
    "Laptops"
   ]
  },
  {
   "cell_type": "markdown",
   "id": "e560544c",
   "metadata": {},
   "source": [
    "## 8. Write a python program to scrape the details for all billionaires from www.forbes.com. Details to be scrapped: “Rank”, “Name”, “Net worth”, “Age”, “Citizenship”, “Source”, “Industry”."
   ]
  },
  {
   "cell_type": "code",
   "execution_count": 96,
   "id": "7847a26c",
   "metadata": {},
   "outputs": [],
   "source": [
    "path='chromedriver.exe'\n",
    "driver=webdriver.Chrome(path)"
   ]
  },
  {
   "cell_type": "code",
   "execution_count": 97,
   "id": "4ef65f45",
   "metadata": {},
   "outputs": [],
   "source": [
    "url='https://www.forbes.com/billionaires/'\n",
    "driver.get(url)\n",
    "driver.maximize_window()"
   ]
  },
  {
   "cell_type": "code",
   "execution_count": 98,
   "id": "e6211b4c",
   "metadata": {},
   "outputs": [
    {
     "name": "stdout",
     "output_type": "stream",
     "text": [
      "Scraping Page 1\n",
      "Scraping Page 2\n",
      "Scraping Page 3\n",
      "Scraping Page 4\n",
      "Scraping Page 5\n",
      "Scraping Page 6\n",
      "Scraping Page 7\n",
      "Scraping Page 8\n",
      "Scraping Page 9\n",
      "Scraping Page 10\n",
      "Scraping Page 11\n",
      "Scraping Page 12\n",
      "Scraping Page 13\n",
      "Scraping Page 14\n"
     ]
    }
   ],
   "source": [
    "Rank=[]\n",
    "Name=[]\n",
    "Net_worth=[]\n",
    "Age=[]\n",
    "Citizenship=[]\n",
    "Source=[]\n",
    "Industry =[]\n",
    "for i in range(14):\n",
    "    print('Scraping Page',i+1)\n",
    "    \n",
    "    rank=driver.find_elements_by_xpath(\"//div[@class='rank']\")\n",
    "    for r in rank:\n",
    "        Rank.append(r.text)  \n",
    "    sleep(1) \n",
    "    \n",
    "    name=driver.find_elements_by_xpath(\"//div[@class='personName']\")\n",
    "    for n in name:\n",
    "        Name.append(n.text)\n",
    "    sleep(1)\n",
    "    \n",
    "    net_worth=driver.find_elements_by_xpath(\"//div[@class='netWorth']\")\n",
    "    for nw in net_worth:\n",
    "        Net_worth.append(nw.text)\n",
    "    sleep(1)\n",
    "    \n",
    "    age=driver.find_elements_by_xpath(\"//div[@class='age']\")\n",
    "    for a in age:\n",
    "        Age.append(a.text)\n",
    "    sleep(1)\n",
    "        \n",
    "    citizenship=driver.find_elements_by_xpath(\"//div[@class='countryOfCitizenship']\")\n",
    "    for c in citizenship:\n",
    "        Citizenship.append(c.text)\n",
    "    sleep(1)\n",
    "        \n",
    "    source=driver.find_elements_by_xpath(\"//div[@class='source-column']\")\n",
    "    for s in source:\n",
    "        Source.append(s.text)\n",
    "    sleep(1)\n",
    "        \n",
    "    industry=driver.find_elements_by_xpath(\"//div[@class='category']\")\n",
    "    for i in industry:\n",
    "        Industry.append(i.text)\n",
    "    sleep(1)\n",
    "    try:\n",
    "        Next_btn=driver.find_element_by_xpath(\"//div[@class='next-page']\")\n",
    "        Next_btn.click()\n",
    "        sleep(2)\n",
    "    except:\n",
    "        break             "
   ]
  },
  {
   "cell_type": "code",
   "execution_count": 99,
   "id": "5ca996bc",
   "metadata": {},
   "outputs": [
    {
     "data": {
      "text/html": [
       "<div>\n",
       "<style scoped>\n",
       "    .dataframe tbody tr th:only-of-type {\n",
       "        vertical-align: middle;\n",
       "    }\n",
       "\n",
       "    .dataframe tbody tr th {\n",
       "        vertical-align: top;\n",
       "    }\n",
       "\n",
       "    .dataframe thead th {\n",
       "        text-align: right;\n",
       "    }\n",
       "</style>\n",
       "<table border=\"1\" class=\"dataframe\">\n",
       "  <thead>\n",
       "    <tr style=\"text-align: right;\">\n",
       "      <th></th>\n",
       "      <th>Rank</th>\n",
       "      <th>Name</th>\n",
       "      <th>Net_worth</th>\n",
       "      <th>Age</th>\n",
       "      <th>Citizenship</th>\n",
       "      <th>Source</th>\n",
       "      <th>Industry</th>\n",
       "    </tr>\n",
       "  </thead>\n",
       "  <tbody>\n",
       "    <tr>\n",
       "      <th>0</th>\n",
       "      <td>1.</td>\n",
       "      <td>Jeff Bezos</td>\n",
       "      <td>$177 B</td>\n",
       "      <td></td>\n",
       "      <td>United States</td>\n",
       "      <td>Amazon</td>\n",
       "      <td></td>\n",
       "    </tr>\n",
       "    <tr>\n",
       "      <th>1</th>\n",
       "      <td>2.</td>\n",
       "      <td>Elon Musk</td>\n",
       "      <td>$151 B</td>\n",
       "      <td></td>\n",
       "      <td>United States</td>\n",
       "      <td>Tesla, SpaceX</td>\n",
       "      <td></td>\n",
       "    </tr>\n",
       "    <tr>\n",
       "      <th>2</th>\n",
       "      <td>3.</td>\n",
       "      <td>Bernard Arnault &amp; family</td>\n",
       "      <td>$150 B</td>\n",
       "      <td></td>\n",
       "      <td>France</td>\n",
       "      <td>LVMH</td>\n",
       "      <td></td>\n",
       "    </tr>\n",
       "    <tr>\n",
       "      <th>3</th>\n",
       "      <td>4.</td>\n",
       "      <td>Bill Gates</td>\n",
       "      <td>$124 B</td>\n",
       "      <td></td>\n",
       "      <td>United States</td>\n",
       "      <td>Microsoft</td>\n",
       "      <td></td>\n",
       "    </tr>\n",
       "    <tr>\n",
       "      <th>4</th>\n",
       "      <td>5.</td>\n",
       "      <td>Mark Zuckerberg</td>\n",
       "      <td>$97 B</td>\n",
       "      <td></td>\n",
       "      <td>United States</td>\n",
       "      <td>Facebook</td>\n",
       "      <td></td>\n",
       "    </tr>\n",
       "    <tr>\n",
       "      <th>...</th>\n",
       "      <td>...</td>\n",
       "      <td>...</td>\n",
       "      <td>...</td>\n",
       "      <td>...</td>\n",
       "      <td>...</td>\n",
       "      <td>...</td>\n",
       "      <td>...</td>\n",
       "    </tr>\n",
       "    <tr>\n",
       "      <th>2750</th>\n",
       "      <td>2674.</td>\n",
       "      <td>Daniel Yong Zhang</td>\n",
       "      <td>$1 B</td>\n",
       "      <td></td>\n",
       "      <td>China</td>\n",
       "      <td>e-commerce</td>\n",
       "      <td></td>\n",
       "    </tr>\n",
       "    <tr>\n",
       "      <th>2751</th>\n",
       "      <td>2674.</td>\n",
       "      <td>Zhang Yuqiang</td>\n",
       "      <td>$1 B</td>\n",
       "      <td></td>\n",
       "      <td>China</td>\n",
       "      <td>Fiberglass</td>\n",
       "      <td></td>\n",
       "    </tr>\n",
       "    <tr>\n",
       "      <th>2752</th>\n",
       "      <td>2674.</td>\n",
       "      <td>Zhao Meiguang</td>\n",
       "      <td>$1 B</td>\n",
       "      <td></td>\n",
       "      <td>China</td>\n",
       "      <td>gold mining</td>\n",
       "      <td></td>\n",
       "    </tr>\n",
       "    <tr>\n",
       "      <th>2753</th>\n",
       "      <td>2674.</td>\n",
       "      <td>Zhong Naixiong</td>\n",
       "      <td>$1 B</td>\n",
       "      <td></td>\n",
       "      <td>China</td>\n",
       "      <td>conglomerate</td>\n",
       "      <td></td>\n",
       "    </tr>\n",
       "    <tr>\n",
       "      <th>2754</th>\n",
       "      <td>2674.</td>\n",
       "      <td>Zhou Wei family</td>\n",
       "      <td>$1 B</td>\n",
       "      <td></td>\n",
       "      <td>China</td>\n",
       "      <td>Software</td>\n",
       "      <td></td>\n",
       "    </tr>\n",
       "  </tbody>\n",
       "</table>\n",
       "<p>2755 rows × 7 columns</p>\n",
       "</div>"
      ],
      "text/plain": [
       "       Rank                      Name Net_worth Age    Citizenship  \\\n",
       "0        1.                Jeff Bezos    $177 B      United States   \n",
       "1        2.                 Elon Musk    $151 B      United States   \n",
       "2        3.  Bernard Arnault & family    $150 B             France   \n",
       "3        4.                Bill Gates    $124 B      United States   \n",
       "4        5.           Mark Zuckerberg     $97 B      United States   \n",
       "...     ...                       ...       ...  ..            ...   \n",
       "2750  2674.         Daniel Yong Zhang      $1 B              China   \n",
       "2751  2674.             Zhang Yuqiang      $1 B              China   \n",
       "2752  2674.             Zhao Meiguang      $1 B              China   \n",
       "2753  2674.            Zhong Naixiong      $1 B              China   \n",
       "2754  2674.           Zhou Wei family      $1 B              China   \n",
       "\n",
       "             Source Industry  \n",
       "0            Amazon           \n",
       "1     Tesla, SpaceX           \n",
       "2              LVMH           \n",
       "3         Microsoft           \n",
       "4          Facebook           \n",
       "...             ...      ...  \n",
       "2750     e-commerce           \n",
       "2751     Fiberglass           \n",
       "2752    gold mining           \n",
       "2753   conglomerate           \n",
       "2754       Software           \n",
       "\n",
       "[2755 rows x 7 columns]"
      ]
     },
     "execution_count": 99,
     "metadata": {},
     "output_type": "execute_result"
    }
   ],
   "source": [
    "Billionaires=pd.DataFrame({})\n",
    "Billionaires['Rank']=Rank\n",
    "Billionaires['Name']= Name\n",
    "Billionaires['Net_worth']=Net_worth\n",
    "Billionaires['Age']=Age\n",
    "Billionaires['Citizenship']=Citizenship\n",
    "Billionaires['Source']=Source\n",
    "Billionaires['Industry']=Industry\n",
    "Billionaires"
   ]
  },
  {
   "cell_type": "markdown",
   "id": "b55ddba7",
   "metadata": {},
   "source": [
    "## 9. Write a program to extract at least 500 Comments, Comment upvote and time when comment was posted from any YouTube Video.\n"
   ]
  },
  {
   "cell_type": "code",
   "execution_count": 101,
   "id": "4f75defb",
   "metadata": {},
   "outputs": [],
   "source": [
    "path='chromedriver.exe'\n",
    "driver=webdriver.Chrome(path)"
   ]
  },
  {
   "cell_type": "code",
   "execution_count": 104,
   "id": "a30f3497",
   "metadata": {},
   "outputs": [],
   "source": [
    "def get_text_by_regex(isolated_tag,regex_text):\n",
    "    return str(isolated_tag.find(text=re.compile(regex_text)))\n",
    "\n",
    "def get_attrib_text_by_regex(isolated_tag,regex_text,att_name):\n",
    "    return str(isolated_tag.find(attrs={att_name :re.compile(regex_text)}).attrs[att_name])\n",
    "\n",
    "def expand_youtube_video_link(url):\n",
    "\n",
    "    options = webdriver.ChromeOptions()\n",
    "    options.add_argument('--no-sandbox')\n",
    "    options.add_argument('--disable-dev-shm-usage')\n",
    "    options.add_argument(\"--start-maximized\")\n",
    "#     options.add_argument(\"--headless\")\n",
    "    driver=webdriver.Chrome()\n",
    "    wait = WebDriverWait(driver,60)\n",
    "    driver.get(url)\n",
    "    SCROLL_PAUSE_TIME = 2\n",
    "    CYCLES = 7\n",
    "    html = driver.find_element_by_tag_name('html')\n",
    "   \n",
    "    html.send_keys(Keys.PAGE_DOWN)  \n",
    "    time.sleep(SCROLL_PAUSE_TIME)\n",
    "    html.send_keys(Keys.PAGE_DOWN)  \n",
    "    time.sleep(SCROLL_PAUSE_TIME)\n",
    "    TOTAL_COMMENT=driver.find_elements_by_xpath('//*[@id=\"header\"]/ytd-comments-header-renderer')#'/div[@id=\"header\"]')\n",
    "\n",
    "    #expanding video descriptions show more button\n",
    "    show_more=driver.find_element_by_xpath('//*[@id=\"more\"]/yt-formatted-string')\n",
    "    show_more.location_once_scrolled_into_view\n",
    "    driver.execute_script(\"arguments[0].click()\",show_more)\n",
    "    \n",
    "    html.send_keys(Keys.PAGE_DOWN)  \n",
    "    time.sleep(SCROLL_PAUSE_TIME)\n",
    "    html.send_keys(Keys.PAGE_DOWN)  \n",
    "    time.sleep(SCROLL_PAUSE_TIME)\n",
    "    \n",
    "#     print([x.text for x in TOTAL_COMMENT])\n",
    "    TOTAL_COMMENT=[x.text for x in TOTAL_COMMENT if \"comments\" in x.text.lower()]\n",
    "    if TOTAL_COMMENT:\n",
    "        TOTAL_COMMENT=int(TOTAL_COMMENT[0].split()[0].replace(\",\",\"\"))\n",
    "    else:\n",
    "        TOTAL_COMMENT=0 \n",
    "    print(TOTAL_COMMENT)\n",
    "    \n",
    "    VISIBLECOUNTS = len(driver.find_elements_by_xpath('//*[@id=\"contents\"]/ytd-comment-thread-renderer'))\n",
    "#     print(VISIBLECOUNTS)\n",
    "    time.sleep(SCROLL_PAUSE_TIME * 3)\n",
    "    i=0\n",
    "    while VISIBLECOUNTS  < TOTAL_COMMENT:\n",
    "        html.send_keys(Keys.END)\n",
    "        time.sleep(SCROLL_PAUSE_TIME)\n",
    "        VISIBLECOUNTS = len(driver.find_elements_by_xpath('//*[@id=\"contents\"]/ytd-comment-thread-renderer'))\n",
    "        #remove the break statement to expand to all comment or add your own custom break statement (on certain on of visible comment)\n",
    "        i+=1\n",
    "        if i==10:\n",
    "            break\n",
    "    for reply in driver.find_elements_by_xpath(\"//*[@id='replies']//paper-button[@class='style-scope ytd-button-renderer'][contains(.,'View')]\"):\n",
    "#         print('in for loop')\n",
    "        reply.location_once_scrolled_into_view\n",
    "        driver.execute_script(\"arguments[0].click()\",reply)\n",
    "    p_source=driver.page_source\n",
    "    driver.close()\n",
    "    return p_source    "
   ]
  },
  {
   "cell_type": "code",
   "execution_count": 107,
   "id": "f817880f",
   "metadata": {},
   "outputs": [
    {
     "ename": "AttributeError",
     "evalue": "'list' object has no attribute 'sleep'",
     "output_type": "error",
     "traceback": [
      "\u001b[1;31m---------------------------------------------------------------------------\u001b[0m",
      "\u001b[1;31mAttributeError\u001b[0m                            Traceback (most recent call last)",
      "\u001b[1;32m<ipython-input-107-36a52fc8b4b4>\u001b[0m in \u001b[0;36m<module>\u001b[1;34m\u001b[0m\n\u001b[0;32m      1\u001b[0m \u001b[0murl\u001b[0m\u001b[1;33m=\u001b[0m\u001b[1;34m'https://www.youtube.com/watch?v=yNaN5kYTNLY&ab_channel=warikoo'\u001b[0m\u001b[1;33m\u001b[0m\u001b[1;33m\u001b[0m\u001b[0m\n\u001b[1;32m----> 2\u001b[1;33m \u001b[0mpage_source\u001b[0m \u001b[1;33m=\u001b[0m \u001b[0mexpand_youtube_video_link\u001b[0m\u001b[1;33m(\u001b[0m\u001b[0murl\u001b[0m\u001b[1;33m)\u001b[0m\u001b[1;33m\u001b[0m\u001b[1;33m\u001b[0m\u001b[0m\n\u001b[0m\u001b[0;32m      3\u001b[0m \u001b[0msoup\u001b[0m \u001b[1;33m=\u001b[0m \u001b[0mBeautifulSoup\u001b[0m\u001b[1;33m(\u001b[0m\u001b[0mpage_source\u001b[0m\u001b[1;33m,\u001b[0m\u001b[1;34m\"html.parser\"\u001b[0m\u001b[1;33m)\u001b[0m\u001b[1;33m\u001b[0m\u001b[1;33m\u001b[0m\u001b[0m\n",
      "\u001b[1;32m<ipython-input-104-96920dbc5900>\u001b[0m in \u001b[0;36mexpand_youtube_video_link\u001b[1;34m(url)\u001b[0m\n\u001b[0;32m     20\u001b[0m \u001b[1;33m\u001b[0m\u001b[0m\n\u001b[0;32m     21\u001b[0m     \u001b[0mhtml\u001b[0m\u001b[1;33m.\u001b[0m\u001b[0msend_keys\u001b[0m\u001b[1;33m(\u001b[0m\u001b[0mKeys\u001b[0m\u001b[1;33m.\u001b[0m\u001b[0mPAGE_DOWN\u001b[0m\u001b[1;33m)\u001b[0m\u001b[1;33m\u001b[0m\u001b[1;33m\u001b[0m\u001b[0m\n\u001b[1;32m---> 22\u001b[1;33m     \u001b[0mtime\u001b[0m\u001b[1;33m.\u001b[0m\u001b[0msleep\u001b[0m\u001b[1;33m(\u001b[0m\u001b[0mSCROLL_PAUSE_TIME\u001b[0m\u001b[1;33m)\u001b[0m\u001b[1;33m\u001b[0m\u001b[1;33m\u001b[0m\u001b[0m\n\u001b[0m\u001b[0;32m     23\u001b[0m     \u001b[0mhtml\u001b[0m\u001b[1;33m.\u001b[0m\u001b[0msend_keys\u001b[0m\u001b[1;33m(\u001b[0m\u001b[0mKeys\u001b[0m\u001b[1;33m.\u001b[0m\u001b[0mPAGE_DOWN\u001b[0m\u001b[1;33m)\u001b[0m\u001b[1;33m\u001b[0m\u001b[1;33m\u001b[0m\u001b[0m\n\u001b[0;32m     24\u001b[0m     \u001b[0mtime\u001b[0m\u001b[1;33m.\u001b[0m\u001b[0msleep\u001b[0m\u001b[1;33m(\u001b[0m\u001b[0mSCROLL_PAUSE_TIME\u001b[0m\u001b[1;33m)\u001b[0m\u001b[1;33m\u001b[0m\u001b[1;33m\u001b[0m\u001b[0m\n",
      "\u001b[1;31mAttributeError\u001b[0m: 'list' object has no attribute 'sleep'"
     ]
    }
   ],
   "source": [
    "url='https://www.youtube.com/watch?v=yNaN5kYTNLY&ab_channel=warikoo'\n",
    "page_source = expand_youtube_video_link(url)\n",
    "soup = BeautifulSoup(page_source,\"html.parser\")"
   ]
  },
  {
   "cell_type": "code",
   "execution_count": 108,
   "id": "6bb98150",
   "metadata": {},
   "outputs": [
    {
     "name": "stdout",
     "output_type": "stream",
     "text": [
      "Video Title:\n"
     ]
    },
    {
     "ename": "AttributeError",
     "evalue": "'NoneType' object has no attribute 'text'",
     "output_type": "error",
     "traceback": [
      "\u001b[1;31m---------------------------------------------------------------------------\u001b[0m",
      "\u001b[1;31mAttributeError\u001b[0m                            Traceback (most recent call last)",
      "\u001b[1;32m<ipython-input-108-742bd173323e>\u001b[0m in \u001b[0;36m<module>\u001b[1;34m\u001b[0m\n\u001b[0;32m      3\u001b[0m \u001b[1;33m\u001b[0m\u001b[0m\n\u001b[0;32m      4\u001b[0m \u001b[0mprint\u001b[0m\u001b[1;33m(\u001b[0m\u001b[1;34m\"Video Title:\"\u001b[0m\u001b[1;33m)\u001b[0m\u001b[1;33m\u001b[0m\u001b[1;33m\u001b[0m\u001b[0m\n\u001b[1;32m----> 5\u001b[1;33m \u001b[0mvideo_title\u001b[0m\u001b[1;33m=\u001b[0m\u001b[0msoup\u001b[0m\u001b[1;33m.\u001b[0m\u001b[0mfind\u001b[0m\u001b[1;33m(\u001b[0m\u001b[1;34m'yt-formatted-string'\u001b[0m\u001b[1;33m,\u001b[0m\u001b[1;33m{\u001b[0m\u001b[1;34m\"class\"\u001b[0m\u001b[1;33m:\u001b[0m\u001b[1;34m\"style-scope ytd-video-primary-info-renderer\"\u001b[0m\u001b[1;33m}\u001b[0m\u001b[1;33m)\u001b[0m\u001b[1;33m.\u001b[0m\u001b[0mtext\u001b[0m\u001b[1;33m\u001b[0m\u001b[1;33m\u001b[0m\u001b[0m\n\u001b[0m\u001b[0;32m      6\u001b[0m \u001b[0mprint\u001b[0m\u001b[1;33m(\u001b[0m\u001b[0mvideo_title\u001b[0m\u001b[1;33m)\u001b[0m\u001b[1;33m\u001b[0m\u001b[1;33m\u001b[0m\u001b[0m\n\u001b[0;32m      7\u001b[0m \u001b[1;33m\u001b[0m\u001b[0m\n",
      "\u001b[1;31mAttributeError\u001b[0m: 'NoneType' object has no attribute 'text'"
     ]
    }
   ],
   "source": [
    "#get video information.\n",
    "video_info_tag=soup.find('div',{\"class\":\"style-scope ytd-video-primary-info-renderer\"})\n",
    "\n",
    "print(\"Video Title:\")\n",
    "video_title=soup.find('yt-formatted-string',{\"class\":\"style-scope ytd-video-primary-info-renderer\"}).text\n",
    "print(video_title)\n",
    "\n",
    "#get views\n",
    "views_regex=r'\\b[0-9]*views\\b'\n",
    "views=get_text_by_regex(video_info_tag,views_regex)\n",
    "print(\"View Count:\")\n",
    "print(views)"
   ]
  },
  {
   "cell_type": "code",
   "execution_count": 109,
   "id": "fb1afc9e",
   "metadata": {},
   "outputs": [],
   "source": [
    "i=0\n",
    "comments_list=[]\n",
    "for element in soup.find_all('ytd-comment-thread-renderer'):\n",
    "\n",
    "    temp_list=[url]\n",
    "    comment=element.find('ytd-comment-renderer')\n",
    "    author=comment.find('a',{\"id\":\"author-text\"})\n",
    "    #print(author.text.strip())\n",
    "    \n",
    "    temp_list.append(author.text.strip())\n",
    "    publish_time=comment.find('yt-formatted-string',{\"class\":\"published-time-text above-comment style-scope ytd-comment-renderer\"})#\n",
    "    #print(publish_time.text.strip())\n",
    "    \n",
    "    temp_list.append(publish_time.text.strip())\n",
    "    comment_text=comment.find('ytd-expander',{\"class\":\"style-scope ytd-comment-renderer\"}).find('div',{\"id\":\"content\"})\n",
    "    #print(comment_text.text.strip(),\"---\")\n",
    "    temp_list.append(comment_text.text.strip())\n",
    "    \n",
    "    #vote-count-middle\n",
    "    up_vote=comment.find('span',{\"id\":\"vote-count-middle\"})\n",
    "    #print(up_vote.text.strip(),\"---\")\n",
    "    temp_list.append(up_vote.text.strip())\n",
    "    replies=element.find('div', {\"id\":\"replies\"})\n",
    "\n",
    "\n",
    "    comments_list.append(temp_list)"
   ]
  },
  {
   "cell_type": "code",
   "execution_count": 110,
   "id": "b3968cea",
   "metadata": {},
   "outputs": [],
   "source": [
    "cols=['video_url','comment_author','publish_time','comment_text','up_vote']\n",
    "df=pd.DataFrame(comments_list,columns=cols)"
   ]
  },
  {
   "cell_type": "code",
   "execution_count": 111,
   "id": "9d867a4a",
   "metadata": {},
   "outputs": [
    {
     "data": {
      "text/html": [
       "<div>\n",
       "<style scoped>\n",
       "    .dataframe tbody tr th:only-of-type {\n",
       "        vertical-align: middle;\n",
       "    }\n",
       "\n",
       "    .dataframe tbody tr th {\n",
       "        vertical-align: top;\n",
       "    }\n",
       "\n",
       "    .dataframe thead th {\n",
       "        text-align: right;\n",
       "    }\n",
       "</style>\n",
       "<table border=\"1\" class=\"dataframe\">\n",
       "  <thead>\n",
       "    <tr style=\"text-align: right;\">\n",
       "      <th></th>\n",
       "      <th>video_url</th>\n",
       "      <th>comment_author</th>\n",
       "      <th>publish_time</th>\n",
       "      <th>comment_text</th>\n",
       "      <th>up_vote</th>\n",
       "    </tr>\n",
       "  </thead>\n",
       "  <tbody>\n",
       "  </tbody>\n",
       "</table>\n",
       "</div>"
      ],
      "text/plain": [
       "Empty DataFrame\n",
       "Columns: [video_url, comment_author, publish_time, comment_text, up_vote]\n",
       "Index: []"
      ]
     },
     "execution_count": 111,
     "metadata": {},
     "output_type": "execute_result"
    }
   ],
   "source": [
    "df.head()"
   ]
  },
  {
   "cell_type": "markdown",
   "id": "b57beb6b",
   "metadata": {},
   "source": [
    "## Q 10. Write a python program to scrape a data for all available Hostels from https://www.hostelworld.com/ in “London” location. You have to scrape hostel name, distance from city centre, ratings, total reviews, overall reviews, privates from price, dorms from price, facilities and property description"
   ]
  },
  {
   "cell_type": "code",
   "execution_count": null,
   "id": "8a2910c7",
   "metadata": {},
   "outputs": [],
   "source": []
  }
 ],
 "metadata": {
  "kernelspec": {
   "display_name": "Python 3",
   "language": "python",
   "name": "python3"
  },
  "language_info": {
   "codemirror_mode": {
    "name": "ipython",
    "version": 3
   },
   "file_extension": ".py",
   "mimetype": "text/x-python",
   "name": "python",
   "nbconvert_exporter": "python",
   "pygments_lexer": "ipython3",
   "version": "3.8.8"
  }
 },
 "nbformat": 4,
 "nbformat_minor": 5
}
