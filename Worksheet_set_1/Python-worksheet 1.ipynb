{
 "cells": [
  {
   "cell_type": "markdown",
   "id": "8fce2048",
   "metadata": {},
   "source": [
    "##                                PYTHON-WORKSHEET 1"
   ]
  },
  {
   "cell_type": "raw",
   "id": "2596045b",
   "metadata": {},
   "source": [
    "Q1. Ans: -(c) %"
   ]
  },
  {
   "cell_type": "raw",
   "id": "b0ce3474",
   "metadata": {},
   "source": [
    "Q2. Ans: -(b) 0"
   ]
  },
  {
   "cell_type": "raw",
   "id": "35637ccb",
   "metadata": {},
   "source": [
    "Q3. Ans: -(c) 24"
   ]
  },
  {
   "cell_type": "raw",
   "id": "63838184",
   "metadata": {},
   "source": [
    "Q4. Ans: -(a) 2"
   ]
  },
  {
   "cell_type": "raw",
   "id": "916c7f34",
   "metadata": {},
   "source": [
    "Q5. Ans: -(d) 6"
   ]
  },
  {
   "cell_type": "raw",
   "id": "58fc52b9",
   "metadata": {},
   "source": [
    "Q6. Ans: -(c) the finally block will be executed no matter if the try block raises an error or not.\n"
   ]
  },
  {
   "cell_type": "raw",
   "id": "e52c97c4",
   "metadata": {},
   "source": [
    "Q7. Ans: -(a) It is used to raise an exception. "
   ]
  },
  {
   "cell_type": "raw",
   "id": "053f2eb8",
   "metadata": {},
   "source": [
    "Q8. Ans: -(c) in defining a generator"
   ]
  },
  {
   "cell_type": "raw",
   "id": "f7b3a220",
   "metadata": {},
   "source": [
    "Q9. Ans: -(a) _abc            (c) abc2"
   ]
  },
  {
   "cell_type": "raw",
   "id": "284b90e5",
   "metadata": {},
   "source": [
    "Q10. Ans:-(a) yield           (b) raise"
   ]
  },
  {
   "cell_type": "code",
   "execution_count": null,
   "id": "5a63510e",
   "metadata": {},
   "outputs": [],
   "source": [
    "#Q11. Ans:-\n",
    "import math\n",
    "n = int(input(\"Enter any number: \"))\n",
    "# Find out the factorial\n",
    "fact = math.factorial(n)\n",
    "# Print the result of the factorial\n",
    "print(\"The factorial of %d is %d\" %(n,fact))"
   ]
  },
  {
   "cell_type": "code",
   "execution_count": null,
   "id": "e86b1e93",
   "metadata": {},
   "outputs": [],
   "source": [
    "#Q12. Ans:-\n",
    "n= int(input('Enter any number:'))\n",
    "if(n ==0 or n ==1):\n",
    "    printf(n,'Number is neither prime nor composite')\n",
    "elif n>1 :\n",
    "    for i in range(2,n):\n",
    "        if(n%i == 0):\n",
    "            print(n,'is not prime but composite number')\n",
    "            break\n",
    "    else:\n",
    "        print(n,'number is prime but not composite number')\n",
    "else:\n",
    "    print('Enter positive number only')"
   ]
  },
  {
   "cell_type": "code",
   "execution_count": null,
   "id": "715a6226",
   "metadata": {},
   "outputs": [],
   "source": [
    "#Q13. Ans:-\n",
    "def isPalindrome(s):\n",
    "    return s == s[::-1]\n",
    "s = str(input('Enter any name:'))\n",
    "ans = isPalindrome(s)\n",
    " \n",
    "if ans:\n",
    "    print(\"Yes\")\n",
    "else:\n",
    "    print(\"No\")"
   ]
  },
  {
   "cell_type": "code",
   "execution_count": null,
   "id": "e951ee47",
   "metadata": {},
   "outputs": [],
   "source": [
    "#Q14. Ans:-\n",
    "import math\n",
    "\n",
    "a = float(input(\"Enter base: \"))\n",
    "b = float(input(\"Enter height: \"))\n",
    "c = math.sqrt(a ** 2 + b ** 2)\n",
    "\n",
    "print(\"Hypotenuse =\", c)\n"
   ]
  },
  {
   "cell_type": "code",
   "execution_count": null,
   "id": "88cae979",
   "metadata": {},
   "outputs": [],
   "source": [
    "#Q15. Ans:-\n",
    "from collections import Counter\n",
    " \n",
    "def a(string):\n",
    "    d = Counter(string)\n",
    "    for i in d:\n",
    "        print(i+str(d[i]), end=\" \")\n",
    "string = str(input('Enter any name'))\n",
    "a(string)"
   ]
  },
  {
   "cell_type": "code",
   "execution_count": null,
   "id": "10ebf5e3",
   "metadata": {},
   "outputs": [],
   "source": []
  }
 ],
 "metadata": {
  "kernelspec": {
   "display_name": "Python 3",
   "language": "python",
   "name": "python3"
  },
  "language_info": {
   "codemirror_mode": {
    "name": "ipython",
    "version": 3
   },
   "file_extension": ".py",
   "mimetype": "text/x-python",
   "name": "python",
   "nbconvert_exporter": "python",
   "pygments_lexer": "ipython3",
   "version": "3.8.8"
  }
 },
 "nbformat": 4,
 "nbformat_minor": 5
}
