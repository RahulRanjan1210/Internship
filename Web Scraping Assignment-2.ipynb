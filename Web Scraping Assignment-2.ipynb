{
 "cells": [
  {
   "cell_type": "code",
   "execution_count": 1,
   "id": "72fcb4bb",
   "metadata": {},
   "outputs": [
    {
     "name": "stdout",
     "output_type": "stream",
     "text": [
      "Requirement already satisfied: selenium in c:\\users\\rahul\\anaconda3\\lib\\site-packages (4.1.2)\n",
      "Requirement already satisfied: trio-websocket~=0.9 in c:\\users\\rahul\\anaconda3\\lib\\site-packages (from selenium) (0.9.2)\n",
      "Requirement already satisfied: trio~=0.17 in c:\\users\\rahul\\anaconda3\\lib\\site-packages (from selenium) (0.20.0)\n",
      "Requirement already satisfied: urllib3[secure,socks]~=1.26 in c:\\users\\rahul\\anaconda3\\lib\\site-packages (from selenium) (1.26.4)\n",
      "Requirement already satisfied: cffi>=1.14 in c:\\users\\rahul\\anaconda3\\lib\\site-packages (from trio~=0.17->selenium) (1.14.5)\n",
      "Requirement already satisfied: sortedcontainers in c:\\users\\rahul\\anaconda3\\lib\\site-packages (from trio~=0.17->selenium) (2.3.0)\n",
      "Requirement already satisfied: sniffio in c:\\users\\rahul\\anaconda3\\lib\\site-packages (from trio~=0.17->selenium) (1.2.0)\n",
      "Requirement already satisfied: attrs>=19.2.0 in c:\\users\\rahul\\anaconda3\\lib\\site-packages (from trio~=0.17->selenium) (20.3.0)\n",
      "Requirement already satisfied: idna in c:\\users\\rahul\\anaconda3\\lib\\site-packages (from trio~=0.17->selenium) (2.10)\n",
      "Requirement already satisfied: async-generator>=1.9 in c:\\users\\rahul\\anaconda3\\lib\\site-packages (from trio~=0.17->selenium) (1.10)\n",
      "Requirement already satisfied: outcome in c:\\users\\rahul\\anaconda3\\lib\\site-packages (from trio~=0.17->selenium) (1.1.0)\n",
      "Requirement already satisfied: pycparser in c:\\users\\rahul\\anaconda3\\lib\\site-packages (from cffi>=1.14->trio~=0.17->selenium) (2.20)\n",
      "Requirement already satisfied: wsproto>=0.14 in c:\\users\\rahul\\anaconda3\\lib\\site-packages (from trio-websocket~=0.9->selenium) (1.1.0)\n",
      "Requirement already satisfied: PySocks!=1.5.7,<2.0,>=1.5.6 in c:\\users\\rahul\\anaconda3\\lib\\site-packages (from urllib3[secure,socks]~=1.26->selenium) (1.7.1)\n",
      "Requirement already satisfied: pyOpenSSL>=0.14 in c:\\users\\rahul\\anaconda3\\lib\\site-packages (from urllib3[secure,socks]~=1.26->selenium) (20.0.1)\n",
      "Requirement already satisfied: certifi in c:\\users\\rahul\\anaconda3\\lib\\site-packages (from urllib3[secure,socks]~=1.26->selenium) (2020.12.5)\n",
      "Requirement already satisfied: cryptography>=1.3.4 in c:\\users\\rahul\\anaconda3\\lib\\site-packages (from urllib3[secure,socks]~=1.26->selenium) (3.4.7)\n",
      "Requirement already satisfied: six>=1.5.2 in c:\\users\\rahul\\anaconda3\\lib\\site-packages (from pyOpenSSL>=0.14->urllib3[secure,socks]~=1.26->selenium) (1.15.0)\n",
      "Requirement already satisfied: h11<1,>=0.9.0 in c:\\users\\rahul\\anaconda3\\lib\\site-packages (from wsproto>=0.14->trio-websocket~=0.9->selenium) (0.13.0)\n"
     ]
    }
   ],
   "source": [
    "!pip install selenium"
   ]
  },
  {
   "cell_type": "code",
   "execution_count": 2,
   "id": "b7aeb1aa",
   "metadata": {},
   "outputs": [],
   "source": [
    "# let's import all required libraries\n",
    "import selenium\n",
    "from selenium import webdriver\n",
    "import pandas as pd\n",
    "import warnings\n",
    "warnings.filterwarnings('ignore')"
   ]
  },
  {
   "cell_type": "markdown",
   "id": "fd2e2ca9",
   "metadata": {},
   "source": [
    "## Q1: Write a python program to scrape data for “Data Analyst” Job position in “Bangalore” location. You have to scrape the job-title, job-location, company_name, experience_required. You have to scrape first 10 jobs data."
   ]
  },
  {
   "cell_type": "code",
   "execution_count": 3,
   "id": "9dd1c1cf",
   "metadata": {},
   "outputs": [],
   "source": [
    "#let's first connect to web driver\n",
    "driver = webdriver.Chrome(\"chromedriver.exe\")"
   ]
  },
  {
   "cell_type": "code",
   "execution_count": 4,
   "id": "3a4b5a8e",
   "metadata": {},
   "outputs": [],
   "source": [
    "url = 'https://www.naukri.com/'\n",
    "driver.get(url)"
   ]
  },
  {
   "cell_type": "code",
   "execution_count": 5,
   "id": "b8babacc",
   "metadata": {},
   "outputs": [
    {
     "data": {
      "text/plain": [
       "<selenium.webdriver.remote.webelement.WebElement (session=\"dfa8879cfd7777fbeaa4c056b2963d4b\", element=\"2d5aef0d-3508-45fd-a742-60d226f2541f\")>"
      ]
     },
     "execution_count": 5,
     "metadata": {},
     "output_type": "execute_result"
    }
   ],
   "source": [
    "# finding web element for search job bar using id\n",
    "search_job =driver.find_element_by_class_name('suggestor-input')\n",
    "search_job"
   ]
  },
  {
   "cell_type": "code",
   "execution_count": 6,
   "id": "9d88599a",
   "metadata": {},
   "outputs": [],
   "source": [
    "# write on search bar\n",
    "search_job.send_keys('Data Analyst')"
   ]
  },
  {
   "cell_type": "code",
   "execution_count": 7,
   "id": "4e6b69af",
   "metadata": {},
   "outputs": [
    {
     "data": {
      "text/plain": [
       "<selenium.webdriver.remote.webelement.WebElement (session=\"dfa8879cfd7777fbeaa4c056b2963d4b\", element=\"f7a85680-3db1-4fc0-8300-c5cce7a9c715\")>"
      ]
     },
     "execution_count": 7,
     "metadata": {},
     "output_type": "execute_result"
    }
   ],
   "source": [
    "search_locn = driver.find_element_by_xpath('/html/body/div/div[2]/div[3]/div/div/div[3]/div/div/div/input')\n",
    "search_locn"
   ]
  },
  {
   "cell_type": "code",
   "execution_count": 8,
   "id": "ea748cce",
   "metadata": {},
   "outputs": [],
   "source": [
    "# finding web element for job location bar\n",
    "search_locn.send_keys('Bangalore')"
   ]
  },
  {
   "cell_type": "code",
   "execution_count": 9,
   "id": "adc4e41c",
   "metadata": {},
   "outputs": [
    {
     "data": {
      "text/plain": [
       "<selenium.webdriver.remote.webelement.WebElement (session=\"dfa8879cfd7777fbeaa4c056b2963d4b\", element=\"e30963e1-5edc-4557-84d7-33649735c7da\")>"
      ]
     },
     "execution_count": 9,
     "metadata": {},
     "output_type": "execute_result"
    }
   ],
   "source": [
    "# clicking using absolute xpath function\n",
    "search_btn = driver.find_element_by_xpath('/html/body/div/div[2]/div[3]/div/div/div[6]')\n",
    "search_btn"
   ]
  },
  {
   "cell_type": "code",
   "execution_count": 10,
   "id": "59ef8cd5",
   "metadata": {},
   "outputs": [],
   "source": [
    "search_btn.click()"
   ]
  },
  {
   "cell_type": "code",
   "execution_count": 11,
   "id": "3e0865ab",
   "metadata": {},
   "outputs": [],
   "source": [
    "salary_check = driver.find_element_by_xpath('/html/body/div[1]/div[3]/div[2]/section[1]/div[2]/div[4]/div[2]/div[1]/label/i')\n",
    "salary_check.click()"
   ]
  },
  {
   "cell_type": "code",
   "execution_count": 12,
   "id": "7f413571",
   "metadata": {},
   "outputs": [
    {
     "data": {
      "text/plain": [
       "[<selenium.webdriver.remote.webelement.WebElement (session=\"dfa8879cfd7777fbeaa4c056b2963d4b\", element=\"54d803ec-ebe8-4a9e-9a11-886c9c26f1a1\")>,\n",
       " <selenium.webdriver.remote.webelement.WebElement (session=\"dfa8879cfd7777fbeaa4c056b2963d4b\", element=\"0a35c32e-3351-4466-b5a3-65ca2161d43a\")>,\n",
       " <selenium.webdriver.remote.webelement.WebElement (session=\"dfa8879cfd7777fbeaa4c056b2963d4b\", element=\"43718e25-f2b1-444f-a9b2-6254b4b89865\")>,\n",
       " <selenium.webdriver.remote.webelement.WebElement (session=\"dfa8879cfd7777fbeaa4c056b2963d4b\", element=\"9075ed56-3338-4dfb-b791-83e6b472cc67\")>,\n",
       " <selenium.webdriver.remote.webelement.WebElement (session=\"dfa8879cfd7777fbeaa4c056b2963d4b\", element=\"9dbb249b-676e-4444-ae4d-c995b212ae4e\")>,\n",
       " <selenium.webdriver.remote.webelement.WebElement (session=\"dfa8879cfd7777fbeaa4c056b2963d4b\", element=\"6d55a240-e5a2-4a7f-87dd-6d1dca50378b\")>,\n",
       " <selenium.webdriver.remote.webelement.WebElement (session=\"dfa8879cfd7777fbeaa4c056b2963d4b\", element=\"8db0ceb1-e617-4ae2-b1d1-a6809db75f92\")>,\n",
       " <selenium.webdriver.remote.webelement.WebElement (session=\"dfa8879cfd7777fbeaa4c056b2963d4b\", element=\"a50613ca-8164-43aa-8825-dc285c990f4c\")>,\n",
       " <selenium.webdriver.remote.webelement.WebElement (session=\"dfa8879cfd7777fbeaa4c056b2963d4b\", element=\"ce951d40-9f2f-4ab6-ac4d-4c28fc83a0b0\")>,\n",
       " <selenium.webdriver.remote.webelement.WebElement (session=\"dfa8879cfd7777fbeaa4c056b2963d4b\", element=\"974ddfb6-4a28-4fd3-839e-b64e248a752c\")>]"
      ]
     },
     "execution_count": 12,
     "metadata": {},
     "output_type": "execute_result"
    }
   ],
   "source": [
    "# Let's extract all web elements having job titles\n",
    "title_tags = driver.find_elements_by_xpath('//a[@class=\"title fw500 ellipsis\"]')\n",
    "len(title_tags)\n",
    "title_tags[:10]"
   ]
  },
  {
   "cell_type": "code",
   "execution_count": 13,
   "id": "451c921c",
   "metadata": {},
   "outputs": [
    {
     "data": {
      "text/plain": [
       "['Hiring For Data Analyst I(SQL & Python)',\n",
       " 'Data Analyst - 3rd Party Payroll',\n",
       " 'Data Analyst I',\n",
       " 'Senior Data Analyst II',\n",
       " 'Senior Data Analyst',\n",
       " 'Senior Data Analyst II',\n",
       " 'Senior Data Analyst II',\n",
       " 'Looking For Data Analyst - Remote Support',\n",
       " 'Job openings For Data Analyst - AOA',\n",
       " 'Senior Data Analyst - Ads & Promotion Platform (APP)']"
      ]
     },
     "execution_count": 13,
     "metadata": {},
     "output_type": "execute_result"
    }
   ],
   "source": [
    "# Now the text of job title is inside the web elements extracted above\n",
    "#so we will run a for loop to iterate over the tags and will extract\n",
    "job_titles= []\n",
    "\n",
    "for i in title_tags:\n",
    "    job_titles.append(i.text)\n",
    "len(job_titles)\n",
    "title=job_titles[:10]\n",
    "title"
   ]
  },
  {
   "cell_type": "code",
   "execution_count": 14,
   "id": "3ed5a4de",
   "metadata": {},
   "outputs": [
    {
     "data": {
      "text/plain": [
       "[<selenium.webdriver.remote.webelement.WebElement (session=\"dfa8879cfd7777fbeaa4c056b2963d4b\", element=\"250138e6-33b6-4858-8aac-bb40362e4ca2\")>,\n",
       " <selenium.webdriver.remote.webelement.WebElement (session=\"dfa8879cfd7777fbeaa4c056b2963d4b\", element=\"fd8eddec-4e36-45fd-82f5-a6d557c70d13\")>,\n",
       " <selenium.webdriver.remote.webelement.WebElement (session=\"dfa8879cfd7777fbeaa4c056b2963d4b\", element=\"be68a67c-0b11-4714-ae92-479a19cfdd19\")>,\n",
       " <selenium.webdriver.remote.webelement.WebElement (session=\"dfa8879cfd7777fbeaa4c056b2963d4b\", element=\"79981f32-d49f-494f-a8f7-7ce8d785e8fd\")>,\n",
       " <selenium.webdriver.remote.webelement.WebElement (session=\"dfa8879cfd7777fbeaa4c056b2963d4b\", element=\"a7ecf7d5-b2a5-4573-9b68-af289faf90a0\")>,\n",
       " <selenium.webdriver.remote.webelement.WebElement (session=\"dfa8879cfd7777fbeaa4c056b2963d4b\", element=\"a607d921-ca1c-47df-8844-a9fb18cacc93\")>,\n",
       " <selenium.webdriver.remote.webelement.WebElement (session=\"dfa8879cfd7777fbeaa4c056b2963d4b\", element=\"ba92341e-44e8-4ea4-b330-42d5c3b23df4\")>,\n",
       " <selenium.webdriver.remote.webelement.WebElement (session=\"dfa8879cfd7777fbeaa4c056b2963d4b\", element=\"cddcd57f-43b4-499e-bfbe-755a03052948\")>,\n",
       " <selenium.webdriver.remote.webelement.WebElement (session=\"dfa8879cfd7777fbeaa4c056b2963d4b\", element=\"f4b0a341-4583-400c-b060-0ad7322a5cdd\")>,\n",
       " <selenium.webdriver.remote.webelement.WebElement (session=\"dfa8879cfd7777fbeaa4c056b2963d4b\", element=\"fc79ceeb-3754-411d-83e9-edc957f1d46c\")>]"
      ]
     },
     "execution_count": 14,
     "metadata": {},
     "output_type": "execute_result"
    }
   ],
   "source": [
    "# Let's extract all web elements having company names.\n",
    "company_tags = driver.find_elements_by_xpath('//a[@class=\"subTitle ellipsis fleft\"]')\n",
    "company_tags[:10]"
   ]
  },
  {
   "cell_type": "code",
   "execution_count": 15,
   "id": "144152a2",
   "metadata": {},
   "outputs": [
    {
     "data": {
      "text/plain": [
       "['Clario India Pvt Ltd',\n",
       " 'Flipkart',\n",
       " 'Cerner',\n",
       " 'Flipkart',\n",
       " 'Flipkart',\n",
       " 'Flipkart',\n",
       " 'Flipkart',\n",
       " 'Locuz Enterprise Solutions Ltd',\n",
       " 'izmo ltd',\n",
       " 'Gojek']"
      ]
     },
     "execution_count": 15,
     "metadata": {},
     "output_type": "execute_result"
    }
   ],
   "source": [
    "#so we will run a for loop to iterate over the tags and will extract\n",
    "company_names = []\n",
    "for i in company_tags:\n",
    "    company_names.append(i.text)\n",
    "len(company_names)\n",
    "company=company_names[:10]\n",
    "company"
   ]
  },
  {
   "cell_type": "code",
   "execution_count": 16,
   "id": "bf6bbf3e",
   "metadata": {},
   "outputs": [
    {
     "data": {
      "text/plain": [
       "19"
      ]
     },
     "execution_count": 16,
     "metadata": {},
     "output_type": "execute_result"
    }
   ],
   "source": [
    "#let's extract all web elements having experience using parent tag\n",
    "exp_tags = driver.find_elements_by_xpath('//li[@class=\"fleft grey-text br2 placeHolderLi experience\"]')\n",
    "len(exp_tags)"
   ]
  },
  {
   "cell_type": "code",
   "execution_count": 17,
   "id": "13777db0",
   "metadata": {},
   "outputs": [
    {
     "data": {
      "text/plain": [
       "['0-2 Yrs',\n",
       " '2-4 Yrs',\n",
       " '5-10 Yrs',\n",
       " '3-6 Yrs',\n",
       " '3-8 Yrs',\n",
       " '2-4 Yrs',\n",
       " '2-4 Yrs',\n",
       " '5-10 Yrs',\n",
       " '2-3 Yrs',\n",
       " '3-8 Yrs']"
      ]
     },
     "execution_count": 17,
     "metadata": {},
     "output_type": "execute_result"
    }
   ],
   "source": [
    "experience= []\n",
    "\n",
    "for i in exp_tags:\n",
    "    experience.append(i.text)\n",
    "exp1=experience[:10]\n",
    "exp1"
   ]
  },
  {
   "cell_type": "code",
   "execution_count": 18,
   "id": "04bba9c9",
   "metadata": {},
   "outputs": [
    {
     "data": {
      "text/plain": [
       "20"
      ]
     },
     "execution_count": 18,
     "metadata": {},
     "output_type": "execute_result"
    }
   ],
   "source": [
    "locn_tags = driver.find_elements_by_xpath('//li[@class=\"fleft grey-text br2 placeHolderLi location\"]')\n",
    "len(locn_tags)"
   ]
  },
  {
   "cell_type": "code",
   "execution_count": 19,
   "id": "9b278042",
   "metadata": {},
   "outputs": [
    {
     "data": {
      "text/plain": [
       "['Bangalore/Bengaluru',\n",
       " 'Bangalore/Bengaluru',\n",
       " 'Bangalore/Bengaluru',\n",
       " 'Bangalore/Bengaluru',\n",
       " 'Bangalore/Bengaluru',\n",
       " 'Bangalore/Bengaluru',\n",
       " 'Bangalore/Bengaluru',\n",
       " 'Hyderabad/Secunderabad, Chennai, Bangalore/Bengaluru',\n",
       " 'Bangalore/Bengaluru(4th Phase JP Nagar)',\n",
       " 'Bangalore/Bengaluru']"
      ]
     },
     "execution_count": 19,
     "metadata": {},
     "output_type": "execute_result"
    }
   ],
   "source": [
    "location =[]\n",
    "\n",
    "for i in locn_tags:\n",
    "    location.append(i.text)\n",
    "loc=location[:10]\n",
    "loc"
   ]
  },
  {
   "cell_type": "code",
   "execution_count": 20,
   "id": "d79778f1",
   "metadata": {},
   "outputs": [
    {
     "data": {
      "text/plain": [
       "(10, 10, 10, 10)"
      ]
     },
     "execution_count": 20,
     "metadata": {},
     "output_type": "execute_result"
    }
   ],
   "source": [
    "len(title),len(company),len(exp1),len(loc)"
   ]
  },
  {
   "cell_type": "code",
   "execution_count": 21,
   "id": "8a50e343",
   "metadata": {},
   "outputs": [
    {
     "data": {
      "text/html": [
       "<div>\n",
       "<style scoped>\n",
       "    .dataframe tbody tr th:only-of-type {\n",
       "        vertical-align: middle;\n",
       "    }\n",
       "\n",
       "    .dataframe tbody tr th {\n",
       "        vertical-align: top;\n",
       "    }\n",
       "\n",
       "    .dataframe thead th {\n",
       "        text-align: right;\n",
       "    }\n",
       "</style>\n",
       "<table border=\"1\" class=\"dataframe\">\n",
       "  <thead>\n",
       "    <tr style=\"text-align: right;\">\n",
       "      <th></th>\n",
       "      <th>Job-Titles</th>\n",
       "      <th>Company_name</th>\n",
       "      <th>Experience_required</th>\n",
       "      <th>Job-Location</th>\n",
       "    </tr>\n",
       "  </thead>\n",
       "  <tbody>\n",
       "    <tr>\n",
       "      <th>0</th>\n",
       "      <td>Hiring For Data Analyst I(SQL &amp; Python)</td>\n",
       "      <td>Clario India Pvt Ltd</td>\n",
       "      <td>0-2 Yrs</td>\n",
       "      <td>Bangalore/Bengaluru</td>\n",
       "    </tr>\n",
       "    <tr>\n",
       "      <th>1</th>\n",
       "      <td>Data Analyst - 3rd Party Payroll</td>\n",
       "      <td>Flipkart</td>\n",
       "      <td>2-4 Yrs</td>\n",
       "      <td>Bangalore/Bengaluru</td>\n",
       "    </tr>\n",
       "    <tr>\n",
       "      <th>2</th>\n",
       "      <td>Data Analyst I</td>\n",
       "      <td>Cerner</td>\n",
       "      <td>5-10 Yrs</td>\n",
       "      <td>Bangalore/Bengaluru</td>\n",
       "    </tr>\n",
       "    <tr>\n",
       "      <th>3</th>\n",
       "      <td>Senior Data Analyst II</td>\n",
       "      <td>Flipkart</td>\n",
       "      <td>3-6 Yrs</td>\n",
       "      <td>Bangalore/Bengaluru</td>\n",
       "    </tr>\n",
       "    <tr>\n",
       "      <th>4</th>\n",
       "      <td>Senior Data Analyst</td>\n",
       "      <td>Flipkart</td>\n",
       "      <td>3-8 Yrs</td>\n",
       "      <td>Bangalore/Bengaluru</td>\n",
       "    </tr>\n",
       "    <tr>\n",
       "      <th>5</th>\n",
       "      <td>Senior Data Analyst II</td>\n",
       "      <td>Flipkart</td>\n",
       "      <td>2-4 Yrs</td>\n",
       "      <td>Bangalore/Bengaluru</td>\n",
       "    </tr>\n",
       "    <tr>\n",
       "      <th>6</th>\n",
       "      <td>Senior Data Analyst II</td>\n",
       "      <td>Flipkart</td>\n",
       "      <td>2-4 Yrs</td>\n",
       "      <td>Bangalore/Bengaluru</td>\n",
       "    </tr>\n",
       "    <tr>\n",
       "      <th>7</th>\n",
       "      <td>Looking For Data Analyst - Remote Support</td>\n",
       "      <td>Locuz Enterprise Solutions Ltd</td>\n",
       "      <td>5-10 Yrs</td>\n",
       "      <td>Hyderabad/Secunderabad, Chennai, Bangalore/Ben...</td>\n",
       "    </tr>\n",
       "    <tr>\n",
       "      <th>8</th>\n",
       "      <td>Job openings For Data Analyst - AOA</td>\n",
       "      <td>izmo ltd</td>\n",
       "      <td>2-3 Yrs</td>\n",
       "      <td>Bangalore/Bengaluru(4th Phase JP Nagar)</td>\n",
       "    </tr>\n",
       "    <tr>\n",
       "      <th>9</th>\n",
       "      <td>Senior Data Analyst - Ads &amp; Promotion Platform...</td>\n",
       "      <td>Gojek</td>\n",
       "      <td>3-8 Yrs</td>\n",
       "      <td>Bangalore/Bengaluru</td>\n",
       "    </tr>\n",
       "  </tbody>\n",
       "</table>\n",
       "</div>"
      ],
      "text/plain": [
       "                                          Job-Titles  \\\n",
       "0            Hiring For Data Analyst I(SQL & Python)   \n",
       "1                   Data Analyst - 3rd Party Payroll   \n",
       "2                                     Data Analyst I   \n",
       "3                             Senior Data Analyst II   \n",
       "4                                Senior Data Analyst   \n",
       "5                             Senior Data Analyst II   \n",
       "6                             Senior Data Analyst II   \n",
       "7          Looking For Data Analyst - Remote Support   \n",
       "8                Job openings For Data Analyst - AOA   \n",
       "9  Senior Data Analyst - Ads & Promotion Platform...   \n",
       "\n",
       "                     Company_name Experience_required  \\\n",
       "0            Clario India Pvt Ltd             0-2 Yrs   \n",
       "1                        Flipkart             2-4 Yrs   \n",
       "2                          Cerner            5-10 Yrs   \n",
       "3                        Flipkart             3-6 Yrs   \n",
       "4                        Flipkart             3-8 Yrs   \n",
       "5                        Flipkart             2-4 Yrs   \n",
       "6                        Flipkart             2-4 Yrs   \n",
       "7  Locuz Enterprise Solutions Ltd            5-10 Yrs   \n",
       "8                        izmo ltd             2-3 Yrs   \n",
       "9                           Gojek             3-8 Yrs   \n",
       "\n",
       "                                        Job-Location  \n",
       "0                                Bangalore/Bengaluru  \n",
       "1                                Bangalore/Bengaluru  \n",
       "2                                Bangalore/Bengaluru  \n",
       "3                                Bangalore/Bengaluru  \n",
       "4                                Bangalore/Bengaluru  \n",
       "5                                Bangalore/Bengaluru  \n",
       "6                                Bangalore/Bengaluru  \n",
       "7  Hyderabad/Secunderabad, Chennai, Bangalore/Ben...  \n",
       "8            Bangalore/Bengaluru(4th Phase JP Nagar)  \n",
       "9                                Bangalore/Bengaluru  "
      ]
     },
     "execution_count": 21,
     "metadata": {},
     "output_type": "execute_result"
    }
   ],
   "source": [
    "jobs =pd.DataFrame()\n",
    "jobs['Job-Titles']=title\n",
    "jobs['Company_name']=company\n",
    "jobs['Experience_required']=exp1\n",
    "jobs['Job-Location']=loc\n",
    "jobs"
   ]
  },
  {
   "cell_type": "markdown",
   "id": "45c3506c",
   "metadata": {},
   "source": [
    "## Q2: Write a python program to scrape data for “Data Scientist” Job position in “Bangalore” location. You have to scrape the job-title, job-location, company_name. You have to scrape first 10 jobs data."
   ]
  },
  {
   "cell_type": "code",
   "execution_count": 22,
   "id": "d8f43a72",
   "metadata": {},
   "outputs": [],
   "source": [
    "#let's first connect to web driver\n",
    "driver = webdriver.Chrome(\"chromedriver.exe\")"
   ]
  },
  {
   "cell_type": "code",
   "execution_count": 23,
   "id": "72446c76",
   "metadata": {},
   "outputs": [],
   "source": [
    "url = 'https://www.naukri.com/'\n",
    "driver.get(url)"
   ]
  },
  {
   "cell_type": "code",
   "execution_count": 24,
   "id": "3897f590",
   "metadata": {},
   "outputs": [
    {
     "data": {
      "text/plain": [
       "<selenium.webdriver.remote.webelement.WebElement (session=\"c3df7fe96964a8d2d5c57190f2a1c5f2\", element=\"e5ea1ece-d987-4f72-9462-7fd98d2dc1ed\")>"
      ]
     },
     "execution_count": 24,
     "metadata": {},
     "output_type": "execute_result"
    }
   ],
   "source": [
    "# finding web element for search job bar using id\n",
    "search_job =driver.find_element_by_class_name('suggestor-input')\n",
    "search_job"
   ]
  },
  {
   "cell_type": "code",
   "execution_count": 25,
   "id": "4a96d688",
   "metadata": {},
   "outputs": [],
   "source": [
    "# write on search bar\n",
    "search_job.send_keys('Data Scientist')"
   ]
  },
  {
   "cell_type": "code",
   "execution_count": 26,
   "id": "609ac7b3",
   "metadata": {},
   "outputs": [
    {
     "data": {
      "text/plain": [
       "<selenium.webdriver.remote.webelement.WebElement (session=\"c3df7fe96964a8d2d5c57190f2a1c5f2\", element=\"9795efbf-66b8-4f69-874d-9e73f15e7a26\")>"
      ]
     },
     "execution_count": 26,
     "metadata": {},
     "output_type": "execute_result"
    }
   ],
   "source": [
    "search_locn = driver.find_element_by_xpath('/html/body/div/div[2]/div[3]/div/div/div[3]/div/div/div/input')\n",
    "search_locn"
   ]
  },
  {
   "cell_type": "code",
   "execution_count": 27,
   "id": "779a37ba",
   "metadata": {},
   "outputs": [],
   "source": [
    "# finding web element for job location bar\n",
    "search_locn.send_keys('Bangalore')"
   ]
  },
  {
   "cell_type": "code",
   "execution_count": 28,
   "id": "1003a0c3",
   "metadata": {},
   "outputs": [
    {
     "data": {
      "text/plain": [
       "<selenium.webdriver.remote.webelement.WebElement (session=\"c3df7fe96964a8d2d5c57190f2a1c5f2\", element=\"b7139d0f-84db-40eb-8218-5c9d13659f67\")>"
      ]
     },
     "execution_count": 28,
     "metadata": {},
     "output_type": "execute_result"
    }
   ],
   "source": [
    "# clicking using absolute xpath function\n",
    "search_btn = driver.find_element_by_xpath('/html/body/div/div[2]/div[3]/div/div/div[6]')\n",
    "search_btn"
   ]
  },
  {
   "cell_type": "code",
   "execution_count": 29,
   "id": "799f53a6",
   "metadata": {},
   "outputs": [],
   "source": [
    "search_btn.click()"
   ]
  },
  {
   "cell_type": "code",
   "execution_count": 30,
   "id": "8069597a",
   "metadata": {},
   "outputs": [],
   "source": [
    "salary_check = driver.find_element_by_xpath('/html/body/div[1]/div[3]/div[2]/section[1]/div[2]/div[4]/div[2]/div[1]/label/i')\n",
    "salary_check.click()"
   ]
  },
  {
   "cell_type": "code",
   "execution_count": 31,
   "id": "561bc7f6",
   "metadata": {},
   "outputs": [
    {
     "data": {
      "text/plain": [
       "(10, 10, 10, 10)"
      ]
     },
     "execution_count": 31,
     "metadata": {},
     "output_type": "execute_result"
    }
   ],
   "source": [
    "# Let's extract all web elements having job titles\n",
    "title_tags = driver.find_elements_by_xpath('//a[@class=\"title fw500 ellipsis\"]')\n",
    "title_tags[:10]\n",
    "\n",
    "# Now the text of job title is inside the web elements extracted above\n",
    "#so we will run a for loop to iterate over the tags and will extract\n",
    "job_titles= []\n",
    "\n",
    "for i in title_tags:\n",
    "    job_titles.append(i.text)\n",
    "title=job_titles[:10]\n",
    "title\n",
    "\n",
    "# Let's extract all web elements having company names.\n",
    "company_tags = driver.find_elements_by_xpath('//a[@class=\"subTitle ellipsis fleft\"]')\n",
    "company_tags[:10]\n",
    "\n",
    "#so we will run a for loop to iterate over the tags and will extract\n",
    "company_names = []\n",
    "for i in company_tags:\n",
    "    company_names.append(i.text)\n",
    "\n",
    "company=company_names[:10]\n",
    "company\n",
    "\n",
    "#let's extract all web elements having experience using parent tag\n",
    "exp_tags = driver.find_elements_by_xpath('//li[@class=\"fleft grey-text br2 placeHolderLi experience\"]')\n",
    "\n",
    "\n",
    "experience= []\n",
    "\n",
    "for i in exp_tags:\n",
    "    experience.append(i.text)\n",
    "exp1=experience[:10]\n",
    "exp1\n",
    "\n",
    "locn_tags = driver.find_elements_by_xpath('//li[@class=\"fleft grey-text br2 placeHolderLi location\"]')\n",
    "\n",
    "\n",
    "location =[]\n",
    "\n",
    "for i in locn_tags:\n",
    "    location.append(i.text)\n",
    "loc=location[:10]\n",
    "loc\n",
    "\n",
    "len(title),len(company),len(exp1),len(loc)"
   ]
  },
  {
   "cell_type": "code",
   "execution_count": 32,
   "id": "f531d361",
   "metadata": {},
   "outputs": [
    {
     "data": {
      "text/html": [
       "<div>\n",
       "<style scoped>\n",
       "    .dataframe tbody tr th:only-of-type {\n",
       "        vertical-align: middle;\n",
       "    }\n",
       "\n",
       "    .dataframe tbody tr th {\n",
       "        vertical-align: top;\n",
       "    }\n",
       "\n",
       "    .dataframe thead th {\n",
       "        text-align: right;\n",
       "    }\n",
       "</style>\n",
       "<table border=\"1\" class=\"dataframe\">\n",
       "  <thead>\n",
       "    <tr style=\"text-align: right;\">\n",
       "      <th></th>\n",
       "      <th>Job-Titles</th>\n",
       "      <th>Company_name</th>\n",
       "      <th>Experience_required</th>\n",
       "      <th>Job-Location</th>\n",
       "    </tr>\n",
       "  </thead>\n",
       "  <tbody>\n",
       "    <tr>\n",
       "      <th>0</th>\n",
       "      <td>Job openings For Data Analyst - AOA</td>\n",
       "      <td>izmo ltd</td>\n",
       "      <td>2-3 Yrs</td>\n",
       "      <td>Bangalore/Bengaluru(4th Phase JP Nagar)</td>\n",
       "    </tr>\n",
       "    <tr>\n",
       "      <th>1</th>\n",
       "      <td>software developer &amp; Testing / Business Analys...</td>\n",
       "      <td>SECRET TECHNOLOGIES INDIA VMS GROUP</td>\n",
       "      <td>0-4 Yrs</td>\n",
       "      <td>Pune, Bangalore/Bengaluru(Shivaji Nagar), Mumb...</td>\n",
       "    </tr>\n",
       "    <tr>\n",
       "      <th>2</th>\n",
       "      <td>Data Coordinator | Data Analyst | MS Excel | T...</td>\n",
       "      <td>Inspiration Manpower Consultancy Pvt. Ltd.</td>\n",
       "      <td>5-10 Yrs</td>\n",
       "      <td>Bangalore/Bengaluru(Sadashiva Nagar)</td>\n",
       "    </tr>\n",
       "    <tr>\n",
       "      <th>3</th>\n",
       "      <td>Hiring Data Analyst-Coimbatore/Bangalore</td>\n",
       "      <td>KGISL BSS- Division of KG Information System P...</td>\n",
       "      <td>0-2 Yrs</td>\n",
       "      <td>Coimbatore, Bangalore/Bengaluru</td>\n",
       "    </tr>\n",
       "    <tr>\n",
       "      <th>4</th>\n",
       "      <td>Looking For Data Analyst</td>\n",
       "      <td>Trellance</td>\n",
       "      <td>1-3 Yrs</td>\n",
       "      <td>Ahmedabad, Bangalore/Bengaluru</td>\n",
       "    </tr>\n",
       "    <tr>\n",
       "      <th>5</th>\n",
       "      <td>Data Analyst || Advance Excel || D Limit || Co...</td>\n",
       "      <td>Inspiration Manpower Consultancy Pvt. Ltd.</td>\n",
       "      <td>0-5 Yrs</td>\n",
       "      <td>Bangalore/Bengaluru</td>\n",
       "    </tr>\n",
       "    <tr>\n",
       "      <th>6</th>\n",
       "      <td>Data Analyst</td>\n",
       "      <td>Capillary Technologies</td>\n",
       "      <td>1-2 Yrs</td>\n",
       "      <td>Bangalore/Bengaluru</td>\n",
       "    </tr>\n",
       "    <tr>\n",
       "      <th>7</th>\n",
       "      <td>Data Analyst Work FROM Home</td>\n",
       "      <td>Fine Homes and Interior</td>\n",
       "      <td>2-3 Yrs</td>\n",
       "      <td>Bangalore/Bengaluru\\n(WFH during Covid)</td>\n",
       "    </tr>\n",
       "    <tr>\n",
       "      <th>8</th>\n",
       "      <td>MIS Executive and Analyst | Data Analyst | Dat...</td>\n",
       "      <td>D2 Retro</td>\n",
       "      <td>0-4 Yrs</td>\n",
       "      <td>Bangalore/Bengaluru, Mumbai (All Areas)</td>\n",
       "    </tr>\n",
       "    <tr>\n",
       "      <th>9</th>\n",
       "      <td>Data Operations Analyst</td>\n",
       "      <td>epiFi Technologies</td>\n",
       "      <td>0-2 Yrs</td>\n",
       "      <td>Bangalore/Bengaluru</td>\n",
       "    </tr>\n",
       "  </tbody>\n",
       "</table>\n",
       "</div>"
      ],
      "text/plain": [
       "                                          Job-Titles  \\\n",
       "0                Job openings For Data Analyst - AOA   \n",
       "1  software developer & Testing / Business Analys...   \n",
       "2  Data Coordinator | Data Analyst | MS Excel | T...   \n",
       "3           Hiring Data Analyst-Coimbatore/Bangalore   \n",
       "4                           Looking For Data Analyst   \n",
       "5  Data Analyst || Advance Excel || D Limit || Co...   \n",
       "6                                       Data Analyst   \n",
       "7                        Data Analyst Work FROM Home   \n",
       "8  MIS Executive and Analyst | Data Analyst | Dat...   \n",
       "9                            Data Operations Analyst   \n",
       "\n",
       "                                        Company_name Experience_required  \\\n",
       "0                                           izmo ltd             2-3 Yrs   \n",
       "1                SECRET TECHNOLOGIES INDIA VMS GROUP             0-4 Yrs   \n",
       "2         Inspiration Manpower Consultancy Pvt. Ltd.            5-10 Yrs   \n",
       "3  KGISL BSS- Division of KG Information System P...             0-2 Yrs   \n",
       "4                                          Trellance             1-3 Yrs   \n",
       "5         Inspiration Manpower Consultancy Pvt. Ltd.             0-5 Yrs   \n",
       "6                             Capillary Technologies             1-2 Yrs   \n",
       "7                            Fine Homes and Interior             2-3 Yrs   \n",
       "8                                           D2 Retro             0-4 Yrs   \n",
       "9                                 epiFi Technologies             0-2 Yrs   \n",
       "\n",
       "                                        Job-Location  \n",
       "0            Bangalore/Bengaluru(4th Phase JP Nagar)  \n",
       "1  Pune, Bangalore/Bengaluru(Shivaji Nagar), Mumb...  \n",
       "2               Bangalore/Bengaluru(Sadashiva Nagar)  \n",
       "3                    Coimbatore, Bangalore/Bengaluru  \n",
       "4                     Ahmedabad, Bangalore/Bengaluru  \n",
       "5                                Bangalore/Bengaluru  \n",
       "6                                Bangalore/Bengaluru  \n",
       "7            Bangalore/Bengaluru\\n(WFH during Covid)  \n",
       "8            Bangalore/Bengaluru, Mumbai (All Areas)  \n",
       "9                                Bangalore/Bengaluru  "
      ]
     },
     "execution_count": 32,
     "metadata": {},
     "output_type": "execute_result"
    }
   ],
   "source": [
    "# creat Data Frame of the job-title, job-location, company_name, experience_required: \n",
    "# Data scientist as DS\n",
    "jobs =pd.DataFrame()\n",
    "jobs['Job-Titles']=title\n",
    "jobs['Company_name']=company\n",
    "jobs['Experience_required']=exp1\n",
    "jobs['Job-Location']=loc\n",
    "jobs"
   ]
  },
  {
   "cell_type": "markdown",
   "id": "39fa6fb7",
   "metadata": {},
   "source": [
    "## Q3: In this question you have to scrape data using the filters available on the webpage as shown below:\n",
    "You have to use the location and salary filter.\n",
    "You have to scrape data for “Data Scientist” designation for first 10 job results.\n",
    "You have to scrape the job-title, job-location, company name, experience required.\n",
    "The location filter to be used is “Delhi/NCR”. The salary filter to be used is “3-6” lakhs\n"
   ]
  },
  {
   "cell_type": "code",
   "execution_count": 33,
   "id": "36d6b98d",
   "metadata": {},
   "outputs": [],
   "source": [
    "#let's first connect to web driver\n",
    "driver = webdriver.Chrome(\"chromedriver.exe\")"
   ]
  },
  {
   "cell_type": "code",
   "execution_count": 34,
   "id": "88ef93a2",
   "metadata": {},
   "outputs": [],
   "source": [
    "url = 'https://www.naukri.com/'\n",
    "driver.get(url)"
   ]
  },
  {
   "cell_type": "code",
   "execution_count": 35,
   "id": "281b6409",
   "metadata": {},
   "outputs": [
    {
     "data": {
      "text/plain": [
       "<selenium.webdriver.remote.webelement.WebElement (session=\"86f34bd5fbe58fe7557e845bfbb3bd3a\", element=\"a7bca942-9173-423b-8943-e11709329327\")>"
      ]
     },
     "execution_count": 35,
     "metadata": {},
     "output_type": "execute_result"
    }
   ],
   "source": [
    "# finding web element for search job bar using id\n",
    "search_job =driver.find_element_by_class_name('suggestor-input')\n",
    "search_job"
   ]
  },
  {
   "cell_type": "code",
   "execution_count": 36,
   "id": "25fec607",
   "metadata": {},
   "outputs": [],
   "source": [
    "# write on search bar\n",
    "search_job.send_keys('Data Scientist')"
   ]
  },
  {
   "cell_type": "code",
   "execution_count": 37,
   "id": "c55ab367",
   "metadata": {},
   "outputs": [
    {
     "data": {
      "text/plain": [
       "<selenium.webdriver.remote.webelement.WebElement (session=\"86f34bd5fbe58fe7557e845bfbb3bd3a\", element=\"084933b5-65fd-45e2-8443-5f6a3565e3c9\")>"
      ]
     },
     "execution_count": 37,
     "metadata": {},
     "output_type": "execute_result"
    }
   ],
   "source": [
    "# clicking using absolute xpath function\n",
    "search_btn = driver.find_element_by_xpath('/html/body/div/div[2]/div[3]/div/div/div[6]')\n",
    "search_btn"
   ]
  },
  {
   "cell_type": "code",
   "execution_count": 38,
   "id": "beeca0d2",
   "metadata": {},
   "outputs": [],
   "source": [
    "search_btn.click()"
   ]
  },
  {
   "cell_type": "code",
   "execution_count": 39,
   "id": "7b13c2e0",
   "metadata": {},
   "outputs": [],
   "source": [
    "filter_btn = driver.find_element_by_xpath('/html/body/div[1]/div[3]/div[2]/section[1]/div[2]/div[3]/div[2]/div[3]')\n",
    "filter_btn\n",
    "filter_btn.click()"
   ]
  },
  {
   "cell_type": "code",
   "execution_count": 40,
   "id": "49609ea1",
   "metadata": {},
   "outputs": [],
   "source": [
    "filter_btn1 = driver.find_element_by_xpath('/html/body/div[1]/div[3]/div[2]/section[1]/div[2]/div[4]/div[2]/div[2]/label/i')\n",
    "filter_btn1\n",
    "filter_btn1.click()"
   ]
  },
  {
   "cell_type": "code",
   "execution_count": 41,
   "id": "5c263228",
   "metadata": {},
   "outputs": [
    {
     "data": {
      "text/plain": [
       "(10, 10, 10, 10)"
      ]
     },
     "execution_count": 41,
     "metadata": {},
     "output_type": "execute_result"
    }
   ],
   "source": [
    "# Let's extract all web elements having job titles\n",
    "title_tags = driver.find_elements_by_xpath('//a[@class=\"title fw500 ellipsis\"]')\n",
    "title_tags[:10]\n",
    "\n",
    "# Now the text of job title is inside the web elements extracted above\n",
    "#so we will run a for loop to iterate over the tags and will extract\n",
    "job_titles= []\n",
    "\n",
    "for i in title_tags:\n",
    "    job_titles.append(i.text)\n",
    "title=job_titles[:10]\n",
    "title\n",
    "\n",
    "# Let's extract all web elements having company names.\n",
    "company_tags = driver.find_elements_by_xpath('//a[@class=\"subTitle ellipsis fleft\"]')\n",
    "company_tags[:10]\n",
    "\n",
    "#so we will run a for loop to iterate over the tags and will extract\n",
    "company_names = []\n",
    "for i in company_tags:\n",
    "    company_names.append(i.text)\n",
    "\n",
    "company=company_names[:10]\n",
    "company\n",
    "\n",
    "#let's extract all web elements having experience using parent tag\n",
    "exp_tags = driver.find_elements_by_xpath('//li[@class=\"fleft grey-text br2 placeHolderLi experience\"]')\n",
    "\n",
    "\n",
    "experience= []\n",
    "\n",
    "for i in exp_tags:\n",
    "    experience.append(i.text)\n",
    "exp1=experience[:10]\n",
    "exp1\n",
    "\n",
    "locn_tags = driver.find_elements_by_xpath('//li[@class=\"fleft grey-text br2 placeHolderLi location\"]')\n",
    "\n",
    "\n",
    "location =[]\n",
    "\n",
    "for i in locn_tags:\n",
    "    location.append(i.text)\n",
    "loc=location[:10]\n",
    "loc\n",
    "\n",
    "len(title),len(company),len(exp1),len(loc)"
   ]
  },
  {
   "cell_type": "code",
   "execution_count": 42,
   "id": "bc116a92",
   "metadata": {},
   "outputs": [
    {
     "data": {
      "text/html": [
       "<div>\n",
       "<style scoped>\n",
       "    .dataframe tbody tr th:only-of-type {\n",
       "        vertical-align: middle;\n",
       "    }\n",
       "\n",
       "    .dataframe tbody tr th {\n",
       "        vertical-align: top;\n",
       "    }\n",
       "\n",
       "    .dataframe thead th {\n",
       "        text-align: right;\n",
       "    }\n",
       "</style>\n",
       "<table border=\"1\" class=\"dataframe\">\n",
       "  <thead>\n",
       "    <tr style=\"text-align: right;\">\n",
       "      <th></th>\n",
       "      <th>Job-Titles</th>\n",
       "      <th>Company_name</th>\n",
       "      <th>Experience_required</th>\n",
       "      <th>Job-Location</th>\n",
       "    </tr>\n",
       "  </thead>\n",
       "  <tbody>\n",
       "    <tr>\n",
       "      <th>0</th>\n",
       "      <td>Excellent Opportunity For Freshers For AI/ML, ...</td>\n",
       "      <td>NTT Data</td>\n",
       "      <td>0-0 Yrs</td>\n",
       "      <td>Noida, Kolkata, Hyderabad/Secunderabad, Pune, ...</td>\n",
       "    </tr>\n",
       "    <tr>\n",
       "      <th>1</th>\n",
       "      <td>Data Analyst / Data Scientist / Business Analy...</td>\n",
       "      <td>GABA Consultancy services</td>\n",
       "      <td>0-0 Yrs</td>\n",
       "      <td>Noida, New Delhi, Delhi / NCR</td>\n",
       "    </tr>\n",
       "    <tr>\n",
       "      <th>2</th>\n",
       "      <td>Hiring For Senior Data Scientist-Noida</td>\n",
       "      <td>Lumiq.ai</td>\n",
       "      <td>2-6 Yrs</td>\n",
       "      <td>Noida, New Delhi, Greater Noida</td>\n",
       "    </tr>\n",
       "    <tr>\n",
       "      <th>3</th>\n",
       "      <td>Data scientist- Python</td>\n",
       "      <td>TeamPlus Staffing Solution Pvt Ltd</td>\n",
       "      <td>3-6 Yrs</td>\n",
       "      <td>Gurgaon/Gurugram</td>\n",
       "    </tr>\n",
       "    <tr>\n",
       "      <th>4</th>\n",
       "      <td>Data Scientist _NLP</td>\n",
       "      <td>EXL</td>\n",
       "      <td>3-8 Yrs</td>\n",
       "      <td>Bangalore/Bengaluru, Delhi / NCR\\n(WFH during ...</td>\n",
       "    </tr>\n",
       "    <tr>\n",
       "      <th>5</th>\n",
       "      <td>Data Scientist</td>\n",
       "      <td>Mount Talent Consulting Private Limited</td>\n",
       "      <td>1-4 Yrs</td>\n",
       "      <td>Hyderabad/Secunderabad, Pune, Gurgaon/Gurugram...</td>\n",
       "    </tr>\n",
       "    <tr>\n",
       "      <th>6</th>\n",
       "      <td>Lead Data Scientist</td>\n",
       "      <td>Indihire HR Consultants Private Limited</td>\n",
       "      <td>2-4 Yrs</td>\n",
       "      <td>Delhi / NCR\\n(WFH during Covid)</td>\n",
       "    </tr>\n",
       "    <tr>\n",
       "      <th>7</th>\n",
       "      <td>Only Fresher / Python Data Scientist / Trainee...</td>\n",
       "      <td>GABA Consultancy services</td>\n",
       "      <td>0-0 Yrs</td>\n",
       "      <td>Noida, New Delhi, Gurgaon/Gurugram</td>\n",
       "    </tr>\n",
       "    <tr>\n",
       "      <th>8</th>\n",
       "      <td>Data Scientist (freelance)</td>\n",
       "      <td>2Coms</td>\n",
       "      <td>2-7 Yrs</td>\n",
       "      <td>New Delhi, Delhi</td>\n",
       "    </tr>\n",
       "    <tr>\n",
       "      <th>9</th>\n",
       "      <td>Junior Data Analyst/ Scientist- Fresher Position</td>\n",
       "      <td>Sejal Consulting Hub</td>\n",
       "      <td>0-3 Yrs</td>\n",
       "      <td>Kolkata, Hyderabad/Secunderabad, Pune, Ahmedab...</td>\n",
       "    </tr>\n",
       "  </tbody>\n",
       "</table>\n",
       "</div>"
      ],
      "text/plain": [
       "                                          Job-Titles  \\\n",
       "0  Excellent Opportunity For Freshers For AI/ML, ...   \n",
       "1  Data Analyst / Data Scientist / Business Analy...   \n",
       "2             Hiring For Senior Data Scientist-Noida   \n",
       "3                             Data scientist- Python   \n",
       "4                                Data Scientist _NLP   \n",
       "5                                     Data Scientist   \n",
       "6                                Lead Data Scientist   \n",
       "7  Only Fresher / Python Data Scientist / Trainee...   \n",
       "8                         Data Scientist (freelance)   \n",
       "9   Junior Data Analyst/ Scientist- Fresher Position   \n",
       "\n",
       "                              Company_name Experience_required  \\\n",
       "0                                 NTT Data             0-0 Yrs   \n",
       "1                GABA Consultancy services             0-0 Yrs   \n",
       "2                                 Lumiq.ai             2-6 Yrs   \n",
       "3       TeamPlus Staffing Solution Pvt Ltd             3-6 Yrs   \n",
       "4                                      EXL             3-8 Yrs   \n",
       "5  Mount Talent Consulting Private Limited             1-4 Yrs   \n",
       "6  Indihire HR Consultants Private Limited             2-4 Yrs   \n",
       "7                GABA Consultancy services             0-0 Yrs   \n",
       "8                                    2Coms             2-7 Yrs   \n",
       "9                     Sejal Consulting Hub             0-3 Yrs   \n",
       "\n",
       "                                        Job-Location  \n",
       "0  Noida, Kolkata, Hyderabad/Secunderabad, Pune, ...  \n",
       "1                      Noida, New Delhi, Delhi / NCR  \n",
       "2                    Noida, New Delhi, Greater Noida  \n",
       "3                                   Gurgaon/Gurugram  \n",
       "4  Bangalore/Bengaluru, Delhi / NCR\\n(WFH during ...  \n",
       "5  Hyderabad/Secunderabad, Pune, Gurgaon/Gurugram...  \n",
       "6                    Delhi / NCR\\n(WFH during Covid)  \n",
       "7                 Noida, New Delhi, Gurgaon/Gurugram  \n",
       "8                                   New Delhi, Delhi  \n",
       "9  Kolkata, Hyderabad/Secunderabad, Pune, Ahmedab...  "
      ]
     },
     "execution_count": 42,
     "metadata": {},
     "output_type": "execute_result"
    }
   ],
   "source": [
    "# creat Data Frame of the job-title, job-location, company_name, experience_required: \n",
    "# Data scientist as DS\n",
    "jobs =pd.DataFrame()\n",
    "jobs['Job-Titles']=title\n",
    "jobs['Company_name']=company\n",
    "jobs['Experience_required']=exp1\n",
    "jobs['Job-Location']=loc\n",
    "jobs"
   ]
  },
  {
   "cell_type": "markdown",
   "id": "1c073d12",
   "metadata": {},
   "source": [
    "## Q4: Scrape data of first 100 sunglasses listings on flipkart.com. You have to scrape four attributes:\n",
    " 1. Brand\n",
    " 2. Product Description\n",
    " 3. Price"
   ]
  },
  {
   "cell_type": "code",
   "execution_count": 43,
   "id": "96e26646",
   "metadata": {},
   "outputs": [],
   "source": [
    "#let's first connect to web driver\n",
    "driver = webdriver.Chrome(\"chromedriver.exe\")"
   ]
  },
  {
   "cell_type": "code",
   "execution_count": 44,
   "id": "8ffc96e1",
   "metadata": {},
   "outputs": [],
   "source": [
    "url='https://www.flipkart.com/'\n",
    "driver.get(url)"
   ]
  },
  {
   "cell_type": "code",
   "execution_count": 45,
   "id": "09cc6ee6",
   "metadata": {},
   "outputs": [],
   "source": [
    "search = driver.find_element_by_class_name(\"_3704LK\")\n",
    "search.send_keys(\"Sun Glasses\")"
   ]
  },
  {
   "cell_type": "code",
   "execution_count": 46,
   "id": "16f04063",
   "metadata": {},
   "outputs": [],
   "source": [
    "# search bar:\n",
    "search_bar = driver.find_element_by_class_name('L0Z3Pu')\n",
    "search_bar.click()"
   ]
  },
  {
   "cell_type": "code",
   "execution_count": 47,
   "id": "1c53ff7f",
   "metadata": {},
   "outputs": [],
   "source": [
    "#extract data from different pages:\n",
    "start=0\n",
    "end=4\n",
    "\n",
    "#creating a dictionary for storing the information after scraping:\n",
    "\n",
    "brand = []\n",
    "price = []\n",
    "des = []\n",
    "off = []\n",
    "\n",
    "for page in range(start,end):\n",
    "    brands=driver.find_elements_by_class_name('_2WkVRV')\n",
    "    prices=driver.find_elements_by_xpath(\"//div[@class='_30jeq3']\")\n",
    "    descp=driver.find_elements_by_class_name('IRpwTa')\n",
    "    dis=driver.find_elements_by_class_name('_3Ay6Sb')\n",
    "    \n",
    "    for i in brands:\n",
    "        brand.append(i.text)\n",
    "    for j in prices:\n",
    "        price.append(j.text)\n",
    "    for k in descp:\n",
    "        des.append(k.text)\n",
    "    for l in dis:\n",
    "        off.append(l.text)\n",
    "    nxt_button=driver.find_elements_by_xpath(\"//a[@class='_1LKTO3']\")\n",
    "    try:\n",
    "        driver.get(nxt_button[1].get_attribute('href'))\n",
    "    except:\n",
    "        driver.get(nxt_button[0].get_attribute('href'))"
   ]
  },
  {
   "cell_type": "code",
   "execution_count": 48,
   "id": "ee28a674",
   "metadata": {},
   "outputs": [],
   "source": [
    "# all 100 products as per our requirement:\n",
    "br=brand[0:100]\n",
    "pr=price[0:100]\n",
    "pro=des[0:100]\n",
    "dis=off[0:100]"
   ]
  },
  {
   "cell_type": "code",
   "execution_count": 49,
   "id": "0e106ead",
   "metadata": {},
   "outputs": [
    {
     "data": {
      "text/html": [
       "<div>\n",
       "<style scoped>\n",
       "    .dataframe tbody tr th:only-of-type {\n",
       "        vertical-align: middle;\n",
       "    }\n",
       "\n",
       "    .dataframe tbody tr th {\n",
       "        vertical-align: top;\n",
       "    }\n",
       "\n",
       "    .dataframe thead th {\n",
       "        text-align: right;\n",
       "    }\n",
       "</style>\n",
       "<table border=\"1\" class=\"dataframe\">\n",
       "  <thead>\n",
       "    <tr style=\"text-align: right;\">\n",
       "      <th></th>\n",
       "      <th>Brand</th>\n",
       "      <th>Product Description</th>\n",
       "      <th>Price</th>\n",
       "      <th>Discount</th>\n",
       "    </tr>\n",
       "  </thead>\n",
       "  <tbody>\n",
       "    <tr>\n",
       "      <th>0</th>\n",
       "      <td>VINCENT CHASE</td>\n",
       "      <td>by Lenskart Polarized, UV Protection Round Sun...</td>\n",
       "      <td>₹1,344</td>\n",
       "      <td>33% off</td>\n",
       "    </tr>\n",
       "    <tr>\n",
       "      <th>1</th>\n",
       "      <td>VINCENT CHASE</td>\n",
       "      <td>by Lenskart Polarized, UV Protection Round Sun...</td>\n",
       "      <td>₹799</td>\n",
       "      <td>68% off</td>\n",
       "    </tr>\n",
       "    <tr>\n",
       "      <th>2</th>\n",
       "      <td>SRPM</td>\n",
       "      <td>UV Protection Wayfarer Sunglasses (50)</td>\n",
       "      <td>₹198</td>\n",
       "      <td>85% off</td>\n",
       "    </tr>\n",
       "    <tr>\n",
       "      <th>3</th>\n",
       "      <td>SUNBEE</td>\n",
       "      <td>UV Protection, Polarized Wayfarer Sunglasses (...</td>\n",
       "      <td>₹253</td>\n",
       "      <td>81% off</td>\n",
       "    </tr>\n",
       "    <tr>\n",
       "      <th>4</th>\n",
       "      <td>ROZZETTA CRAFT</td>\n",
       "      <td>Polarized, Night Vision, Riding Glasses Sports...</td>\n",
       "      <td>₹474</td>\n",
       "      <td>76% off</td>\n",
       "    </tr>\n",
       "    <tr>\n",
       "      <th>...</th>\n",
       "      <td>...</td>\n",
       "      <td>...</td>\n",
       "      <td>...</td>\n",
       "      <td>...</td>\n",
       "    </tr>\n",
       "    <tr>\n",
       "      <th>95</th>\n",
       "      <td>LOUIS KOUROS</td>\n",
       "      <td>UV Protection Aviator Sunglasses (60)</td>\n",
       "      <td>₹1,349</td>\n",
       "      <td>89% off</td>\n",
       "    </tr>\n",
       "    <tr>\n",
       "      <th>96</th>\n",
       "      <td>ROYAL SON</td>\n",
       "      <td>Polarized Rectangular Sunglasses (60)</td>\n",
       "      <td>₹664</td>\n",
       "      <td>82% off</td>\n",
       "    </tr>\n",
       "    <tr>\n",
       "      <th>97</th>\n",
       "      <td>ROYAL SON</td>\n",
       "      <td>UV Protection Retro Square Sunglasses (58)</td>\n",
       "      <td>₹474</td>\n",
       "      <td>83% off</td>\n",
       "    </tr>\n",
       "    <tr>\n",
       "      <th>98</th>\n",
       "      <td>Fastrack</td>\n",
       "      <td>Gradient, UV Protection Wayfarer Sunglasses (F...</td>\n",
       "      <td>₹702</td>\n",
       "      <td>73% off</td>\n",
       "    </tr>\n",
       "    <tr>\n",
       "      <th>99</th>\n",
       "      <td>VINCENT CHASE</td>\n",
       "      <td>by Lenskart Polarized, UV Protection Wayfarer ...</td>\n",
       "      <td>₹799</td>\n",
       "      <td>67% off</td>\n",
       "    </tr>\n",
       "  </tbody>\n",
       "</table>\n",
       "<p>100 rows × 4 columns</p>\n",
       "</div>"
      ],
      "text/plain": [
       "             Brand                                Product Description   Price  \\\n",
       "0    VINCENT CHASE  by Lenskart Polarized, UV Protection Round Sun...  ₹1,344   \n",
       "1    VINCENT CHASE  by Lenskart Polarized, UV Protection Round Sun...    ₹799   \n",
       "2             SRPM             UV Protection Wayfarer Sunglasses (50)    ₹198   \n",
       "3           SUNBEE  UV Protection, Polarized Wayfarer Sunglasses (...    ₹253   \n",
       "4   ROZZETTA CRAFT  Polarized, Night Vision, Riding Glasses Sports...    ₹474   \n",
       "..             ...                                                ...     ...   \n",
       "95    LOUIS KOUROS              UV Protection Aviator Sunglasses (60)  ₹1,349   \n",
       "96       ROYAL SON              Polarized Rectangular Sunglasses (60)    ₹664   \n",
       "97       ROYAL SON         UV Protection Retro Square Sunglasses (58)    ₹474   \n",
       "98        Fastrack  Gradient, UV Protection Wayfarer Sunglasses (F...    ₹702   \n",
       "99   VINCENT CHASE  by Lenskart Polarized, UV Protection Wayfarer ...    ₹799   \n",
       "\n",
       "   Discount  \n",
       "0   33% off  \n",
       "1   68% off  \n",
       "2   85% off  \n",
       "3   81% off  \n",
       "4   76% off  \n",
       "..      ...  \n",
       "95  89% off  \n",
       "96  82% off  \n",
       "97  83% off  \n",
       "98  73% off  \n",
       "99  67% off  \n",
       "\n",
       "[100 rows x 4 columns]"
      ]
     },
     "execution_count": 49,
     "metadata": {},
     "output_type": "execute_result"
    }
   ],
   "source": [
    "# creat Data Frame of the Sun Glasses as brand, price, product description and discount:\n",
    "\n",
    "SunGlasses=pd.DataFrame() \n",
    "SunGlasses['Brand']=br\n",
    "SunGlasses['Product Description'] = pro\n",
    "SunGlasses['Price']=pr\n",
    "SunGlasses['Discount']=dis\n",
    "SunGlasses"
   ]
  },
  {
   "cell_type": "markdown",
   "id": "7340453b",
   "metadata": {},
   "source": [
    "## Q5: Scrape 100 reviews data from flipkart.com for iphone11 phone. You have to go the link:\n",
    "https://www.flipkart.com/apple-iphone-11-black-64-gb-includes- earpods-power\u0002adapter/p/itm0f37c2240b217?pid=MOBFKCTSVZAXUHGR&lid=LSTMOBFKC\n",
    "TSVZAXUHGREPBFGI&marketplace"
   ]
  },
  {
   "cell_type": "code",
   "execution_count": 50,
   "id": "fb813a7f",
   "metadata": {},
   "outputs": [],
   "source": [
    "#let's first connect to web driver\n",
    "driver = webdriver.Chrome(\"chromedriver.exe\")"
   ]
  },
  {
   "cell_type": "code",
   "execution_count": 51,
   "id": "928cf54d",
   "metadata": {},
   "outputs": [],
   "source": [
    "#passing url:\n",
    "url='https://www.flipkart.com/search?q=iphone%2011&otracker=search&otracker1=search&marketplace=FLIPKART&as-show=on&as=off'\n",
    "driver.get(url)"
   ]
  },
  {
   "cell_type": "code",
   "execution_count": 52,
   "id": "88c962aa",
   "metadata": {},
   "outputs": [],
   "source": [
    "#WebElement using xpath:\n",
    "iphone = driver.find_element_by_xpath('/html/body/div/div/div[3]/div[1]/div[2]/div[2]/div/div/div/a/div[2]/div[1]/div[2]')\n",
    "iphone.click()"
   ]
  },
  {
   "cell_type": "code",
   "execution_count": 53,
   "id": "7cc21a81",
   "metadata": {},
   "outputs": [],
   "source": [
    "#extract data from different pages:\n",
    "start=0\n",
    "end=12\n",
    "\n",
    "#creating a dictionary for storing the information after scraping:\n",
    "\n",
    "rating = []\n",
    "review = []\n",
    "full = []\n",
    "\n",
    "for page in range(start,end):\n",
    "    ratings=driver.find_elements_by_xpath(\"//div[@class='_3LWZlK _1BLPMq']\"or\"//div[@class='_3LWZlK _1rdVr6 _1BLPMq']\")\n",
    "    reviews=driver.find_elements_by_xpath(\"//p[@class='_2-N8zT']\")\n",
    "    descp=driver.find_elements_by_xpath(\"//div[@class='t-ZTKy']\")\n",
    "    for i in ratings:\n",
    "        rating.append(i.text)\n",
    "    for j in reviews:\n",
    "        review.append(j.text)\n",
    "    for k in descp:\n",
    "        full.append(k.text)\n",
    "    nxt_button=driver.find_elements_by_xpath(\"//a[@class='_1LKTO3']\")\n",
    "    try:\n",
    "        driver.get(nxt_button[1].get_attribute('href'))\n",
    "    except:\n",
    "        driver.get(nxt_button[0].get_attribute('href'))"
   ]
  },
  {
   "cell_type": "code",
   "execution_count": 54,
   "id": "06344498",
   "metadata": {},
   "outputs": [],
   "source": [
    "# all 100 products as per our requirement:\n",
    "\n",
    "r=rating[0:100]\n",
    "w=review[0:100]\n",
    "d=full[0:100]"
   ]
  },
  {
   "cell_type": "code",
   "execution_count": 55,
   "id": "af9e1a58",
   "metadata": {},
   "outputs": [
    {
     "data": {
      "text/html": [
       "<div>\n",
       "<style scoped>\n",
       "    .dataframe tbody tr th:only-of-type {\n",
       "        vertical-align: middle;\n",
       "    }\n",
       "\n",
       "    .dataframe tbody tr th {\n",
       "        vertical-align: top;\n",
       "    }\n",
       "\n",
       "    .dataframe thead th {\n",
       "        text-align: right;\n",
       "    }\n",
       "</style>\n",
       "<table border=\"1\" class=\"dataframe\">\n",
       "  <thead>\n",
       "    <tr style=\"text-align: right;\">\n",
       "      <th></th>\n",
       "      <th>0</th>\n",
       "      <th>1</th>\n",
       "      <th>2</th>\n",
       "      <th>3</th>\n",
       "      <th>4</th>\n",
       "      <th>5</th>\n",
       "      <th>6</th>\n",
       "      <th>7</th>\n",
       "      <th>8</th>\n",
       "      <th>9</th>\n",
       "      <th>...</th>\n",
       "      <th>90</th>\n",
       "      <th>91</th>\n",
       "      <th>92</th>\n",
       "      <th>93</th>\n",
       "      <th>94</th>\n",
       "      <th>95</th>\n",
       "      <th>96</th>\n",
       "      <th>97</th>\n",
       "      <th>98</th>\n",
       "      <th>99</th>\n",
       "    </tr>\n",
       "  </thead>\n",
       "  <tbody>\n",
       "    <tr>\n",
       "      <th>rating</th>\n",
       "      <td>5</td>\n",
       "      <td>3</td>\n",
       "      <td>5</td>\n",
       "      <td>5</td>\n",
       "      <td>5</td>\n",
       "      <td>5</td>\n",
       "      <td>4</td>\n",
       "      <td>5</td>\n",
       "      <td>5</td>\n",
       "      <td>5</td>\n",
       "      <td>...</td>\n",
       "      <td>5</td>\n",
       "      <td>5</td>\n",
       "      <td>5</td>\n",
       "      <td>5</td>\n",
       "      <td>5</td>\n",
       "      <td>5</td>\n",
       "      <td>3</td>\n",
       "      <td>5</td>\n",
       "      <td>None</td>\n",
       "      <td>None</td>\n",
       "    </tr>\n",
       "    <tr>\n",
       "      <th>review</th>\n",
       "      <td>Best in the market!</td>\n",
       "      <td>Decent product</td>\n",
       "      <td>Wonderful</td>\n",
       "      <td>Absolute rubbish!</td>\n",
       "      <td>Iphone 5S review</td>\n",
       "      <td>Worthless</td>\n",
       "      <td>Brilliant</td>\n",
       "      <td>Just wow!</td>\n",
       "      <td>Good quality product</td>\n",
       "      <td>Perfect product!</td>\n",
       "      <td>...</td>\n",
       "      <td>Fabulous!</td>\n",
       "      <td>Mind-blowing purchase</td>\n",
       "      <td>Iphone 5S review</td>\n",
       "      <td>Worthless</td>\n",
       "      <td>Best in the market!</td>\n",
       "      <td>Decent product</td>\n",
       "      <td>Excellent</td>\n",
       "      <td>Must buy!</td>\n",
       "      <td>Classic !!!!</td>\n",
       "      <td>Must buy!</td>\n",
       "    </tr>\n",
       "    <tr>\n",
       "      <th>desription</th>\n",
       "      <td>Reviewing after using it\\n\\n1. Display is supe...</td>\n",
       "      <td>Everything is good. Except battery as it drain...</td>\n",
       "      <td>t\\nThe phone feels very premium and smooth and...</td>\n",
       "      <td>battery service very bad ..Battery not working...</td>\n",
       "      <td>Well the iPhone 5S is here ! its the best iPho...</td>\n",
       "      <td>There was defect in camera lens</td>\n",
       "      <td>The Best Phone for the Money\\n\\nThe iPhone 11 ...</td>\n",
       "      <td>Suuuuuupprrbbb clr... I loved it..</td>\n",
       "      <td>impressively Nice......\\nOne of the greatest i...</td>\n",
       "      <td>Nice products thanks flkat</td>\n",
       "      <td>...</td>\n",
       "      <td>Fast performance to previous iPhone x\\nGood ca...</td>\n",
       "      <td>This product is very good</td>\n",
       "      <td>Well the iPhone 5S is here ! its the best iPho...</td>\n",
       "      <td>There was defect in camera lens</td>\n",
       "      <td>Reviewing after using it\\n\\n1. Display is supe...</td>\n",
       "      <td>Everything is good. Except battery as it drain...</td>\n",
       "      <td>awesome\\n\\nscreen quality better than any othe...</td>\n",
       "      <td>Its doenst need any review i guess so</td>\n",
       "      <td>1.You never gonna feel the quality of this mob...</td>\n",
       "      <td>Still using it in 2019 😂</td>\n",
       "    </tr>\n",
       "  </tbody>\n",
       "</table>\n",
       "<p>3 rows × 100 columns</p>\n",
       "</div>"
      ],
      "text/plain": [
       "                                                           0   \\\n",
       "rating                                                      5   \n",
       "review                                    Best in the market!   \n",
       "desription  Reviewing after using it\\n\\n1. Display is supe...   \n",
       "\n",
       "                                                           1   \\\n",
       "rating                                                      3   \n",
       "review                                         Decent product   \n",
       "desription  Everything is good. Except battery as it drain...   \n",
       "\n",
       "                                                           2   \\\n",
       "rating                                                      5   \n",
       "review                                              Wonderful   \n",
       "desription  t\\nThe phone feels very premium and smooth and...   \n",
       "\n",
       "                                                           3   \\\n",
       "rating                                                      5   \n",
       "review                                      Absolute rubbish!   \n",
       "desription  battery service very bad ..Battery not working...   \n",
       "\n",
       "                                                           4   \\\n",
       "rating                                                      5   \n",
       "review                                       Iphone 5S review   \n",
       "desription  Well the iPhone 5S is here ! its the best iPho...   \n",
       "\n",
       "                                         5   \\\n",
       "rating                                    5   \n",
       "review                            Worthless   \n",
       "desription  There was defect in camera lens   \n",
       "\n",
       "                                                           6   \\\n",
       "rating                                                      4   \n",
       "review                                              Brilliant   \n",
       "desription  The Best Phone for the Money\\n\\nThe iPhone 11 ...   \n",
       "\n",
       "                                            7   \\\n",
       "rating                                       5   \n",
       "review                               Just wow!   \n",
       "desription  Suuuuuupprrbbb clr... I loved it..   \n",
       "\n",
       "                                                           8   \\\n",
       "rating                                                      5   \n",
       "review                                   Good quality product   \n",
       "desription  impressively Nice......\\nOne of the greatest i...   \n",
       "\n",
       "                                    9   ...  \\\n",
       "rating                               5  ...   \n",
       "review                Perfect product!  ...   \n",
       "desription  Nice products thanks flkat  ...   \n",
       "\n",
       "                                                           90  \\\n",
       "rating                                                      5   \n",
       "review                                              Fabulous!   \n",
       "desription  Fast performance to previous iPhone x\\nGood ca...   \n",
       "\n",
       "                                   91  \\\n",
       "rating                              5   \n",
       "review          Mind-blowing purchase   \n",
       "desription  This product is very good   \n",
       "\n",
       "                                                           92  \\\n",
       "rating                                                      5   \n",
       "review                                       Iphone 5S review   \n",
       "desription  Well the iPhone 5S is here ! its the best iPho...   \n",
       "\n",
       "                                         93  \\\n",
       "rating                                    5   \n",
       "review                            Worthless   \n",
       "desription  There was defect in camera lens   \n",
       "\n",
       "                                                           94  \\\n",
       "rating                                                      5   \n",
       "review                                    Best in the market!   \n",
       "desription  Reviewing after using it\\n\\n1. Display is supe...   \n",
       "\n",
       "                                                           95  \\\n",
       "rating                                                      5   \n",
       "review                                         Decent product   \n",
       "desription  Everything is good. Except battery as it drain...   \n",
       "\n",
       "                                                           96  \\\n",
       "rating                                                      3   \n",
       "review                                              Excellent   \n",
       "desription  awesome\\n\\nscreen quality better than any othe...   \n",
       "\n",
       "                                               97  \\\n",
       "rating                                          5   \n",
       "review                                  Must buy!   \n",
       "desription  Its doenst need any review i guess so   \n",
       "\n",
       "                                                           98  \\\n",
       "rating                                                   None   \n",
       "review                                           Classic !!!!   \n",
       "desription  1.You never gonna feel the quality of this mob...   \n",
       "\n",
       "                                  99  \n",
       "rating                          None  \n",
       "review                     Must buy!  \n",
       "desription  Still using it in 2019 😂  \n",
       "\n",
       "[3 rows x 100 columns]"
      ]
     },
     "execution_count": 55,
     "metadata": {},
     "output_type": "execute_result"
    }
   ],
   "source": [
    "# # creat Data Frame of the Rating Fullreview and descreption:\n",
    "items = {'rating':r,\"review\":w,\"desription\":d}\n",
    "iphone_reviews=pd.DataFrame.from_dict(items , orient='index')\n",
    "iphone_reviews"
   ]
  },
  {
   "cell_type": "markdown",
   "id": "8fc407f2",
   "metadata": {},
   "source": [
    "## Q6: Scrape data for first 100 sneakers you find when you visit flipkart.com andsearch for “sneakers” in the\n",
    "search field.\n",
    "You have to scrape 4 attributes of each sneaker:\n",
    "1. Brand\n",
    "2. Product Description\n",
    "3. Price"
   ]
  },
  {
   "cell_type": "code",
   "execution_count": 56,
   "id": "95acb9c0",
   "metadata": {},
   "outputs": [],
   "source": [
    "#let's first connect to web driver\n",
    "driver = webdriver.Chrome(\"chromedriver.exe\")"
   ]
  },
  {
   "cell_type": "code",
   "execution_count": 57,
   "id": "b87561dc",
   "metadata": {},
   "outputs": [],
   "source": [
    "url='https://www.flipkart.com/'\n",
    "driver.get(url)"
   ]
  },
  {
   "cell_type": "code",
   "execution_count": 58,
   "id": "ef71a7d9",
   "metadata": {},
   "outputs": [],
   "source": [
    "# search web element for sneaker:\n",
    "search = driver.find_element_by_class_name(\"_3704LK\")"
   ]
  },
  {
   "cell_type": "code",
   "execution_count": 59,
   "id": "4b025d33",
   "metadata": {},
   "outputs": [],
   "source": [
    "# search bar:\n",
    "search.send_keys(\"sneakers\")"
   ]
  },
  {
   "cell_type": "code",
   "execution_count": 60,
   "id": "7273c623",
   "metadata": {},
   "outputs": [],
   "source": [
    "# search button using xpath:\n",
    "search_btn=driver.find_element_by_class_name(\"L0Z3Pu\")\n",
    "search_btn.click()"
   ]
  },
  {
   "cell_type": "code",
   "execution_count": 61,
   "id": "4356ac59",
   "metadata": {},
   "outputs": [],
   "source": [
    "#for extracting data from different pages :\n",
    "start=0\n",
    "end=3\n",
    "\n",
    "#creating a dictionary for storing the information after scraping:\n",
    "\n",
    "brand = []\n",
    "price = []\n",
    "des = []\n",
    "off = []\n",
    "\n",
    "for page in range(start,end):\n",
    "    brands=driver.find_elements_by_class_name('_2WkVRV')\n",
    "    descp=driver.find_elements_by_xpath(\"//a[@class='IRpwTa']\")\n",
    "    prices=driver.find_elements_by_class_name('_30jeq3')\n",
    "    dis=driver.find_elements_by_class_name('_3Ay6Sb')\n",
    "    \n",
    "    for i in brands:\n",
    "        brand.append(i.text)\n",
    "    for j in prices:\n",
    "        price.append(j.text)\n",
    "    for k in descp:\n",
    "        des.append(k.text)\n",
    "    for l in dis:\n",
    "        off.append(l.text)\n",
    "    nxt_button=driver.find_elements_by_xpath(\"//a[@class='_1LKTO3']\")\n",
    "    try:\n",
    "        driver.get(nxt_button[1].get_attribute('href'))\n",
    "    except:\n",
    "        driver.get(nxt_button[0].get_attribute('href'))"
   ]
  },
  {
   "cell_type": "code",
   "execution_count": 62,
   "id": "6684271f",
   "metadata": {},
   "outputs": [],
   "source": [
    "# detail of all 100 products as per our requirement:\n",
    "bd=brand[0:100]\n",
    "pr=price[0:100]\n",
    "dis=des[0:100]\n",
    "of=off[0:100]"
   ]
  },
  {
   "cell_type": "code",
   "execution_count": 63,
   "id": "4b97fc48",
   "metadata": {},
   "outputs": [
    {
     "data": {
      "text/html": [
       "<div>\n",
       "<style scoped>\n",
       "    .dataframe tbody tr th:only-of-type {\n",
       "        vertical-align: middle;\n",
       "    }\n",
       "\n",
       "    .dataframe tbody tr th {\n",
       "        vertical-align: top;\n",
       "    }\n",
       "\n",
       "    .dataframe thead th {\n",
       "        text-align: right;\n",
       "    }\n",
       "</style>\n",
       "<table border=\"1\" class=\"dataframe\">\n",
       "  <thead>\n",
       "    <tr style=\"text-align: right;\">\n",
       "      <th></th>\n",
       "      <th>0</th>\n",
       "      <th>1</th>\n",
       "      <th>2</th>\n",
       "      <th>3</th>\n",
       "      <th>4</th>\n",
       "      <th>5</th>\n",
       "      <th>6</th>\n",
       "      <th>7</th>\n",
       "      <th>8</th>\n",
       "      <th>9</th>\n",
       "      <th>...</th>\n",
       "      <th>90</th>\n",
       "      <th>91</th>\n",
       "      <th>92</th>\n",
       "      <th>93</th>\n",
       "      <th>94</th>\n",
       "      <th>95</th>\n",
       "      <th>96</th>\n",
       "      <th>97</th>\n",
       "      <th>98</th>\n",
       "      <th>99</th>\n",
       "    </tr>\n",
       "  </thead>\n",
       "  <tbody>\n",
       "    <tr>\n",
       "      <th>Brand</th>\n",
       "      <td>DUNKASTON</td>\n",
       "      <td>World Wear Footwear</td>\n",
       "      <td>BRUTON</td>\n",
       "      <td>Chevit</td>\n",
       "      <td>KWIK FIT</td>\n",
       "      <td>BRUTON</td>\n",
       "      <td>corsac</td>\n",
       "      <td>World Wear Footwear</td>\n",
       "      <td>BRUTON</td>\n",
       "      <td>D-SNEAKERZ</td>\n",
       "      <td>...</td>\n",
       "      <td>BRUTON</td>\n",
       "      <td>RODDICK SHOES</td>\n",
       "      <td>PUMA</td>\n",
       "      <td>HOTSTYLE</td>\n",
       "      <td>CLYMB</td>\n",
       "      <td>HIGHLANDER</td>\n",
       "      <td>URBANBOX</td>\n",
       "      <td>Kraasa</td>\n",
       "      <td>Arohi</td>\n",
       "      <td>ASTEROID</td>\n",
       "    </tr>\n",
       "    <tr>\n",
       "      <th>Price</th>\n",
       "      <td>₹343</td>\n",
       "      <td>₹199</td>\n",
       "      <td>₹259</td>\n",
       "      <td>₹649</td>\n",
       "      <td>₹399</td>\n",
       "      <td>₹299</td>\n",
       "      <td>₹449</td>\n",
       "      <td>₹199</td>\n",
       "      <td>₹471</td>\n",
       "      <td>₹299</td>\n",
       "      <td>...</td>\n",
       "      <td>₹399</td>\n",
       "      <td>₹499</td>\n",
       "      <td>₹435</td>\n",
       "      <td>₹397</td>\n",
       "      <td>₹499</td>\n",
       "      <td>₹399</td>\n",
       "      <td>₹3,346</td>\n",
       "      <td>₹399</td>\n",
       "      <td>₹399</td>\n",
       "      <td>₹399</td>\n",
       "    </tr>\n",
       "    <tr>\n",
       "      <th>Description</th>\n",
       "      <td>Sneakers For Men</td>\n",
       "      <td>Sneakers For Men</td>\n",
       "      <td>Modern Trendy Sneakers Shoes Sneakers For Men</td>\n",
       "      <td>Super Stylish &amp; Trendy Combo Pack of 02 Pairs ...</td>\n",
       "      <td>Kwik FIT casual sneaker shoes and partywear sh...</td>\n",
       "      <td>Sneaker Sneakers For Men</td>\n",
       "      <td>STYLISH MENS BLACK AND WHITE SNEAKER Sneakers ...</td>\n",
       "      <td>5011-Latest Collection Stylish Casual Loafer S...</td>\n",
       "      <td>Modern &amp; Trendy Collection Combo Pack of 02 Sh...</td>\n",
       "      <td>Casual , Partywear Sneakers Shoes For Men's An...</td>\n",
       "      <td>...</td>\n",
       "      <td>Comfortable &amp; Smart Sneakers For Men</td>\n",
       "      <td>SM-675 Sneakers For Men</td>\n",
       "      <td>Black Sneaker For Men Sneakers For Men</td>\n",
       "      <td>Sneakers For Men</td>\n",
       "      <td>FUTURE RIDER PLAY ON Sneakers For Men</td>\n",
       "      <td>CR-1 Sneakers For Men</td>\n",
       "      <td>SM-671 Sneakers For Men</td>\n",
       "      <td>Sneakers For Men</td>\n",
       "      <td>High Top Casual Party Wear Boot Stylish Sneake...</td>\n",
       "      <td>None</td>\n",
       "    </tr>\n",
       "    <tr>\n",
       "      <th>Discount</th>\n",
       "      <td>77% off</td>\n",
       "      <td>60% off</td>\n",
       "      <td>80% off</td>\n",
       "      <td>59% off</td>\n",
       "      <td>80% off</td>\n",
       "      <td>76% off</td>\n",
       "      <td>70% off</td>\n",
       "      <td>60% off</td>\n",
       "      <td>81% off</td>\n",
       "      <td>54% off</td>\n",
       "      <td>...</td>\n",
       "      <td>73% off</td>\n",
       "      <td>50% off</td>\n",
       "      <td>56% off</td>\n",
       "      <td>60% off</td>\n",
       "      <td>66% off</td>\n",
       "      <td>60% off</td>\n",
       "      <td>33% off</td>\n",
       "      <td>60% off</td>\n",
       "      <td>73% off</td>\n",
       "      <td>60% off</td>\n",
       "    </tr>\n",
       "  </tbody>\n",
       "</table>\n",
       "<p>4 rows × 100 columns</p>\n",
       "</div>"
      ],
      "text/plain": [
       "                           0                    1   \\\n",
       "Brand               DUNKASTON  World Wear Footwear   \n",
       "Price                    ₹343                 ₹199   \n",
       "Description  Sneakers For Men     Sneakers For Men   \n",
       "Discount              77% off              60% off   \n",
       "\n",
       "                                                        2   \\\n",
       "Brand                                               BRUTON   \n",
       "Price                                                 ₹259   \n",
       "Description  Modern Trendy Sneakers Shoes Sneakers For Men   \n",
       "Discount                                           80% off   \n",
       "\n",
       "                                                            3   \\\n",
       "Brand                                                   Chevit   \n",
       "Price                                                     ₹649   \n",
       "Description  Super Stylish & Trendy Combo Pack of 02 Pairs ...   \n",
       "Discount                                               59% off   \n",
       "\n",
       "                                                            4   \\\n",
       "Brand                                                 KWIK FIT   \n",
       "Price                                                     ₹399   \n",
       "Description  Kwik FIT casual sneaker shoes and partywear sh...   \n",
       "Discount                                               80% off   \n",
       "\n",
       "                                   5   \\\n",
       "Brand                          BRUTON   \n",
       "Price                            ₹299   \n",
       "Description  Sneaker Sneakers For Men   \n",
       "Discount                      76% off   \n",
       "\n",
       "                                                            6   \\\n",
       "Brand                                                   corsac   \n",
       "Price                                                     ₹449   \n",
       "Description  STYLISH MENS BLACK AND WHITE SNEAKER Sneakers ...   \n",
       "Discount                                               70% off   \n",
       "\n",
       "                                                            7   \\\n",
       "Brand                                      World Wear Footwear   \n",
       "Price                                                     ₹199   \n",
       "Description  5011-Latest Collection Stylish Casual Loafer S...   \n",
       "Discount                                               60% off   \n",
       "\n",
       "                                                            8   \\\n",
       "Brand                                                   BRUTON   \n",
       "Price                                                     ₹471   \n",
       "Description  Modern & Trendy Collection Combo Pack of 02 Sh...   \n",
       "Discount                                               81% off   \n",
       "\n",
       "                                                            9   ...  \\\n",
       "Brand                                               D-SNEAKERZ  ...   \n",
       "Price                                                     ₹299  ...   \n",
       "Description  Casual , Partywear Sneakers Shoes For Men's An...  ...   \n",
       "Discount                                               54% off  ...   \n",
       "\n",
       "                                               90                       91  \\\n",
       "Brand                                      BRUTON            RODDICK SHOES   \n",
       "Price                                        ₹399                     ₹499   \n",
       "Description  Comfortable & Smart Sneakers For Men  SM-675 Sneakers For Men   \n",
       "Discount                                  73% off                  50% off   \n",
       "\n",
       "                                                 92                93  \\\n",
       "Brand                                          PUMA          HOTSTYLE   \n",
       "Price                                          ₹435              ₹397   \n",
       "Description  Black Sneaker For Men Sneakers For Men  Sneakers For Men   \n",
       "Discount                                    56% off           60% off   \n",
       "\n",
       "                                                94                     95  \\\n",
       "Brand                                        CLYMB             HIGHLANDER   \n",
       "Price                                         ₹499                   ₹399   \n",
       "Description  FUTURE RIDER PLAY ON Sneakers For Men  CR-1 Sneakers For Men   \n",
       "Discount                                   66% off                60% off   \n",
       "\n",
       "                                  96                97  \\\n",
       "Brand                       URBANBOX            Kraasa   \n",
       "Price                         ₹3,346              ₹399   \n",
       "Description  SM-671 Sneakers For Men  Sneakers For Men   \n",
       "Discount                     33% off           60% off   \n",
       "\n",
       "                                                            98        99  \n",
       "Brand                                                    Arohi  ASTEROID  \n",
       "Price                                                     ₹399      ₹399  \n",
       "Description  High Top Casual Party Wear Boot Stylish Sneake...      None  \n",
       "Discount                                               73% off   60% off  \n",
       "\n",
       "[4 rows x 100 columns]"
      ]
     },
     "execution_count": 63,
     "metadata": {},
     "output_type": "execute_result"
    }
   ],
   "source": [
    "# Data Frame of the Brand, Price, Discount and Discription:\n",
    "sneakers_info=pd.DataFrame.from_dict({'Brand':bd,\"Price\":pr,\"Description\":dis,\"Discount\":of},  orient='index')\n",
    "sneakers_info\n"
   ]
  },
  {
   "cell_type": "markdown",
   "id": "7e3a980e",
   "metadata": {},
   "source": [
    "## Q7: Go to the link - https://www.myntra.com/shoes\n",
    "Set Price filter to “Rs. 7149 to Rs. 14099 ” , Color filter to “Black”, as shown inthe below image.\n",
    "And then scrape First 100 shoes data you get. The data should include “Brand” of the shoes , Short Shoe\n",
    "description, price of the shoe as shown in the below image\n"
   ]
  },
  {
   "cell_type": "code",
   "execution_count": 64,
   "id": "cf219374",
   "metadata": {},
   "outputs": [],
   "source": [
    "#let's first connect to web driver\n",
    "driver = webdriver.Chrome(\"chromedriver.exe\")"
   ]
  },
  {
   "cell_type": "code",
   "execution_count": 65,
   "id": "52faa006",
   "metadata": {},
   "outputs": [],
   "source": [
    "url='https://www.myntra.com/shoes'\n",
    "driver.get(url)"
   ]
  },
  {
   "cell_type": "code",
   "execution_count": 66,
   "id": "8e008437",
   "metadata": {},
   "outputs": [],
   "source": [
    "# clicking using absolute xpath function\n",
    "filter_btn = driver.find_element_by_xpath('/html/body/div[2]/div/div[1]/main/div[3]/div[1]/section/div/div[5]/ul/li[2]/label/div')\n",
    "filter_btn\n",
    "filter_btn.click()"
   ]
  },
  {
   "cell_type": "code",
   "execution_count": 67,
   "id": "e9923327",
   "metadata": {},
   "outputs": [],
   "source": [
    "# clicking using absolute xpath function\n",
    "filter_btn1 = driver.find_element_by_xpath('/html/body/div[2]/div/div[1]/main/div[3]/div[1]/section/div/div[6]/ul/li[1]/label/div')\n",
    "filter_btn1\n",
    "filter_btn1.click()"
   ]
  },
  {
   "cell_type": "code",
   "execution_count": 68,
   "id": "0c9f25b1",
   "metadata": {},
   "outputs": [],
   "source": [
    "#for extracting data from different pages :\n",
    "start=0\n",
    "end=2\n",
    "\n",
    "#creating a dictionary for storing the information after scraping:\n",
    "brand = []\n",
    "price = []\n",
    "des = []\n",
    "\n",
    "for page in range(start,end):\n",
    "    brands=driver.find_elements_by_class_name('product-brand')\n",
    "    descp=driver.find_elements_by_xpath(\"//h4[@class='product-product']\")\n",
    "    prices=driver.find_elements_by_class_name('product-price')\n",
    "    \n",
    "    \n",
    "    for i in brands:\n",
    "        brand.append(i.text)\n",
    "    for j in prices:\n",
    "        price.append(j.text)\n",
    "    for k in descp:\n",
    "        des.append(k.text)\n",
    " \n",
    "    nxt_button=driver.find_elements_by_xpath(\"//li[@class='pagination-next']\")"
   ]
  },
  {
   "cell_type": "code",
   "execution_count": 69,
   "id": "dcc7b452",
   "metadata": {},
   "outputs": [
    {
     "data": {
      "text/html": [
       "<div>\n",
       "<style scoped>\n",
       "    .dataframe tbody tr th:only-of-type {\n",
       "        vertical-align: middle;\n",
       "    }\n",
       "\n",
       "    .dataframe tbody tr th {\n",
       "        vertical-align: top;\n",
       "    }\n",
       "\n",
       "    .dataframe thead th {\n",
       "        text-align: right;\n",
       "    }\n",
       "</style>\n",
       "<table border=\"1\" class=\"dataframe\">\n",
       "  <thead>\n",
       "    <tr style=\"text-align: right;\">\n",
       "      <th></th>\n",
       "      <th>Brand</th>\n",
       "      <th>Price</th>\n",
       "      <th>Description</th>\n",
       "    </tr>\n",
       "  </thead>\n",
       "  <tbody>\n",
       "    <tr>\n",
       "      <th>0</th>\n",
       "      <td>ALDO</td>\n",
       "      <td>Rs. 12999</td>\n",
       "      <td>Men Leather Driving Shoes</td>\n",
       "    </tr>\n",
       "    <tr>\n",
       "      <th>1</th>\n",
       "      <td>Reebok</td>\n",
       "      <td>Rs. 7999</td>\n",
       "      <td>Men Zig Dynamica 2.0 Running</td>\n",
       "    </tr>\n",
       "    <tr>\n",
       "      <th>2</th>\n",
       "      <td>Nike</td>\n",
       "      <td>Rs. 7995</td>\n",
       "      <td>Men Winflo 7 Running Shoes</td>\n",
       "    </tr>\n",
       "    <tr>\n",
       "      <th>3</th>\n",
       "      <td>ALDO</td>\n",
       "      <td>Rs. 9099Rs. 12999(30% OFF)</td>\n",
       "      <td>Men Printed Sneakers</td>\n",
       "    </tr>\n",
       "    <tr>\n",
       "      <th>4</th>\n",
       "      <td>Tommy Hilfiger</td>\n",
       "      <td>Rs. 7739Rs. 8599(10% OFF)</td>\n",
       "      <td>Men Cleated Leather Sneakers</td>\n",
       "    </tr>\n",
       "    <tr>\n",
       "      <th>...</th>\n",
       "      <td>...</td>\n",
       "      <td>...</td>\n",
       "      <td>...</td>\n",
       "    </tr>\n",
       "    <tr>\n",
       "      <th>95</th>\n",
       "      <td>Sole To Soul</td>\n",
       "      <td>Rs. 8900</td>\n",
       "      <td>High-Top Platform Heeled Boots</td>\n",
       "    </tr>\n",
       "    <tr>\n",
       "      <th>96</th>\n",
       "      <td>Sole To Soul</td>\n",
       "      <td>Rs. 9500</td>\n",
       "      <td>Suede High-Top Block Heeled Boots</td>\n",
       "    </tr>\n",
       "    <tr>\n",
       "      <th>97</th>\n",
       "      <td>ROSSO BRUNELLO</td>\n",
       "      <td>Rs. 8499</td>\n",
       "      <td>Printed PU Kitten Sandals</td>\n",
       "    </tr>\n",
       "    <tr>\n",
       "      <th>98</th>\n",
       "      <td>Heel &amp; Buckle London</td>\n",
       "      <td>Rs. 7990</td>\n",
       "      <td>Men Formal Leather Derby</td>\n",
       "    </tr>\n",
       "    <tr>\n",
       "      <th>99</th>\n",
       "      <td>DAVINCHI</td>\n",
       "      <td>Rs. 7990</td>\n",
       "      <td>Solid Slip On Shoes</td>\n",
       "    </tr>\n",
       "  </tbody>\n",
       "</table>\n",
       "<p>100 rows × 3 columns</p>\n",
       "</div>"
      ],
      "text/plain": [
       "                   Brand                       Price  \\\n",
       "0                   ALDO                   Rs. 12999   \n",
       "1                 Reebok                    Rs. 7999   \n",
       "2                   Nike                    Rs. 7995   \n",
       "3                   ALDO  Rs. 9099Rs. 12999(30% OFF)   \n",
       "4         Tommy Hilfiger   Rs. 7739Rs. 8599(10% OFF)   \n",
       "..                   ...                         ...   \n",
       "95          Sole To Soul                    Rs. 8900   \n",
       "96          Sole To Soul                    Rs. 9500   \n",
       "97        ROSSO BRUNELLO                    Rs. 8499   \n",
       "98  Heel & Buckle London                    Rs. 7990   \n",
       "99              DAVINCHI                    Rs. 7990   \n",
       "\n",
       "                          Description  \n",
       "0           Men Leather Driving Shoes  \n",
       "1        Men Zig Dynamica 2.0 Running  \n",
       "2          Men Winflo 7 Running Shoes  \n",
       "3                Men Printed Sneakers  \n",
       "4        Men Cleated Leather Sneakers  \n",
       "..                                ...  \n",
       "95     High-Top Platform Heeled Boots  \n",
       "96  Suede High-Top Block Heeled Boots  \n",
       "97          Printed PU Kitten Sandals  \n",
       "98           Men Formal Leather Derby  \n",
       "99                Solid Slip On Shoes  \n",
       "\n",
       "[100 rows x 3 columns]"
      ]
     },
     "execution_count": 69,
     "metadata": {},
     "output_type": "execute_result"
    }
   ],
   "source": [
    "# Data Frame of the Brand, Price and Discription:\n",
    "myntra=pd.DataFrame()\n",
    "myntra['Brand']=brand\n",
    "myntra['Price']=price\n",
    "myntra['Description']=des\n",
    "myntra"
   ]
  },
  {
   "cell_type": "markdown",
   "id": "3b6eccf0",
   "metadata": {},
   "source": [
    "## Q8: Go to webpage https://www.amazon.in/\n",
    "Enter “Laptop” in the search field and then click the search icon.\n",
    "Then set CPU Type filter to “Intel Core i7” and “Intel Core i9” as shown in the below image:"
   ]
  },
  {
   "cell_type": "code",
   "execution_count": 70,
   "id": "b6d6c99e",
   "metadata": {},
   "outputs": [],
   "source": [
    "#let's first connect to web driver\n",
    "driver = webdriver.Chrome(\"chromedriver.exe\")"
   ]
  },
  {
   "cell_type": "code",
   "execution_count": 71,
   "id": "e1f66124",
   "metadata": {},
   "outputs": [],
   "source": [
    "url=' https://www.amazon.in/'\n",
    "driver.get(url)"
   ]
  },
  {
   "cell_type": "code",
   "execution_count": 72,
   "id": "bd0b26af",
   "metadata": {},
   "outputs": [
    {
     "data": {
      "text/plain": [
       "<selenium.webdriver.remote.webelement.WebElement (session=\"1b6897d1d0cb90e6dc97b973840b9450\", element=\"839a7f3d-7995-413e-9d6a-d92dcccc87e3\")>"
      ]
     },
     "execution_count": 72,
     "metadata": {},
     "output_type": "execute_result"
    }
   ],
   "source": [
    "# search laptop using id:\n",
    "laptop=driver.find_element_by_id('twotabsearchtextbox')\n",
    "laptop"
   ]
  },
  {
   "cell_type": "code",
   "execution_count": 73,
   "id": "811d241c",
   "metadata": {},
   "outputs": [],
   "source": [
    "# search bar:\n",
    "laptop.send_keys('Laptop')"
   ]
  },
  {
   "cell_type": "code",
   "execution_count": 74,
   "id": "31291ad0",
   "metadata": {},
   "outputs": [],
   "source": [
    "# search button using xpath:\n",
    "search_btn=driver.find_element_by_xpath(\"/html/body/div[1]/header/div/div[1]/div[2]/div/form/div[3]/div\")\n",
    "search_btn.click()"
   ]
  },
  {
   "cell_type": "code",
   "execution_count": 75,
   "id": "c17144f2",
   "metadata": {},
   "outputs": [],
   "source": [
    "filter_btn= driver.find_element_by_xpath('/html/body/div[1]/div[2]/div[1]/div[2]/div/div[3]/span/div[1]/div/div/div[5]/ul[4]/li[11]/span/a/div/label/i')\n",
    "filter_btn.click()"
   ]
  },
  {
   "cell_type": "code",
   "execution_count": 76,
   "id": "b3bb112a",
   "metadata": {},
   "outputs": [
    {
     "data": {
      "text/plain": [
       "(5, 5, 5)"
      ]
     },
     "execution_count": 76,
     "metadata": {},
     "output_type": "execute_result"
    }
   ],
   "source": [
    "title_tags = driver.find_elements_by_xpath('//h2[@class=\"a-size-mini a-spacing-none a-color-base s-line-clamp-2\"]')\n",
    "titles=[]\n",
    "\n",
    "for i in title_tags:\n",
    "    titles.append(i.text)\n",
    "ti1=titles[:5]\n",
    "ti1\n",
    "\n",
    "#let's extract all web elements having experience using parent tag\n",
    "exp_tags = driver.find_elements_by_class_name(\"a-price-whole\")\n",
    "\n",
    "\n",
    "experience= []\n",
    "\n",
    "for i in exp_tags:\n",
    "    experience.append(i.text)\n",
    "exp1=experience[:5]\n",
    "exp1\n",
    "\n",
    "rat_tags = driver.find_elements_by_xpath('//i[@class=\"a-icon a-icon-star-small a-star-small-4 aok-align-bottom\"]')\n",
    "rate = []\n",
    "\n",
    "for i in rat_tags:\n",
    "    rate.append(i.text)\n",
    "rating1=rate[:5]\n",
    "rating1\n",
    "len(rating1),len(exp1),len(ti1)"
   ]
  },
  {
   "cell_type": "code",
   "execution_count": 77,
   "id": "a24562c3",
   "metadata": {},
   "outputs": [
    {
     "data": {
      "text/html": [
       "<div>\n",
       "<style scoped>\n",
       "    .dataframe tbody tr th:only-of-type {\n",
       "        vertical-align: middle;\n",
       "    }\n",
       "\n",
       "    .dataframe tbody tr th {\n",
       "        vertical-align: top;\n",
       "    }\n",
       "\n",
       "    .dataframe thead th {\n",
       "        text-align: right;\n",
       "    }\n",
       "</style>\n",
       "<table border=\"1\" class=\"dataframe\">\n",
       "  <thead>\n",
       "    <tr style=\"text-align: right;\">\n",
       "      <th></th>\n",
       "      <th>Product_title</th>\n",
       "      <th>Price</th>\n",
       "      <th>Rating</th>\n",
       "    </tr>\n",
       "  </thead>\n",
       "  <tbody>\n",
       "    <tr>\n",
       "      <th>0</th>\n",
       "      <td>Fujitsu UH-X 11th Gen Intel Core i7 13.3” FHD ...</td>\n",
       "      <td>83,990</td>\n",
       "      <td></td>\n",
       "    </tr>\n",
       "    <tr>\n",
       "      <th>1</th>\n",
       "      <td>MSI Modern 14, Intel i7-1195G7, 14\" FHD IPS-Le...</td>\n",
       "      <td>75,490</td>\n",
       "      <td></td>\n",
       "    </tr>\n",
       "    <tr>\n",
       "      <th>2</th>\n",
       "      <td>ASUS VivoBook 14 (2021), 14-inch (35.56 cms) F...</td>\n",
       "      <td>57,490</td>\n",
       "      <td></td>\n",
       "    </tr>\n",
       "    <tr>\n",
       "      <th>3</th>\n",
       "      <td>ASUS TUF Gaming F15 (2021), 15.6\" (39.62 cms) ...</td>\n",
       "      <td>89,990</td>\n",
       "      <td></td>\n",
       "    </tr>\n",
       "    <tr>\n",
       "      <th>4</th>\n",
       "      <td>Mi Notebook Ultra 3.2K Resolution Display Inte...</td>\n",
       "      <td>77,499</td>\n",
       "      <td></td>\n",
       "    </tr>\n",
       "  </tbody>\n",
       "</table>\n",
       "</div>"
      ],
      "text/plain": [
       "                                       Product_title   Price Rating\n",
       "0  Fujitsu UH-X 11th Gen Intel Core i7 13.3” FHD ...  83,990       \n",
       "1  MSI Modern 14, Intel i7-1195G7, 14\" FHD IPS-Le...  75,490       \n",
       "2  ASUS VivoBook 14 (2021), 14-inch (35.56 cms) F...  57,490       \n",
       "3  ASUS TUF Gaming F15 (2021), 15.6\" (39.62 cms) ...  89,990       \n",
       "4  Mi Notebook Ultra 3.2K Resolution Display Inte...  77,499       "
      ]
     },
     "execution_count": 77,
     "metadata": {},
     "output_type": "execute_result"
    }
   ],
   "source": [
    "# creat Data Frame of the job-title, job-location, company_name, experience_required: \n",
    "# Data scientist as DS\n",
    "a =pd.DataFrame()\n",
    "a['Product_title']=ti1\n",
    "a['Price']=exp1\n",
    "a['Rating']=rating1\n",
    "\n",
    "a"
   ]
  },
  {
   "cell_type": "code",
   "execution_count": 78,
   "id": "8c41741e",
   "metadata": {},
   "outputs": [],
   "source": [
    "clear_btn= driver.find_element_by_xpath('/html/body/div[1]/div[2]/div[1]/div[2]/div/div[3]/span/div[1]/div/div/div[5]/ul[4]/li[1]/span/a/span[2]')\n",
    "clear_btn.click()"
   ]
  },
  {
   "cell_type": "code",
   "execution_count": 79,
   "id": "f62848c0",
   "metadata": {},
   "outputs": [],
   "source": [
    "filter_btn1= driver.find_element_by_xpath('/html/body/div[1]/div[2]/div[1]/div[2]/div/div[3]/span/div[1]/div/div/div[3]/ul/li[1]/span/a/div/label/i')\n",
    "filter_btn1.click()"
   ]
  },
  {
   "cell_type": "code",
   "execution_count": 80,
   "id": "71ec0bc4",
   "metadata": {},
   "outputs": [
    {
     "data": {
      "text/plain": [
       "(5, 5, 5)"
      ]
     },
     "execution_count": 80,
     "metadata": {},
     "output_type": "execute_result"
    }
   ],
   "source": [
    "title_tags = driver.find_elements_by_xpath('//h2[@class=\"a-size-mini a-spacing-none a-color-base s-line-clamp-2\"]')\n",
    "titles=[]\n",
    "\n",
    "for i in title_tags:\n",
    "    titles.append(i.text)\n",
    "ti2=titles[:5]\n",
    "ti2\n",
    "\n",
    "#let's extract all web elements having experience using parent tag\n",
    "exp_tags = driver.find_elements_by_class_name(\"a-price-whole\")\n",
    "\n",
    "\n",
    "experience= []\n",
    "\n",
    "for i in exp_tags:\n",
    "    experience.append(i.text)\n",
    "exp2=experience[:5]\n",
    "exp2\n",
    "\n",
    "rat_tags = driver.find_elements_by_xpath('//i[@class=\"a-icon a-icon-star-small a-star-small-4 aok-align-bottom\"]')\n",
    "rate = []\n",
    "\n",
    "for i in rat_tags:\n",
    "    rate.append(i.text)\n",
    "rating2=rate[:5]\n",
    "rating2\n",
    "len(rating2),len(exp2),len(ti2)"
   ]
  },
  {
   "cell_type": "code",
   "execution_count": 81,
   "id": "48375bf0",
   "metadata": {},
   "outputs": [
    {
     "data": {
      "text/html": [
       "<div>\n",
       "<style scoped>\n",
       "    .dataframe tbody tr th:only-of-type {\n",
       "        vertical-align: middle;\n",
       "    }\n",
       "\n",
       "    .dataframe tbody tr th {\n",
       "        vertical-align: top;\n",
       "    }\n",
       "\n",
       "    .dataframe thead th {\n",
       "        text-align: right;\n",
       "    }\n",
       "</style>\n",
       "<table border=\"1\" class=\"dataframe\">\n",
       "  <thead>\n",
       "    <tr style=\"text-align: right;\">\n",
       "      <th></th>\n",
       "      <th>Product_title</th>\n",
       "      <th>Price</th>\n",
       "      <th>Rating</th>\n",
       "    </tr>\n",
       "  </thead>\n",
       "  <tbody>\n",
       "    <tr>\n",
       "      <th>0</th>\n",
       "      <td>HP 14s 11th Gen Intel Core i3- 8GB RAM/256GB S...</td>\n",
       "      <td>39,990</td>\n",
       "      <td></td>\n",
       "    </tr>\n",
       "    <tr>\n",
       "      <th>1</th>\n",
       "      <td>HP 15s- Ryzen 5- 8GB RAM/512GB SSD 15.6 inch(3...</td>\n",
       "      <td>47,790</td>\n",
       "      <td></td>\n",
       "    </tr>\n",
       "    <tr>\n",
       "      <th>2</th>\n",
       "      <td>HP 247 G8 Laptop (Athlon P-3045B HD/ 14\" HD (3...</td>\n",
       "      <td>31,490</td>\n",
       "      <td></td>\n",
       "    </tr>\n",
       "    <tr>\n",
       "      <th>3</th>\n",
       "      <td>HP Chromebook 14 Intel Celeron N4020-4GB SDRAM...</td>\n",
       "      <td>25,990</td>\n",
       "      <td></td>\n",
       "    </tr>\n",
       "    <tr>\n",
       "      <th>4</th>\n",
       "      <td>HP 15s 11th Gen Intel Core i5 15.6 inches FHD ...</td>\n",
       "      <td>53,990</td>\n",
       "      <td></td>\n",
       "    </tr>\n",
       "  </tbody>\n",
       "</table>\n",
       "</div>"
      ],
      "text/plain": [
       "                                       Product_title   Price Rating\n",
       "0  HP 14s 11th Gen Intel Core i3- 8GB RAM/256GB S...  39,990       \n",
       "1  HP 15s- Ryzen 5- 8GB RAM/512GB SSD 15.6 inch(3...  47,790       \n",
       "2  HP 247 G8 Laptop (Athlon P-3045B HD/ 14\" HD (3...  31,490       \n",
       "3  HP Chromebook 14 Intel Celeron N4020-4GB SDRAM...  25,990       \n",
       "4  HP 15s 11th Gen Intel Core i5 15.6 inches FHD ...  53,990       "
      ]
     },
     "execution_count": 81,
     "metadata": {},
     "output_type": "execute_result"
    }
   ],
   "source": [
    "b =pd.DataFrame()\n",
    "b['Product_title']=ti2\n",
    "b['Price']=exp2\n",
    "b['Rating']=rating2\n",
    "\n",
    "b"
   ]
  },
  {
   "cell_type": "code",
   "execution_count": 82,
   "id": "ea3981cd",
   "metadata": {},
   "outputs": [
    {
     "data": {
      "text/plain": [
       "(10, 10, 10)"
      ]
     },
     "execution_count": 82,
     "metadata": {},
     "output_type": "execute_result"
    }
   ],
   "source": [
    "rating=rating1+rating2\n",
    "exp=exp1+exp2\n",
    "ti=ti1+ti2\n",
    "len(rating),len(exp),len(ti)"
   ]
  },
  {
   "cell_type": "code",
   "execution_count": 83,
   "id": "6d377f77",
   "metadata": {},
   "outputs": [
    {
     "data": {
      "text/html": [
       "<div>\n",
       "<style scoped>\n",
       "    .dataframe tbody tr th:only-of-type {\n",
       "        vertical-align: middle;\n",
       "    }\n",
       "\n",
       "    .dataframe tbody tr th {\n",
       "        vertical-align: top;\n",
       "    }\n",
       "\n",
       "    .dataframe thead th {\n",
       "        text-align: right;\n",
       "    }\n",
       "</style>\n",
       "<table border=\"1\" class=\"dataframe\">\n",
       "  <thead>\n",
       "    <tr style=\"text-align: right;\">\n",
       "      <th></th>\n",
       "      <th>Product_title</th>\n",
       "      <th>Price</th>\n",
       "      <th>Rating</th>\n",
       "    </tr>\n",
       "  </thead>\n",
       "  <tbody>\n",
       "    <tr>\n",
       "      <th>0</th>\n",
       "      <td>Fujitsu UH-X 11th Gen Intel Core i7 13.3” FHD ...</td>\n",
       "      <td>83,990</td>\n",
       "      <td></td>\n",
       "    </tr>\n",
       "    <tr>\n",
       "      <th>1</th>\n",
       "      <td>MSI Modern 14, Intel i7-1195G7, 14\" FHD IPS-Le...</td>\n",
       "      <td>75,490</td>\n",
       "      <td></td>\n",
       "    </tr>\n",
       "    <tr>\n",
       "      <th>2</th>\n",
       "      <td>ASUS VivoBook 14 (2021), 14-inch (35.56 cms) F...</td>\n",
       "      <td>57,490</td>\n",
       "      <td></td>\n",
       "    </tr>\n",
       "    <tr>\n",
       "      <th>3</th>\n",
       "      <td>ASUS TUF Gaming F15 (2021), 15.6\" (39.62 cms) ...</td>\n",
       "      <td>89,990</td>\n",
       "      <td></td>\n",
       "    </tr>\n",
       "    <tr>\n",
       "      <th>4</th>\n",
       "      <td>Mi Notebook Ultra 3.2K Resolution Display Inte...</td>\n",
       "      <td>77,499</td>\n",
       "      <td></td>\n",
       "    </tr>\n",
       "    <tr>\n",
       "      <th>5</th>\n",
       "      <td>HP 14s 11th Gen Intel Core i3- 8GB RAM/256GB S...</td>\n",
       "      <td>39,990</td>\n",
       "      <td></td>\n",
       "    </tr>\n",
       "    <tr>\n",
       "      <th>6</th>\n",
       "      <td>HP 15s- Ryzen 5- 8GB RAM/512GB SSD 15.6 inch(3...</td>\n",
       "      <td>47,790</td>\n",
       "      <td></td>\n",
       "    </tr>\n",
       "    <tr>\n",
       "      <th>7</th>\n",
       "      <td>HP 247 G8 Laptop (Athlon P-3045B HD/ 14\" HD (3...</td>\n",
       "      <td>31,490</td>\n",
       "      <td></td>\n",
       "    </tr>\n",
       "    <tr>\n",
       "      <th>8</th>\n",
       "      <td>HP Chromebook 14 Intel Celeron N4020-4GB SDRAM...</td>\n",
       "      <td>25,990</td>\n",
       "      <td></td>\n",
       "    </tr>\n",
       "    <tr>\n",
       "      <th>9</th>\n",
       "      <td>HP 15s 11th Gen Intel Core i5 15.6 inches FHD ...</td>\n",
       "      <td>53,990</td>\n",
       "      <td></td>\n",
       "    </tr>\n",
       "  </tbody>\n",
       "</table>\n",
       "</div>"
      ],
      "text/plain": [
       "                                       Product_title   Price Rating\n",
       "0  Fujitsu UH-X 11th Gen Intel Core i7 13.3” FHD ...  83,990       \n",
       "1  MSI Modern 14, Intel i7-1195G7, 14\" FHD IPS-Le...  75,490       \n",
       "2  ASUS VivoBook 14 (2021), 14-inch (35.56 cms) F...  57,490       \n",
       "3  ASUS TUF Gaming F15 (2021), 15.6\" (39.62 cms) ...  89,990       \n",
       "4  Mi Notebook Ultra 3.2K Resolution Display Inte...  77,499       \n",
       "5  HP 14s 11th Gen Intel Core i3- 8GB RAM/256GB S...  39,990       \n",
       "6  HP 15s- Ryzen 5- 8GB RAM/512GB SSD 15.6 inch(3...  47,790       \n",
       "7  HP 247 G8 Laptop (Athlon P-3045B HD/ 14\" HD (3...  31,490       \n",
       "8  HP Chromebook 14 Intel Celeron N4020-4GB SDRAM...  25,990       \n",
       "9  HP 15s 11th Gen Intel Core i5 15.6 inches FHD ...  53,990       "
      ]
     },
     "execution_count": 83,
     "metadata": {},
     "output_type": "execute_result"
    }
   ],
   "source": [
    "product =pd.DataFrame()\n",
    "product['Product_title']=ti\n",
    "product['Price']=exp\n",
    "product['Rating']=rating\n",
    "\n",
    "product"
   ]
  },
  {
   "cell_type": "markdown",
   "id": "814e01fe",
   "metadata": {},
   "source": [
    "## Q9: Write a python program to scrape data for first 10 job results for Data Scientist Designation in Noida location. You have to scrape company name, No. of days ago when job was posted, Rating of the company.\n"
   ]
  },
  {
   "cell_type": "code",
   "execution_count": 84,
   "id": "dca13a24",
   "metadata": {},
   "outputs": [],
   "source": [
    "#let's first connect to web driver\n",
    "driver = webdriver.Chrome(\"chromedriver.exe\")"
   ]
  },
  {
   "cell_type": "code",
   "execution_count": 85,
   "id": "521b9c49",
   "metadata": {},
   "outputs": [],
   "source": [
    "url= 'https://www.ambitionbox.com/'\n",
    "driver.get(url)"
   ]
  },
  {
   "cell_type": "code",
   "execution_count": 86,
   "id": "9a190b1d",
   "metadata": {},
   "outputs": [],
   "source": [
    "#for extracting data from different pages :\n",
    "# search job using xpath:\n",
    "job=driver.find_element_by_xpath('//a[@class=\"link jobs\"]')\n",
    "job\n",
    "\n",
    "job.click()"
   ]
  },
  {
   "cell_type": "code",
   "execution_count": 87,
   "id": "0b3aace0",
   "metadata": {},
   "outputs": [
    {
     "data": {
      "text/plain": [
       "<selenium.webdriver.remote.webelement.WebElement (session=\"2b08fdef3b5e126fb80ff9bf80d5708c\", element=\"808267a4-0ddc-4df3-8c6a-4e8fec6ae677\")>"
      ]
     },
     "execution_count": 87,
     "metadata": {},
     "output_type": "execute_result"
    }
   ],
   "source": [
    "# search job using xpath:\n",
    "search_job=driver.find_element_by_xpath('/html/body/div/div/div/div[2]/div[1]/div/div/div/div/span/input')\n",
    "search_job"
   ]
  },
  {
   "cell_type": "code",
   "execution_count": 88,
   "id": "1b1fc27b",
   "metadata": {},
   "outputs": [],
   "source": [
    "# search job for Data scientist:\n",
    "search_job.send_keys(\"Data scientist\")"
   ]
  },
  {
   "cell_type": "code",
   "execution_count": 89,
   "id": "26955c35",
   "metadata": {},
   "outputs": [],
   "source": [
    "# search button by using xpath:\n",
    "search_btn=driver.find_element_by_xpath(\"/html/body/div/div/div/div[2]/div[1]/div/div/div/button\")\n",
    "search_btn.click()"
   ]
  },
  {
   "cell_type": "code",
   "execution_count": 90,
   "id": "80d9bd61",
   "metadata": {},
   "outputs": [],
   "source": [
    "# search job by xpath:\n",
    "loc=driver.find_element_by_xpath('/html/body/div/div/div/div[2]/div[2]/div[1]/div/div/div/div[2]')\n",
    "loc.click()"
   ]
  },
  {
   "cell_type": "code",
   "execution_count": 91,
   "id": "fe1b385c",
   "metadata": {},
   "outputs": [],
   "source": [
    "# search job for noida location by absolute xpath:\n",
    "location_check=driver.find_element_by_id(\"location_Noida\")"
   ]
  },
  {
   "cell_type": "code",
   "execution_count": 92,
   "id": "24df4517",
   "metadata": {},
   "outputs": [],
   "source": [
    "location_check.click()"
   ]
  },
  {
   "cell_type": "code",
   "execution_count": 93,
   "id": "f53b144f",
   "metadata": {},
   "outputs": [],
   "source": [
    "#creating a dictionary for storing the information after scraping:\n",
    "#for each job we will scrape the company name, No. of days ago when job was posted, Rating of the company.\n",
    "\n",
    "# for company name:\n",
    "name = driver.find_elements_by_xpath(\"//a[@class='title noclick']\")\n",
    "comp_name = []\n",
    "for i in name:\n",
    "    comp_name.append(i.text)\n",
    "\n",
    "    \n",
    "# for when job posted:\n",
    "day = driver.find_elements_by_xpath(\"//span[@class='body-small-l']\")\n",
    "no_of_days_ago = []\n",
    "\n",
    "for i in day:\n",
    "    no_of_days_ago.append(i.text)\n",
    "    \n",
    "    \n",
    "# for rating\n",
    "rate = driver.find_elements_by_xpath(\"//span[@class='body-small']\")\n",
    "rating=[]\n",
    "\n",
    "for i in rate:\n",
    "    rating.append(i.text)\n",
    "del no_of_days_ago[1:20:2] "
   ]
  },
  {
   "cell_type": "code",
   "execution_count": 94,
   "id": "de33821d",
   "metadata": {},
   "outputs": [
    {
     "name": "stdout",
     "output_type": "stream",
     "text": [
      "10 10 10\n"
     ]
    }
   ],
   "source": [
    "#get length:\n",
    "print(len(comp_name),len(no_of_days_ago),len(rating))"
   ]
  },
  {
   "cell_type": "code",
   "execution_count": 95,
   "id": "16c97be0",
   "metadata": {},
   "outputs": [
    {
     "data": {
      "text/html": [
       "<div>\n",
       "<style scoped>\n",
       "    .dataframe tbody tr th:only-of-type {\n",
       "        vertical-align: middle;\n",
       "    }\n",
       "\n",
       "    .dataframe tbody tr th {\n",
       "        vertical-align: top;\n",
       "    }\n",
       "\n",
       "    .dataframe thead th {\n",
       "        text-align: right;\n",
       "    }\n",
       "</style>\n",
       "<table border=\"1\" class=\"dataframe\">\n",
       "  <thead>\n",
       "    <tr style=\"text-align: right;\">\n",
       "      <th></th>\n",
       "      <th>Company name</th>\n",
       "      <th>No of days ago job was posted</th>\n",
       "      <th>Rating</th>\n",
       "    </tr>\n",
       "  </thead>\n",
       "  <tbody>\n",
       "    <tr>\n",
       "      <th>0</th>\n",
       "      <td>Excellent Opportunity For Freshers For AI/ML, ...</td>\n",
       "      <td>11d ago</td>\n",
       "      <td>3.9</td>\n",
       "    </tr>\n",
       "    <tr>\n",
       "      <th>1</th>\n",
       "      <td>HCL Hiring Data Scientist (Loc: Noida / Chenna...</td>\n",
       "      <td>12d ago</td>\n",
       "      <td>3.8</td>\n",
       "    </tr>\n",
       "    <tr>\n",
       "      <th>2</th>\n",
       "      <td>Data Scientist</td>\n",
       "      <td>12d ago</td>\n",
       "      <td>4.2</td>\n",
       "    </tr>\n",
       "    <tr>\n",
       "      <th>3</th>\n",
       "      <td>Data Scientist-II</td>\n",
       "      <td>23d ago</td>\n",
       "      <td>4.2</td>\n",
       "    </tr>\n",
       "    <tr>\n",
       "      <th>4</th>\n",
       "      <td>HCL Tech Opening - Senior Data Scientist</td>\n",
       "      <td>20d ago</td>\n",
       "      <td>3.8</td>\n",
       "    </tr>\n",
       "    <tr>\n",
       "      <th>5</th>\n",
       "      <td>Data Scientist</td>\n",
       "      <td>10d ago</td>\n",
       "      <td>3.9</td>\n",
       "    </tr>\n",
       "    <tr>\n",
       "      <th>6</th>\n",
       "      <td>Urgent Requirement || Data Scientist || Noida</td>\n",
       "      <td>27d ago</td>\n",
       "      <td>3.8</td>\n",
       "    </tr>\n",
       "    <tr>\n",
       "      <th>7</th>\n",
       "      <td>Data Scientist with NLP &amp; Python</td>\n",
       "      <td>5d ago</td>\n",
       "      <td>3.7</td>\n",
       "    </tr>\n",
       "    <tr>\n",
       "      <th>8</th>\n",
       "      <td>Data Scientist</td>\n",
       "      <td>12d ago</td>\n",
       "      <td>3.7</td>\n",
       "    </tr>\n",
       "    <tr>\n",
       "      <th>9</th>\n",
       "      <td>Opportunity | Tavant India</td>\n",
       "      <td>1mon ago</td>\n",
       "      <td>4.0</td>\n",
       "    </tr>\n",
       "  </tbody>\n",
       "</table>\n",
       "</div>"
      ],
      "text/plain": [
       "                                        Company name  \\\n",
       "0  Excellent Opportunity For Freshers For AI/ML, ...   \n",
       "1  HCL Hiring Data Scientist (Loc: Noida / Chenna...   \n",
       "2                                     Data Scientist   \n",
       "3                                  Data Scientist-II   \n",
       "4           HCL Tech Opening - Senior Data Scientist   \n",
       "5                                     Data Scientist   \n",
       "6      Urgent Requirement || Data Scientist || Noida   \n",
       "7                   Data Scientist with NLP & Python   \n",
       "8                                     Data Scientist   \n",
       "9                         Opportunity | Tavant India   \n",
       "\n",
       "  No of days ago job was posted Rating  \n",
       "0                       11d ago    3.9  \n",
       "1                       12d ago    3.8  \n",
       "2                       12d ago    4.2  \n",
       "3                       23d ago    4.2  \n",
       "4                       20d ago    3.8  \n",
       "5                       10d ago    3.9  \n",
       "6                       27d ago    3.8  \n",
       "7                        5d ago    3.7  \n",
       "8                       12d ago    3.7  \n",
       "9                      1mon ago    4.0  "
      ]
     },
     "execution_count": 95,
     "metadata": {},
     "output_type": "execute_result"
    }
   ],
   "source": [
    "# creat Data Frame of the company_name, No of days ago job was posted and rating: \n",
    "# Data analyst as DA\n",
    "DA_ambitionbox=pd.DataFrame()\n",
    "DA_ambitionbox['Company name']=comp_name\n",
    "DA_ambitionbox['No of days ago job was posted']=no_of_days_ago\n",
    "DA_ambitionbox['Rating']=rating\n",
    "DA_ambitionbox"
   ]
  },
  {
   "cell_type": "markdown",
   "id": "e1d308b1",
   "metadata": {},
   "source": [
    "## Q10: Write a python program to scrape the salary data for Data Scientist designation. You have to scrape Company name, Number of salaries, Average salary, Minsalary, Max Salary."
   ]
  },
  {
   "cell_type": "code",
   "execution_count": 96,
   "id": "e472e59a",
   "metadata": {},
   "outputs": [],
   "source": [
    "#let's first connect to web driver\n",
    "driver = webdriver.Chrome(\"chromedriver.exe\")"
   ]
  },
  {
   "cell_type": "code",
   "execution_count": 97,
   "id": "e5b9d458",
   "metadata": {},
   "outputs": [],
   "source": [
    "url= 'https://www.ambitionbox.com/'\n",
    "driver.get(url)"
   ]
  },
  {
   "cell_type": "code",
   "execution_count": 98,
   "id": "bcce7f7b",
   "metadata": {},
   "outputs": [],
   "source": [
    "#for extracting data from different pages :\n",
    "# get salary :\n",
    "sal = driver.find_element_by_xpath('/html/body/div[1]/nav/nav/a[4]')\n",
    "sal.click()"
   ]
  },
  {
   "cell_type": "code",
   "execution_count": 99,
   "id": "112c5dd2",
   "metadata": {},
   "outputs": [],
   "source": [
    "#search for data scientist:\n",
    "dsci=driver.find_element_by_xpath('/html/body/div/div/div/main/section[1]/div[2]/div[1]/span/input')\n",
    "dsci.send_keys('Data Scientist')\n",
    "dsci.click()"
   ]
  },
  {
   "cell_type": "code",
   "execution_count": 100,
   "id": "73075832",
   "metadata": {},
   "outputs": [],
   "source": [
    "# find Company name, Number of salaries, Average salary, Minsalary, Max Salary.\n",
    "# for company name\n",
    "comp_name = []\n",
    "name=driver.find_elements_by_class_name('name')\n",
    "for i in name:\n",
    "    comp_name.append(i.text.split('\\n')[0])\n",
    "noc=comp_name[0:10]\n",
    "    \n",
    "# for salary\n",
    "sal = []\n",
    "no_sal=driver.find_elements_by_class_name('name')\n",
    "for i in no_sal:\n",
    "    sal.append(i.text.split('\\n')[-1])\n",
    "sal\n",
    "nos=sal[0:10]"
   ]
  },
  {
   "cell_type": "code",
   "execution_count": 101,
   "id": "0aca8530",
   "metadata": {},
   "outputs": [
    {
     "data": {
      "text/plain": [
       "['₹ 40.0L',\n",
       " '₹ 45.0L',\n",
       " '₹ 30.0L',\n",
       " '₹ 32.0L',\n",
       " '₹ 31.0L',\n",
       " '₹ 30.0L',\n",
       " '₹ 26.0L',\n",
       " '₹ 43.0L',\n",
       " '₹ 32.5L',\n",
       " '₹ 30.0L']"
      ]
     },
     "execution_count": 101,
     "metadata": {},
     "output_type": "execute_result"
    }
   ],
   "source": [
    "# get min salary:\n",
    "minimum_salary = []\n",
    "minm=driver.find_elements_by_class_name('salary-values')\n",
    "for i in minm:\n",
    "    minimum_salary.append(i.text.split('\\n')[1])\n",
    "minimum_salary"
   ]
  },
  {
   "cell_type": "code",
   "execution_count": 102,
   "id": "396df477",
   "metadata": {},
   "outputs": [
    {
     "data": {
      "text/plain": [
       "['₹ 40.0L',\n",
       " '₹ 45.0L',\n",
       " '₹ 30.0L',\n",
       " '₹ 32.0L',\n",
       " '₹ 31.0L',\n",
       " '₹ 30.0L',\n",
       " '₹ 26.0L',\n",
       " '₹ 43.0L',\n",
       " '₹ 32.5L',\n",
       " '₹ 30.0L']"
      ]
     },
     "execution_count": 102,
     "metadata": {},
     "output_type": "execute_result"
    }
   ],
   "source": [
    "# get max salary\n",
    "maximum_salary = []\n",
    "maxm=driver.find_elements_by_class_name('salary-values')\n",
    "for i in maxm:\n",
    "    maximum_salary.append(i.text.split('\\n')[-1])\n",
    "maximum_salary"
   ]
  },
  {
   "cell_type": "code",
   "execution_count": 103,
   "id": "f18d4641",
   "metadata": {},
   "outputs": [
    {
     "data": {
      "text/plain": [
       "['₹ 26.6L',\n",
       " '₹ 23.3L',\n",
       " '₹ 21.2L',\n",
       " '₹ 21.1L',\n",
       " '₹ 21.1L',\n",
       " '₹ 20.1L',\n",
       " '₹ 19.6L',\n",
       " '₹ 19.4L',\n",
       " '₹ 19.1L',\n",
       " '₹ 18.7L']"
      ]
     },
     "execution_count": 103,
     "metadata": {},
     "output_type": "execute_result"
    }
   ],
   "source": [
    "# get average salary\n",
    "average_salary = []\n",
    "avr=driver.find_elements_by_xpath('//p[@class=\"averageCtc\"]')\n",
    "for i in avr:\n",
    "    average_salary.append(i.text)\n",
    "average_salary"
   ]
  },
  {
   "cell_type": "code",
   "execution_count": 104,
   "id": "c087af00",
   "metadata": {},
   "outputs": [
    {
     "data": {
      "text/html": [
       "<div>\n",
       "<style scoped>\n",
       "    .dataframe tbody tr th:only-of-type {\n",
       "        vertical-align: middle;\n",
       "    }\n",
       "\n",
       "    .dataframe tbody tr th {\n",
       "        vertical-align: top;\n",
       "    }\n",
       "\n",
       "    .dataframe thead th {\n",
       "        text-align: right;\n",
       "    }\n",
       "</style>\n",
       "<table border=\"1\" class=\"dataframe\">\n",
       "  <thead>\n",
       "    <tr style=\"text-align: right;\">\n",
       "      <th></th>\n",
       "      <th>Company name</th>\n",
       "      <th>No of salary</th>\n",
       "      <th>Minimum</th>\n",
       "      <th>Maximum</th>\n",
       "      <th>Average</th>\n",
       "    </tr>\n",
       "  </thead>\n",
       "  <tbody>\n",
       "    <tr>\n",
       "      <th>0</th>\n",
       "      <td>Google</td>\n",
       "      <td>based on 10 salaries</td>\n",
       "      <td>₹ 40.0L</td>\n",
       "      <td>₹ 40.0L</td>\n",
       "      <td>₹ 26.6L</td>\n",
       "    </tr>\n",
       "    <tr>\n",
       "      <th>1</th>\n",
       "      <td>Microsoft Corporation</td>\n",
       "      <td>based on 233 salaries</td>\n",
       "      <td>₹ 45.0L</td>\n",
       "      <td>₹ 45.0L</td>\n",
       "      <td>₹ 23.3L</td>\n",
       "    </tr>\n",
       "    <tr>\n",
       "      <th>2</th>\n",
       "      <td>Goldman Sachs</td>\n",
       "      <td>based on 14 salaries</td>\n",
       "      <td>₹ 30.0L</td>\n",
       "      <td>₹ 30.0L</td>\n",
       "      <td>₹ 21.2L</td>\n",
       "    </tr>\n",
       "    <tr>\n",
       "      <th>3</th>\n",
       "      <td>Tekion</td>\n",
       "      <td>based on 20 salaries</td>\n",
       "      <td>₹ 32.0L</td>\n",
       "      <td>₹ 32.0L</td>\n",
       "      <td>₹ 21.1L</td>\n",
       "    </tr>\n",
       "    <tr>\n",
       "      <th>4</th>\n",
       "      <td>Flipkart</td>\n",
       "      <td>based on 55 salaries</td>\n",
       "      <td>₹ 31.0L</td>\n",
       "      <td>₹ 31.0L</td>\n",
       "      <td>₹ 21.1L</td>\n",
       "    </tr>\n",
       "    <tr>\n",
       "      <th>5</th>\n",
       "      <td>PayPal</td>\n",
       "      <td>based on 24 salaries</td>\n",
       "      <td>₹ 30.0L</td>\n",
       "      <td>₹ 30.0L</td>\n",
       "      <td>₹ 20.1L</td>\n",
       "    </tr>\n",
       "    <tr>\n",
       "      <th>6</th>\n",
       "      <td>Servicenow Software Development India</td>\n",
       "      <td>based on 49 salaries</td>\n",
       "      <td>₹ 26.0L</td>\n",
       "      <td>₹ 26.0L</td>\n",
       "      <td>₹ 19.6L</td>\n",
       "    </tr>\n",
       "    <tr>\n",
       "      <th>7</th>\n",
       "      <td>Amazon</td>\n",
       "      <td>based on 96 salaries</td>\n",
       "      <td>₹ 43.0L</td>\n",
       "      <td>₹ 43.0L</td>\n",
       "      <td>₹ 19.4L</td>\n",
       "    </tr>\n",
       "    <tr>\n",
       "      <th>8</th>\n",
       "      <td>Walmart</td>\n",
       "      <td>based on 80 salaries</td>\n",
       "      <td>₹ 32.5L</td>\n",
       "      <td>₹ 32.5L</td>\n",
       "      <td>₹ 19.1L</td>\n",
       "    </tr>\n",
       "    <tr>\n",
       "      <th>9</th>\n",
       "      <td>Arcesium</td>\n",
       "      <td>based on 51 salaries</td>\n",
       "      <td>₹ 30.0L</td>\n",
       "      <td>₹ 30.0L</td>\n",
       "      <td>₹ 18.7L</td>\n",
       "    </tr>\n",
       "  </tbody>\n",
       "</table>\n",
       "</div>"
      ],
      "text/plain": [
       "                            Company name           No of salary  Minimum  \\\n",
       "0                                 Google   based on 10 salaries  ₹ 40.0L   \n",
       "1                  Microsoft Corporation  based on 233 salaries  ₹ 45.0L   \n",
       "2                          Goldman Sachs   based on 14 salaries  ₹ 30.0L   \n",
       "3                                 Tekion   based on 20 salaries  ₹ 32.0L   \n",
       "4                               Flipkart   based on 55 salaries  ₹ 31.0L   \n",
       "5                                 PayPal   based on 24 salaries  ₹ 30.0L   \n",
       "6  Servicenow Software Development India   based on 49 salaries  ₹ 26.0L   \n",
       "7                                 Amazon   based on 96 salaries  ₹ 43.0L   \n",
       "8                                Walmart   based on 80 salaries  ₹ 32.5L   \n",
       "9                               Arcesium   based on 51 salaries  ₹ 30.0L   \n",
       "\n",
       "   Maximum  Average  \n",
       "0  ₹ 40.0L  ₹ 26.6L  \n",
       "1  ₹ 45.0L  ₹ 23.3L  \n",
       "2  ₹ 30.0L  ₹ 21.2L  \n",
       "3  ₹ 32.0L  ₹ 21.1L  \n",
       "4  ₹ 31.0L  ₹ 21.1L  \n",
       "5  ₹ 30.0L  ₹ 20.1L  \n",
       "6  ₹ 26.0L  ₹ 19.6L  \n",
       "7  ₹ 43.0L  ₹ 19.4L  \n",
       "8  ₹ 32.5L  ₹ 19.1L  \n",
       "9  ₹ 30.0L  ₹ 18.7L  "
      ]
     },
     "execution_count": 104,
     "metadata": {},
     "output_type": "execute_result"
    }
   ],
   "source": [
    "# creat Data Frame of the company_name, No of salary, Minimum salary, Maximum salary, and Average salary: \n",
    "# Data analyst as DS\n",
    "DS_salary=pd.DataFrame()\n",
    "DS_salary['Company name']=noc\n",
    "DS_salary['No of salary']=nos\n",
    "DS_salary['Minimum']=minimum_salary\n",
    "DS_salary['Maximum']=maximum_salary\n",
    "DS_salary['Average']=average_salary\n",
    "DS_salary"
   ]
  },
  {
   "cell_type": "code",
   "execution_count": null,
   "id": "373841f3",
   "metadata": {},
   "outputs": [],
   "source": []
  }
 ],
 "metadata": {
  "kernelspec": {
   "display_name": "Python 3",
   "language": "python",
   "name": "python3"
  },
  "language_info": {
   "codemirror_mode": {
    "name": "ipython",
    "version": 3
   },
   "file_extension": ".py",
   "mimetype": "text/x-python",
   "name": "python",
   "nbconvert_exporter": "python",
   "pygments_lexer": "ipython3",
   "version": "3.8.8"
  }
 },
 "nbformat": 4,
 "nbformat_minor": 5
}
